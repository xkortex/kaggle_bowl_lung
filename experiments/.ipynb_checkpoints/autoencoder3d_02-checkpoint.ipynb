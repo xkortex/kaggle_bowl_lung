{
 "cells": [
  {
   "cell_type": "code",
   "execution_count": 1,
   "metadata": {
    "collapsed": true
   },
   "outputs": [],
   "source": [
    "%matplotlib inline"
   ]
  },
  {
   "cell_type": "code",
   "execution_count": 2,
   "metadata": {
    "collapsed": false
   },
   "outputs": [
    {
     "name": "stderr",
     "output_type": "stream",
     "text": [
      "Using TensorFlow backend.\n"
     ]
    }
   ],
   "source": [
    "\n",
    "import numpy as np\n",
    "import scipy as sp\n",
    "import matplotlib.pyplot as plt\n",
    "from scipy import signal, ndimage, misc\n",
    "\n",
    "from keras.layers import Input, Dense, Lambda, Flatten, Reshape, BatchNormalization, Dropout, GaussianNoise\n",
    "from keras.layers import Convolution2D, Deconvolution2D, MaxPooling2D, UpSampling2D\n",
    "from keras.layers import Convolution3D, UpSampling3D, MaxPooling3D\n",
    "from keras.models import Model\n",
    "from keras import regularizers\n",
    "from keras import backend as K_backend\n",
    "from keras import objectives\n",
    "from keras.datasets import mnist\n"
   ]
  },
  {
   "cell_type": "code",
   "execution_count": 3,
   "metadata": {
    "collapsed": true
   },
   "outputs": [],
   "source": [
    "from matplotlib.pyplot import imshow\n",
    "from skimage import measure, morphology\n",
    "from mpl_toolkits.mplot3d.art3d import Poly3DCollection"
   ]
  },
  {
   "cell_type": "code",
   "execution_count": 4,
   "metadata": {
    "collapsed": false
   },
   "outputs": [],
   "source": [
    "def nimshow(img):\n",
    "    plt.imshow(img, interpolation='none')\n",
    "    \n",
    "def conv(img, kern, renorm=False):\n",
    "    ift = signal.fftconvolve(img, kern, 'same')\n",
    "    if renorm:\n",
    "        ift /= np.amax(ift)\n",
    "    return ift\n",
    "\n",
    "def ricker2d(x, y, f=np.pi, n=0.5):\n",
    "    r = (x**2 + y**2)**n\n",
    "    return (1.0 - 2.0*(np.pi**2)*(f**2)*(r**2)) * np.exp(-(np.pi**2)*(f**2)*(r**2))\n",
    "\n",
    "def gauss2d(x, y, f=1, sig=1, n=0.5):\n",
    "    r = (x**2 + y**2)**n\n",
    "    return np.exp(-((f*r)**2)/(.25*sig**2))"
   ]
  },
  {
   "cell_type": "code",
   "execution_count": 5,
   "metadata": {
    "collapsed": false
   },
   "outputs": [],
   "source": [
    "def plot_3d(image, threshold=-300, azim=45, elev=45):\n",
    "    \n",
    "    # Position the scan upright, \n",
    "    # so the head of the patient would be at the top facing the camera\n",
    "    p = image.transpose(2,1,0)\n",
    "#     p = p[:,:,::-1]\n",
    "    \n",
    "    verts, faces = measure.marching_cubes(p, threshold)\n",
    "\n",
    "    fig = plt.figure(figsize=(10, 10))\n",
    "    ax = fig.add_subplot(111, projection='3d')\n",
    "\n",
    "    # Fancy indexing: `verts[faces]` to generate a collection of triangles\n",
    "    mesh = Poly3DCollection(verts[faces], alpha=0.1)\n",
    "    face_color = [0.5, 0.5, 1]\n",
    "    mesh.set_facecolor(face_color)\n",
    "    ax.add_collection3d(mesh)\n",
    "    ax.azim = azim\n",
    "    ax.elev = elev\n",
    "\n",
    "    ax.set_xlim(0, p.shape[0])\n",
    "    ax.set_ylim(0, p.shape[1])\n",
    "    ax.set_zlim(0, p.shape[2])\n",
    "\n",
    "    plt.show()\n",
    "    \n",
    "def splay(volume, rows=5, cols=5):\n",
    "    fig = plt.figure(figsize=(10, 10))\n",
    "    n = rows*cols\n",
    "    for i in range(rows):\n",
    "        for j in range(cols):\n",
    "            fig.add_subplot(rows, cols, cols*i+j+1)\n",
    "            plt.imshow(volume[cols*i+j])\n",
    "\n"
   ]
  },
  {
   "cell_type": "code",
   "execution_count": 6,
   "metadata": {
    "collapsed": true
   },
   "outputs": [],
   "source": [
    "(x_train, y_train), (x_test, y_test) = mnist.load_data()\n",
    "\n",
    "x_train = x_train.astype('float32') / 255.\n",
    "x_test = x_test.astype('float32') / 255.\n",
    "# x_train = np.reshape(x_train, (len(x_train), 1, 28, 28))\n",
    "# x_test = np.reshape(x_test, (len(x_test), 1, 28, 28))"
   ]
  },
  {
   "cell_type": "code",
   "execution_count": 7,
   "metadata": {
    "collapsed": false
   },
   "outputs": [
    {
     "data": {
      "text/plain": [
       "(60000, 28, 28)"
      ]
     },
     "execution_count": 7,
     "metadata": {},
     "output_type": "execute_result"
    }
   ],
   "source": [
    "x_train.shape"
   ]
  },
  {
   "cell_type": "code",
   "execution_count": 9,
   "metadata": {
    "collapsed": false
   },
   "outputs": [
    {
     "data": {
      "text/plain": [
       "(1000, 28, 28, 28)"
      ]
     },
     "execution_count": 9,
     "metadata": {},
     "output_type": "execute_result"
    }
   ],
   "source": [
    "x_train3d = np.load('x_train_mnist3d_1k.npy')\n",
    "x_train3d.shape"
   ]
  },
  {
   "cell_type": "code",
   "execution_count": 12,
   "metadata": {
    "collapsed": false
   },
   "outputs": [],
   "source": [
    "class Convo3d(object):\n",
    "    def __init__(self):\n",
    "        \"\"\"\n",
    "        5D tensor with shape: (samples, channels, conv_dim1, conv_dim2, conv_dim3) if dim_ordering='th' or \n",
    "        5D tensor with shape: (samples, conv_dim1, conv_dim2, conv_dim3, channels) if dim_ordering='tf'.\n",
    "        \"\"\"\n",
    "        input_img = Input(shape=(1, 28, 28, 28)) # (nChan, nFrames, xPix, yPix) or (nChan, z, x, y)\n",
    "\n",
    "        x = Convolution3D(16, 3, 3, 3, activation='relu', border_mode='same')(input_img)\n",
    "        x = MaxPooling3D((2, 2, 2), border_mode='same')(x)\n",
    "        x = Convolution3D(8, 3, 3, 3, activation='relu', border_mode='same')(x)\n",
    "        x = MaxPooling3D((2, 2, 2), border_mode='same')(x)\n",
    "        x = Convolution3D(8, 3, 3, 3, activation='relu', border_mode='same')(x)\n",
    "        self.encoded = MaxPooling3D((2, 2, 2), border_mode='same')(x)\n",
    "\n",
    "        # at this point the representation is (8, 4, 4) i.e. 128-dimensional\n",
    "\n",
    "        x = Convolution3D(8, 3, 3, 3, activation='relu', border_mode='same')(encoded)\n",
    "        x = UpSampling3D((2, 2, 2))(x)\n",
    "        x = Convolution3D(8, 3, 3, 3, activation='relu', border_mode='same')(x)\n",
    "        x = UpSampling3D((2, 2, 2))(x)\n",
    "        x = Convolution3D(16, 3, 3, 3, activation='relu')(x)\n",
    "        x = UpSampling3D((2, 2, 2))(x)\n",
    "        self.decoded = Convolution3D(1, 3, 3, 3, activation='sigmoid', border_mode='same')(x)\n",
    "        \n",
    "        self.autoencoder = Model(input_img, self.decoded)\n",
    "        \n",
    "        "
   ]
  },
  {
   "cell_type": "code",
   "execution_count": null,
   "metadata": {
    "collapsed": true
   },
   "outputs": [],
   "source": [
    "autoencoder.compile(optimizer='adadelta', loss='binary_crossentropy')"
   ]
  }
 ],
 "metadata": {
  "kernelspec": {
   "display_name": "Python 3",
   "language": "python",
   "name": "python3"
  },
  "language_info": {
   "codemirror_mode": {
    "name": "ipython",
    "version": 3
   },
   "file_extension": ".py",
   "mimetype": "text/x-python",
   "name": "python",
   "nbconvert_exporter": "python",
   "pygments_lexer": "ipython3",
   "version": "3.5.2"
  }
 },
 "nbformat": 4,
 "nbformat_minor": 2
}
