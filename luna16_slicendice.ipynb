{
 "cells": [
  {
   "cell_type": "code",
   "execution_count": 3,
   "metadata": {
    "_cell_guid": "1d12eab6-3340-fa57-84a1-91fe13886996",
    "collapsed": false,
    "deletable": true,
    "editable": true
   },
   "outputs": [],
   "source": [
    "%matplotlib inline\n",
    "\n",
    "import numpy as np # linear algebra\n",
    "import pandas as pd # data processing, CSV file I/O (e.g. pd.read_csv)\n",
    "import dicom\n",
    "import os\n",
    "import glob\n",
    "import scipy.ndimage\n",
    "import matplotlib.pyplot as plt\n",
    "import ipyvolume\n",
    "\n",
    "from tqdm import tqdm\n",
    "\n",
    "import SimpleITK as sitk\n",
    "from skimage import measure, morphology\n",
    "from mpl_toolkits.mplot3d.art3d import Poly3DCollection\n",
    "\n",
    "# Some constants \n",
    "INPUT_FOLDER = '/media/mike/tera/data/bowl17/kgsamples/'\n",
    "patients = os.listdir(INPUT_FOLDER)\n",
    "patients.sort()"
   ]
  },
  {
   "cell_type": "code",
   "execution_count": 8,
   "metadata": {
    "collapsed": true,
    "deletable": true,
    "editable": true
   },
   "outputs": [],
   "source": [
    "luna_path =  '/media/mike/tera/data/bowl17/luna/'\n",
    "luna_subset_path = '/media/mike/tera/data/bowl17/luna/subset0/'\n",
    "output_path = luna_path + 'output/'\n",
    "file_list=glob.glob(luna_subset_path+\"*.mhd\")\n",
    "\n",
    "#####################\n",
    "#\n",
    "# Helper function to get rows in data frame associated \n",
    "# with each file\n",
    "def get_origin(filepath):\n",
    "    \"\"\"Get the origin coordinates from a ITK file\"\"\"\n",
    "    itk_img = sitk.ReadImage(filepath)\n",
    "    origin = np.array(itk_img.GetOrigin())\n",
    "    return origin\n",
    "\n",
    "def coord_to_ary_idx(coord, origin, verbose=False):\n",
    "    \"\"\"Hackish helper function to convert the coordinate (from dicom/luna) and origin to numpy indicies\"\"\"\n",
    "    coord = np.array(coord)\n",
    "    origin = np.array(origin)\n",
    "    x, y, z = coord - origin\n",
    "    absidx = x, y, z # i have no idea why these things use such crazy indexing. but this will match the numpy slicing dims\n",
    "    if verbose:\n",
    "        print('Absolute index: {}'.format(absidx))\n",
    "    return list(map(int, absidx))\n",
    "\n",
    "def get_fiducial_slice(coord, edgelen=48):\n",
    "    ''' Gets the slicing indicies given a coordinate and edge length of a cube '''\n",
    "    x, y, z = map(int, coord)\n",
    "    m = edgelen // 2\n",
    "    print(x+m, x-m, y+m, y-m, z+m, z-m)\n",
    "    return (x-m, x+m, y-m, y+m, z-m, z+m)\n",
    "    \n",
    "def draw_fiducial_cube(ary_shape, coord, edgelen=48, dtype='int16'):\n",
    "    \"\"\"Draw a cube of size (E,E,E) located at coord, in a volume of shape ary_shape\"\"\"\n",
    "    ary = np.ones(ary_shape, dtype=dtype)\n",
    "    x0, x1, y0, y1, z0, z1 = get_fiducial_slice(coord, edgelen=edgelen)\n",
    "    ary[:z0] = 0\n",
    "    ary[z1:] = 0\n",
    "    ary[:,:y0] = 0\n",
    "    ary[:,y1:] = 0\n",
    "    ary[:,:,:x0] = 0\n",
    "    ary[:,:,x1:] = 0\n",
    "    print(np.sum(ary))\n",
    "    return ary\n",
    " \n",
    "def get_filename(case):\n",
    "    \"\"\"Get the filepath from the UID\"\"\"\n",
    "    global file_list # gross, yet effective...\n",
    "    for f in file_list:\n",
    "        if case in f:\n",
    "            return(f)\n",
    "        \n",
    "def strip_uid(path):\n",
    "    \"\"\"Helper to convert path to UID\"\"\"\n",
    "    fname = os.path.basename(path)\n",
    "    return fname.strip('.mhd.npy')"
   ]
  },
  {
   "cell_type": "code",
   "execution_count": 9,
   "metadata": {
    "collapsed": true,
    "deletable": true,
    "editable": true
   },
   "outputs": [],
   "source": [
    "def padcrop_vol(vol, newshape=[360, 360, 360], padtype='symmetric', value='origin'):\n",
    "    \"\"\"Pads and crops a volume in order to match the new shape. \n",
    "        padtype: {symmetric, origin} - pad symmetrically (on both sides) or only pad from the far index.\"\"\"\n",
    "    \n",
    "    vol2 = np.array(vol)\n",
    "    shape = vol.shape\n",
    "    z, y, x = shape\n",
    "    mids = [d // 2 for d in shape]\n",
    "    if value == 'origin':\n",
    "        constant_values = vol[0,0,0]\n",
    "        print('Origin: ', constant_values)\n",
    "    else:\n",
    "        try:\n",
    "            constant_values = float(value)\n",
    "        except ValueError:\n",
    "            raise ValueError('Invalid parameter \"value\" specified. Cannot coerce to symbol type or float')\n",
    "        \n",
    "    \n",
    "    for dim in range(3):\n",
    "        if shape[dim] < newshape[dim]:\n",
    "            pad_amt = (newshape[dim] - shape[dim]) // 2\n",
    "            parity = (shape[dim] & 1) ^ (newshape[dim] & 1)\n",
    "            if padtype[:3] == 'sym':\n",
    "                pad_tup = (pad_amt, pad_amt + parity) # \n",
    "            elif padtype[:3] == 'ori':\n",
    "                pad_tup = (0, pad_amt + pad_amt + parity) \n",
    "            else:\n",
    "                raise ValueError('Must specify valid padding mode: {\"symmetric\", \"origin\"}')\n",
    "            pad_list = [(0,0), (0,0), (0,0)]\n",
    "            pad_list[dim] = pad_tup\n",
    "            vol2 = np.pad(vol2, pad_list, mode='constant', constant_values=constant_values)\n",
    "        if shape[dim] > newshape[dim]:\n",
    "            if  padtype[:3] != 'sym':\n",
    "                raise NotImplementedError('Have not built this feature yet. Crop should be able to handle symmetric or origin')\n",
    "            slc_amt = (shape[dim] - newshape[dim]) // 2\n",
    "            parity = (shape[dim] & 1) ^ (newshape[dim] & 1)\n",
    "            slc_tup = (slc_amt, shape[dim] - slc_amt - parity) # \n",
    "            null1, vol2, null2 = np.split(vol2, slc_tup, dim)\n",
    "\n",
    "    return vol2\n",
    "\n",
    "def subsect(a, edge_length=48, stride=0.5, serialize=True, verbose=False):\n",
    "    '''Take a volume and chop it up to equal sized volumes of side edge_length. \n",
    "        serialize: if true, return an (N, E, E, E) dim array, E=edge, if false, return (M,N,P,E,E,E) dim array, where M, N, and P are the coordinates of the subsections in space'''\n",
    "    nx, ny, nz = a.shape\n",
    "    new_idx = [(nn // edge_length) if (nn%edge_length)==0 else (nn// edge_length)+1 for nn in a.shape ] # deal with the edge case of evenly divisible dim length\n",
    "    if verbose: \n",
    "        print('New indicies: {}'.format(new_idx))\n",
    "    new_shape = [edge_length*idx for idx in new_idx]\n",
    "    a2 = padcrop_vol(a, newshape=new_shape)\n",
    "    b = np.array(np.split(a2, new_idx[0], axis=0))\n",
    "    b = np.array(np.split(b, new_idx[1], axis=2))\n",
    "    b = np.array(np.split(b, new_idx[2], axis=4))\n",
    "    if serialize:\n",
    "        b = np.reshape(b, (-1, edge_length, edge_length, edge_length))\n",
    "\n",
    "    return b, new_idx\n",
    "\n",
    "def subslice(a, coord, edge_length=48, order='zyx'):\n",
    "    '''Take a volume and return a cube of side edge_length, centered at coord. '''\n",
    "    assert len(coord) == 3, 'Must be a 3d dimension array-like'\n",
    "    m = edge_length // 2\n",
    "    if order == 'zyx':\n",
    "        z, y, x = coord\n",
    "    else:\n",
    "        x, y, z = coord\n",
    "    return a[x-m:x+m, y-m:y+m, z-m:z+m]\n",
    "\n",
    "def cube(a):\n",
    "    '''Reshape an array into a cubic shape'''\n",
    "    n = a.shape[0]\n",
    "    d = np.around(n**(1/3))\n",
    "    d = int(d)\n",
    "    assert d**3 == n, 'Dimensions are not an even cube!'\n",
    "    return a.reshape((d,d,d))\n",
    "\n",
    "def random_subslice(a, edge_length=48, order='zyx', returnCoord=False):\n",
    "    m = edge_length // 2\n",
    "    T, U, V = a.shape\n",
    "    t = np.random.randint(m, T-m)\n",
    "    u = np.random.randint(m, U-m)\n",
    "    v = np.random.randint(m, V-m)\n",
    "    subvol = subslice(a, (t,u,v), edge_length=edge_length, order=order)\n",
    "    if returnCoord:\n",
    "        return subvol, (t,u,v)\n",
    "    return subvol\n",
    "\n",
    "\n",
    "\n",
    "def safe_random_subslice(a, coord, rad=48, edge_length=48, order='zyx', returnCoord=False):\n",
    "    \"\"\"Deliberately avoid a volume too close to a known coordinate (e.g. tumor)\"\"\"\n",
    "    m = edge_length // 2\n",
    "    T, U, V = a.shape\n",
    "    t,u,v = coord # deliberately start with the loop condition\n",
    "    newcoord = (t,u,v)\n",
    "    while sum([(a-b)**2 for (a,b) in zip(coord, newcoord)])**0.5 < rad:\n",
    "        t = np.random.randint(m, T-m)\n",
    "        u = np.random.randint(m, U-m)\n",
    "        v = np.random.randint(m, V-m)\n",
    "        newcoord = (t,u,v)\n",
    "        \n",
    "    subvol = subslice(a, (t,u,v), edge_length=edge_length, order=order)\n",
    "    if returnCoord:\n",
    "        return subvol, (t,u,v)\n",
    "    return subvol\n",
    "\n",
    "    "
   ]
  },
  {
   "cell_type": "code",
   "execution_count": 10,
   "metadata": {
    "collapsed": true,
    "deletable": true,
    "editable": true
   },
   "outputs": [],
   "source": [
    "def coord_to_ravel_idx3(shape, xyz, order='zyx'):\n",
    "    '''3D specific version. Takes a coordinate (as x y z index notation) and returns the absolute (raveled) single number index\n",
    "    order: {'xyz', 'zyx'}\n",
    "    '''\n",
    "    n0, n1, n2 = shape\n",
    "    if order == 'zyx':\n",
    "        z, y, x = xyz\n",
    "    else:\n",
    "        x, y, z = xyz\n",
    "    idx = z*n2*n1 + y*n2 + x\n",
    "    return idx\n",
    "\n",
    "def coord_to_ravel_idx(shape, coord):\n",
    "    '''Takes a coordinate (as x y z index notation) and returns the absolute (raveled) single number index'''\n",
    "\n",
    "    assert len(shape) == len(coord), 'Must have matching dimension'\n",
    "    N = len(shape)\n",
    "    idx = coord[0]\n",
    "    for i in range(1, N):\n",
    "        idx += coord[i]*np.prod(shape[N-i:])\n",
    "        print(i, coord[i], shape[N-i:])\n",
    "    \n",
    "    return idx\n",
    "\n",
    "def ravel_idx_to_coord(shape, idx):\n",
    "    '''Given a shape and the absolute index, return the x y z coordinate index'''\n",
    "    N = len(shape)\n",
    "    coefs = []\n",
    "    coords = []\n",
    "    r = idx\n",
    "    for i in range(N-1, 0, -1):\n",
    "        coef = shape[N-i:]\n",
    "        coefs.append(coef)\n",
    "        q, r = divmod(r, np.prod(coef))\n",
    "        coords.append(q)\n",
    "        print(q,r)\n",
    "    coords.append(r)\n",
    "    coords.reverse()\n",
    "    \n",
    "    return coefs, coords\n",
    "\n",
    "def coord_to_subcoord(subshape, coord):\n",
    "    '''Gives the sub-cube 3d index for a subsected volume'''\n",
    "    new_idx = []\n",
    "    new_subcoord = []\n",
    "    for i in range(3):\n",
    "        q, r = divmod(coord[i], subshape[i])\n",
    "        new_idx.append(q)\n",
    "        new_subcoord.append(r)\n",
    "    return new_idx, new_subcoord\n"
   ]
  },
  {
   "cell_type": "code",
   "execution_count": 11,
   "metadata": {
    "collapsed": false,
    "deletable": true,
    "editable": true
   },
   "outputs": [],
   "source": [
    "#\n",
    "# The locations of the nodes\n",
    "df_node = pd.read_csv(luna_path+\"annotations.csv\")\n",
    "df_node[\"file\"] = df_node[\"seriesuid\"].apply(get_filename)\n",
    "df_node = df_node.dropna()"
   ]
  },
  {
   "cell_type": "code",
   "execution_count": 13,
   "metadata": {
    "collapsed": false,
    "deletable": true,
    "editable": true
   },
   "outputs": [
    {
     "data": {
      "text/html": [
       "<div>\n",
       "<table border=\"1\" class=\"dataframe\">\n",
       "  <thead>\n",
       "    <tr style=\"text-align: right;\">\n",
       "      <th></th>\n",
       "      <th>seriesuid</th>\n",
       "      <th>coordX</th>\n",
       "      <th>coordY</th>\n",
       "      <th>coordZ</th>\n",
       "      <th>diameter_mm</th>\n",
       "      <th>file</th>\n",
       "    </tr>\n",
       "  </thead>\n",
       "  <tbody>\n",
       "    <tr>\n",
       "      <th>1011</th>\n",
       "      <td>1.3.6.1.4.1.14519.5.2.1.6279.6001.511347030803...</td>\n",
       "      <td>60.775061</td>\n",
       "      <td>74.123970</td>\n",
       "      <td>-214.782347</td>\n",
       "      <td>25.233202</td>\n",
       "      <td>/media/mike/tera/data/bowl17/luna/subset0/1.3....</td>\n",
       "    </tr>\n",
       "    <tr>\n",
       "      <th>1141</th>\n",
       "      <td>1.3.6.1.4.1.14519.5.2.1.6279.6001.905371958588...</td>\n",
       "      <td>109.116637</td>\n",
       "      <td>48.589511</td>\n",
       "      <td>-120.892058</td>\n",
       "      <td>21.583112</td>\n",
       "      <td>/media/mike/tera/data/bowl17/luna/subset0/1.3....</td>\n",
       "    </tr>\n",
       "    <tr>\n",
       "      <th>1084</th>\n",
       "      <td>1.3.6.1.4.1.14519.5.2.1.6279.6001.752756872840...</td>\n",
       "      <td>56.393154</td>\n",
       "      <td>67.680087</td>\n",
       "      <td>-64.674453</td>\n",
       "      <td>19.653877</td>\n",
       "      <td>/media/mike/tera/data/bowl17/luna/subset0/1.3....</td>\n",
       "    </tr>\n",
       "    <tr>\n",
       "      <th>420</th>\n",
       "      <td>1.3.6.1.4.1.14519.5.2.1.6279.6001.202811684116...</td>\n",
       "      <td>-83.158083</td>\n",
       "      <td>-21.678997</td>\n",
       "      <td>-97.004376</td>\n",
       "      <td>18.783233</td>\n",
       "      <td>/media/mike/tera/data/bowl17/luna/subset0/1.3....</td>\n",
       "    </tr>\n",
       "    <tr>\n",
       "      <th>336</th>\n",
       "      <td>1.3.6.1.4.1.14519.5.2.1.6279.6001.187451715205...</td>\n",
       "      <td>94.635117</td>\n",
       "      <td>-17.372059</td>\n",
       "      <td>-204.396127</td>\n",
       "      <td>17.753232</td>\n",
       "      <td>/media/mike/tera/data/bowl17/luna/subset0/1.3....</td>\n",
       "    </tr>\n",
       "  </tbody>\n",
       "</table>\n",
       "</div>"
      ],
      "text/plain": [
       "                                              seriesuid      coordX  \\\n",
       "1011  1.3.6.1.4.1.14519.5.2.1.6279.6001.511347030803...   60.775061   \n",
       "1141  1.3.6.1.4.1.14519.5.2.1.6279.6001.905371958588...  109.116637   \n",
       "1084  1.3.6.1.4.1.14519.5.2.1.6279.6001.752756872840...   56.393154   \n",
       "420   1.3.6.1.4.1.14519.5.2.1.6279.6001.202811684116...  -83.158083   \n",
       "336   1.3.6.1.4.1.14519.5.2.1.6279.6001.187451715205...   94.635117   \n",
       "\n",
       "         coordY      coordZ  diameter_mm  \\\n",
       "1011  74.123970 -214.782347    25.233202   \n",
       "1141  48.589511 -120.892058    21.583112   \n",
       "1084  67.680087  -64.674453    19.653877   \n",
       "420  -21.678997  -97.004376    18.783233   \n",
       "336  -17.372059 -204.396127    17.753232   \n",
       "\n",
       "                                                   file  \n",
       "1011  /media/mike/tera/data/bowl17/luna/subset0/1.3....  \n",
       "1141  /media/mike/tera/data/bowl17/luna/subset0/1.3....  \n",
       "1084  /media/mike/tera/data/bowl17/luna/subset0/1.3....  \n",
       "420   /media/mike/tera/data/bowl17/luna/subset0/1.3....  \n",
       "336   /media/mike/tera/data/bowl17/luna/subset0/1.3....  "
      ]
     },
     "execution_count": 13,
     "metadata": {},
     "output_type": "execute_result"
    }
   ],
   "source": [
    "dfs = df_node.sort_values(by='diameter_mm', ascending=0)\n",
    "dfs.head()"
   ]
  },
  {
   "cell_type": "code",
   "execution_count": 14,
   "metadata": {
    "collapsed": false,
    "deletable": true,
    "editable": true
   },
   "outputs": [
    {
     "name": "stdout",
     "output_type": "stream",
     "text": [
      "112\n",
      "178\n"
     ]
    }
   ],
   "source": [
    "print(len(df_node))\n",
    "resamp_path = '/media/mike/tera/data/bowl17/resampled_images/'\n",
    "resamps = glob.glob(resamp_path + '*.mhd.npy')\n",
    "print(len(resamps))"
   ]
  },
  {
   "cell_type": "code",
   "execution_count": 15,
   "metadata": {
    "collapsed": true,
    "deletable": true,
    "editable": true
   },
   "outputs": [],
   "source": [
    "uids = [strip_uid(path) for path in resamps]\n",
    "# sum([uid in uids for uid in dfs['seriesuid'].values]) # check if the data is there\n",
    "# sum([dfs['seriesuid'].values[0] in path for path in resamps])"
   ]
  },
  {
   "cell_type": "code",
   "execution_count": 16,
   "metadata": {
    "collapsed": false,
    "deletable": true,
    "editable": true
   },
   "outputs": [],
   "source": [
    "biggest = dfs.iloc[0]"
   ]
  },
  {
   "cell_type": "code",
   "execution_count": null,
   "metadata": {
    "collapsed": true,
    "deletable": true,
    "editable": true
   },
   "outputs": [],
   "source": []
  },
  {
   "cell_type": "code",
   "execution_count": null,
   "metadata": {
    "collapsed": true,
    "deletable": true,
    "editable": true
   },
   "outputs": [],
   "source": []
  },
  {
   "cell_type": "code",
   "execution_count": null,
   "metadata": {
    "collapsed": true,
    "deletable": true,
    "editable": true
   },
   "outputs": [],
   "source": []
  },
  {
   "cell_type": "code",
   "execution_count": 17,
   "metadata": {
    "collapsed": false,
    "deletable": true,
    "editable": true
   },
   "outputs": [],
   "source": [
    "def get_tumor_volume_from_row(row, resamp_path, edgelength=48, verbose=False):\n",
    "#     row = df.iloc[idx]\n",
    "    nx, ny, nz = row['coordX'], row['coordY'], row['coordZ']\n",
    "    origin = get_origin(luna_subset_path + row['seriesuid'] + '.mhd')\n",
    "    absidx = coord_to_ary_idx((nx, ny, nz), origin)\n",
    "    vol = np.load(resamp_path + row['seriesuid'] + '.mhd.npy')\n",
    "    subvol = subslice(vol, absidx, edge_length=edgelength)\n",
    "    if verbose:\n",
    "        print('Origin: {}'.format(origin))\n",
    "        print('Abs Index: {}'.format(absidx))\n",
    "        print('Vol shape: {}'.format(vol.shape))\n",
    "    return subvol\n",
    "\n",
    "def get_multi_volume_from_row(row, resamp_path, k=4, edgelength=48, verbose=False):\n",
    "#     row = df.iloc[idx]\n",
    "    nx, ny, nz = row['coordX'], row['coordY'], row['coordZ']\n",
    "    origin = get_origin(luna_subset_path + row['seriesuid'] + '.mhd')\n",
    "    absidx = coord_to_ary_idx((nx, ny, nz), origin)\n",
    "    vol = np.load(resamp_path + row['seriesuid'] + '.mhd.npy')\n",
    "    subvol = subslice(vol, absidx, edge_length=edgelength)\n",
    "    if verbose:\n",
    "        print('Origin: {}'.format(origin))\n",
    "        print('Abs Index: {}'.format(absidx))\n",
    "        print('Vol shape: {}'.format(vol.shape))\n",
    "        \n",
    "    negs = []\n",
    "    for i in range(k):\n",
    "        rv = safe_random_subslice(vol, absidx)\n",
    "        negs.append(rv)\n",
    "    return subvol, negs\n",
    "\n",
    "def get_tumor_randseries_from_row(row, resamp_path, edgelength=48, nsamp=20, ratio=0.3, verbose=False):\n",
    "    \"\"\"Get a bunch of frames from the tumor region\"\"\"\n",
    "#     row = df.iloc[idx]\n",
    "    nx, ny, nz = row['coordX'], row['coordY'], row['coordZ']\n",
    "    origin = get_origin(luna_subset_path + row['seriesuid'] + '.mhd')\n",
    "    absidx = coord_to_ary_idx((nx, ny, nz), origin)\n",
    "    vol = np.load(resamp_path + row['seriesuid'] + '.mhd.npy')\n",
    "    m = int(edgelength * ratio)\n",
    "    subvols = []\n",
    "    for i in range(nsamp):\n",
    "        offset = np.random.randint(0, m, 3)\n",
    "        subvol = subslice(vol, absidx + offset, edge_length=edgelength)\n",
    "        if subvol.shape == (edgelength, edgelength, edgelength):\n",
    "            subvols.append(subvol)\n",
    "        if verbose:\n",
    "            print('Origin: {}'.format(origin))\n",
    "            print('Abs Index: {}'.format(absidx))\n",
    "            print('Vol shape: {}'.format(vol.shape))\n",
    "    return subvols\n",
    "\n"
   ]
  },
  {
   "cell_type": "code",
   "execution_count": 18,
   "metadata": {
    "collapsed": false,
    "deletable": true,
    "editable": true
   },
   "outputs": [],
   "source": [
    "# mask = np.ones(pix_resampled.shape)\n",
    "# mz, my, mx = pix_resampled.shape\n",
    "# print(mz, my, mx)\n",
    "# mask[140:] = 0\n",
    "# mask[:110] = 0\n",
    "# mask[:,:50] = 0\n",
    "# mask[:,my-50:] = 0\n",
    "# mask[:,:,mx-50:] = 0\n",
    "# mask[:,:,:50] = 0\n",
    "# mask2 = np.less(pix_resampled,1267)\n",
    "# mask3 = np.greater(pix_resampled,400)\n",
    "\n",
    "# ipyvolume.quickvolshow(pix_resampled*mask*mask3, width=1000, height=1000, level=[.26, .3, .85], level_width=[.5, .1, .05])"
   ]
  },
  {
   "cell_type": "code",
   "execution_count": 19,
   "metadata": {
    "collapsed": false,
    "deletable": true,
    "editable": true
   },
   "outputs": [
    {
     "name": "stdout",
     "output_type": "stream",
     "text": [
      "(368, 360, 360) -2472 3652 -814.075541801\n"
     ]
    }
   ],
   "source": [
    "ary = np.load(resamp_path + biggest['seriesuid'] + '.mhd.npy')\n",
    "print(ary.shape, np.amin(ary), np.amax(ary), np.mean(ary))"
   ]
  },
  {
   "cell_type": "code",
   "execution_count": 20,
   "metadata": {
    "collapsed": false,
    "deletable": true,
    "editable": true
   },
   "outputs": [
    {
     "data": {
      "text/plain": [
       "seriesuid      1.3.6.1.4.1.14519.5.2.1.6279.6001.511347030803...\n",
       "coordX                                                   60.7751\n",
       "coordY                                                    74.124\n",
       "coordZ                                                  -214.782\n",
       "diameter_mm                                              25.2332\n",
       "file           /media/mike/tera/data/bowl17/luna/subset0/1.3....\n",
       "Name: 1011, dtype: object"
      ]
     },
     "execution_count": 20,
     "metadata": {},
     "output_type": "execute_result"
    }
   ],
   "source": [
    "biggest"
   ]
  },
  {
   "cell_type": "code",
   "execution_count": 21,
   "metadata": {
    "collapsed": false,
    "deletable": true,
    "editable": true
   },
   "outputs": [
    {
     "data": {
      "text/plain": [
       "(60.775060529999998, 74.123969599999995, -214.78234660000001)"
      ]
     },
     "execution_count": 21,
     "metadata": {},
     "output_type": "execute_result"
    }
   ],
   "source": [
    "nx, ny, nz = biggest['coordX'], biggest['coordY'], biggest['coordZ']\n",
    "nx, ny, nz"
   ]
  },
  {
   "cell_type": "code",
   "execution_count": 22,
   "metadata": {
    "collapsed": false,
    "deletable": true,
    "editable": true
   },
   "outputs": [
    {
     "data": {
      "text/plain": [
       "array([-182.100006, -195.600006, -382.5     ])"
      ]
     },
     "execution_count": 22,
     "metadata": {},
     "output_type": "execute_result"
    }
   ],
   "source": [
    "origin = get_origin(luna_subset_path + biggest['seriesuid'] + '.mhd')\n",
    "origin"
   ]
  },
  {
   "cell_type": "code",
   "execution_count": 23,
   "metadata": {
    "collapsed": false,
    "deletable": true,
    "editable": true
   },
   "outputs": [
    {
     "data": {
      "text/plain": [
       "[242, 269, 167]"
      ]
     },
     "execution_count": 23,
     "metadata": {},
     "output_type": "execute_result"
    }
   ],
   "source": [
    "absidx = coord_to_ary_idx((nx, ny, nz), origin)\n",
    "absidx"
   ]
  },
  {
   "cell_type": "code",
   "execution_count": 24,
   "metadata": {
    "collapsed": false,
    "deletable": true,
    "editable": true
   },
   "outputs": [
    {
     "name": "stdout",
     "output_type": "stream",
     "text": [
      "70 50 84 64 -204 -224\n",
      "8000\n",
      "49 1 49 1 49 1\n",
      "110592\n",
      "257 227 284 254 182 152\n",
      "27000\n"
     ]
    }
   ],
   "source": [
    "fid = draw_fiducial_cube(ary.shape, (nx,ny,nz), 20)\n",
    "nporig = draw_fiducial_cube(ary.shape, (25,25,25))\n",
    "tumor = draw_fiducial_cube(ary.shape, absidx, 30)"
   ]
  },
  {
   "cell_type": "code",
   "execution_count": 25,
   "metadata": {
    "collapsed": false,
    "deletable": true,
    "editable": true
   },
   "outputs": [],
   "source": [
    "# vol = np.array(ary, dtype=np.int16) \n",
    "# vol +=  5000*nporig + 5000*fid +5000*tumor\n",
    "# # vol = np.array(vol, dtype=np.int16)\n",
    "# print(type(vol))\n",
    "# print(vol.shape, vol.dtype)"
   ]
  },
  {
   "cell_type": "code",
   "execution_count": 26,
   "metadata": {
    "collapsed": false,
    "deletable": true,
    "editable": true
   },
   "outputs": [],
   "source": [
    "# plt.figure(figsize=(8,8))\n",
    "# plt.imshow(vol[absidx[2]])"
   ]
  },
  {
   "cell_type": "code",
   "execution_count": 27,
   "metadata": {
    "collapsed": false,
    "deletable": true,
    "editable": true
   },
   "outputs": [
    {
     "data": {
      "text/plain": [
       "(368, 360, 360)"
      ]
     },
     "execution_count": 27,
     "metadata": {},
     "output_type": "execute_result"
    }
   ],
   "source": [
    "ary.shape"
   ]
  },
  {
   "cell_type": "code",
   "execution_count": 28,
   "metadata": {
    "collapsed": false,
    "deletable": true,
    "editable": true
   },
   "outputs": [
    {
     "data": {
      "text/plain": [
       "384"
      ]
     },
     "execution_count": 28,
     "metadata": {},
     "output_type": "execute_result"
    }
   ],
   "source": [
    "8*48"
   ]
  },
  {
   "cell_type": "code",
   "execution_count": 29,
   "metadata": {
    "collapsed": false,
    "deletable": true,
    "editable": true
   },
   "outputs": [
    {
     "name": "stdout",
     "output_type": "stream",
     "text": [
      "New indicies: [8, 8, 8]\n",
      "Origin:  -2048\n"
     ]
    },
    {
     "data": {
      "text/plain": [
       "(8, 8, 8, 48, 48, 48)"
      ]
     },
     "execution_count": 29,
     "metadata": {},
     "output_type": "execute_result"
    }
   ],
   "source": [
    "volist, new_idx = subsect(ary, 48, verbose=True, serialize=False)\n",
    "volist.shape"
   ]
  },
  {
   "cell_type": "code",
   "execution_count": 30,
   "metadata": {
    "collapsed": false,
    "deletable": true,
    "editable": true
   },
   "outputs": [
    {
     "data": {
      "text/plain": [
       "<matplotlib.image.AxesImage at 0x7f8962f3fb70>"
      ]
     },
     "execution_count": 30,
     "metadata": {},
     "output_type": "execute_result"
    },
    {
     "data": {
      "image/png": "[encoded data removed]",
      "text/plain": [
       "<matplotlib.figure.Figure at 0x7f89871029e8>"
      ]
     },
     "metadata": {},
     "output_type": "display_data"
    }
   ],
   "source": [
    "plt.imshow((ary+tumor)[absidx[0]])"
   ]
  },
  {
   "cell_type": "code",
   "execution_count": 31,
   "metadata": {
    "collapsed": false,
    "deletable": true,
    "editable": true
   },
   "outputs": [
    {
     "name": "stdout",
     "output_type": "stream",
     "text": [
      "(368, 360, 360) int16\n"
     ]
    }
   ],
   "source": [
    "vol = np.array(ary, dtype=np.int16) \n",
    "vol +=  5000*tumor\n",
    "\n",
    "print(vol.shape, vol.dtype)"
   ]
  },
  {
   "cell_type": "code",
   "execution_count": 32,
   "metadata": {
    "collapsed": false,
    "deletable": true,
    "editable": true
   },
   "outputs": [
    {
     "data": {
      "text/plain": [
       "<matplotlib.image.AxesImage at 0x7f89651dac88>"
      ]
     },
     "execution_count": 32,
     "metadata": {},
     "output_type": "execute_result"
    },
    {
     "data": {
      "image/png": "[encoded data removed]",
      "text/plain": [
       "<matplotlib.figure.Figure at 0x7f898631b898>"
      ]
     },
     "metadata": {},
     "output_type": "display_data"
    }
   ],
   "source": [
    "plt.imshow(vol[absidx[2]])"
   ]
  },
  {
   "cell_type": "code",
   "execution_count": 33,
   "metadata": {
    "collapsed": false,
    "deletable": true,
    "editable": true
   },
   "outputs": [
    {
     "name": "stdout",
     "output_type": "stream",
     "text": [
      "[242, 269, 167]\n"
     ]
    }
   ],
   "source": [
    "# The point we are trying to hit in xyz notation is: \n",
    "print(absidx)"
   ]
  },
  {
   "cell_type": "code",
   "execution_count": 34,
   "metadata": {
    "collapsed": false,
    "deletable": true,
    "editable": true
   },
   "outputs": [
    {
     "name": "stdout",
     "output_type": "stream",
     "text": [
      "New indicies: [8, 8, 8]\n",
      "Origin:  -2048\n",
      "New indicies: [8, 8, 8]\n",
      "Origin:  -2048\n",
      "[8, 8, 8]\n"
     ]
    }
   ],
   "source": [
    "volist2, new_idx2 = subsect(ary, 48, verbose=True, serialize=False)\n",
    "volist3, new_idx3 = subsect(ary, 48, verbose=True, serialize=True)\n",
    "\n",
    "print(new_idx2)"
   ]
  },
  {
   "cell_type": "code",
   "execution_count": 35,
   "metadata": {
    "collapsed": false,
    "deletable": true,
    "editable": true
   },
   "outputs": [
    {
     "data": {
      "text/plain": [
       "([5, 5, 3], [2, 29, 23])"
      ]
     },
     "execution_count": 35,
     "metadata": {},
     "output_type": "execute_result"
    }
   ],
   "source": [
    "idx_a, idx_b = coord_to_subcoord([48,]*3, absidx)\n",
    "idx_a, idx_b"
   ]
  },
  {
   "cell_type": "code",
   "execution_count": 36,
   "metadata": {
    "collapsed": false,
    "deletable": true,
    "editable": true
   },
   "outputs": [
    {
     "data": {
      "text/plain": [
       "<matplotlib.image.AxesImage at 0x7f896514bc18>"
      ]
     },
     "execution_count": 36,
     "metadata": {},
     "output_type": "execute_result"
    },
    {
     "data": {
      "image/png": "[encoded data removed]",
      "text/plain": [
       "<matplotlib.figure.Figure at 0x7f89d4637be0>"
      ]
     },
     "metadata": {},
     "output_type": "display_data"
    }
   ],
   "source": [
    "x, y, z = idx_a\n",
    "plt.imshow(volist2[x,y,z][23])"
   ]
  },
  {
   "cell_type": "code",
   "execution_count": 37,
   "metadata": {
    "collapsed": false,
    "deletable": true,
    "editable": true
   },
   "outputs": [
    {
     "name": "stdout",
     "output_type": "stream",
     "text": [
      "1 5 [8]\n",
      "2 3 [8, 8]\n",
      "237\n"
     ]
    }
   ],
   "source": [
    "ravel_idx = coord_to_ravel_idx(new_idx3, idx_a)\n",
    "print(ravel_idx)"
   ]
  },
  {
   "cell_type": "code",
   "execution_count": 38,
   "metadata": {
    "collapsed": false,
    "deletable": true,
    "editable": true
   },
   "outputs": [
    {
     "data": {
      "text/plain": [
       "<matplotlib.image.AxesImage at 0x7f896512e588>"
      ]
     },
     "execution_count": 38,
     "metadata": {},
     "output_type": "execute_result"
    },
    {
     "data": {
      "image/png": "[encoded data removed]",
      "text/plain": [
       "<matplotlib.figure.Figure at 0x7f896517e898>"
      ]
     },
     "metadata": {},
     "output_type": "display_data"
    }
   ],
   "source": [
    "plt.imshow(volist3[ravel_idx][23])"
   ]
  },
  {
   "cell_type": "code",
   "execution_count": 39,
   "metadata": {
    "collapsed": false,
    "deletable": true,
    "editable": true
   },
   "outputs": [
    {
     "name": "stdout",
     "output_type": "stream",
     "text": [
      "[5, 5, 3]\n",
      "363\n"
     ]
    }
   ],
   "source": [
    "\n",
    "\n",
    "print(idx_a)\n",
    "ravel_idx = coord_to_ravel_idx3(new_idx3, idx_a)\n",
    "print(ravel_idx)"
   ]
  },
  {
   "cell_type": "code",
   "execution_count": 40,
   "metadata": {
    "collapsed": false,
    "deletable": true,
    "editable": true
   },
   "outputs": [
    {
     "data": {
      "application/vnd.jupyter.widget-view+json": {
       "model_id": "e24f094c30584d67aa14160d82d8d82d"
      }
     },
     "metadata": {},
     "output_type": "display_data"
    }
   ],
   "source": [
    "ipyvolume.quickvolshow(volist3[ravel_idx], width=500, height=500)"
   ]
  },
  {
   "cell_type": "code",
   "execution_count": 34,
   "metadata": {
    "collapsed": false,
    "deletable": true,
    "editable": true
   },
   "outputs": [
    {
     "name": "stderr",
     "output_type": "stream",
     "text": [
      "Widget Javascript not detected.  It may not be installed or enabled properly.\n"
     ]
    },
    {
     "data": {
      "application/vnd.jupyter.widget-view+json": {
       "model_id": "dca2b724dc994d20a912e64907d6f480"
      }
     },
     "metadata": {},
     "output_type": "display_data"
    }
   ],
   "source": [
    "ipyvolume.quickvolshow(volist2[x,y,z], width=500, height=500)"
   ]
  },
  {
   "cell_type": "code",
   "execution_count": 35,
   "metadata": {
    "collapsed": false,
    "deletable": true,
    "editable": true
   },
   "outputs": [
    {
     "name": "stderr",
     "output_type": "stream",
     "text": [
      "/home/mike/ve/ml/lib/python3.5/site-packages/ipyvolume/serialize.py:21: RuntimeWarning: invalid value encountered in true_divide\n",
      "  gradient = gradient / np.sqrt(gradient[0]**2 + gradient[1]**2 + gradient[2]**2)\n",
      "Widget Javascript not detected.  It may not be installed or enabled properly.\n"
     ]
    },
    {
     "data": {
      "application/vnd.jupyter.widget-view+json": {
       "model_id": "723e319d5d614047a528a32d77c3cda4"
      }
     },
     "metadata": {},
     "output_type": "display_data"
    }
   ],
   "source": [
    "# ipyvolume.quickvolshow(subslice(ary, absidx), width=500, height=500)\n",
    "ipyvolume.quickvolshow(safe_random_subslice(ary, absidx), width=500, height=500)"
   ]
  },
  {
   "cell_type": "code",
   "execution_count": 36,
   "metadata": {
    "collapsed": false,
    "deletable": true,
    "editable": true
   },
   "outputs": [],
   "source": [
    "vv = volist[7]\n",
    "# ipyvolume.quickvolshow(vv, width=500, height=500, level_width=[.1, .1, .05], level=[.3, .46, .55], opacity=[.01, .05, .05], )\n"
   ]
  },
  {
   "cell_type": "code",
   "execution_count": 37,
   "metadata": {
    "collapsed": false,
    "deletable": true,
    "editable": true
   },
   "outputs": [
    {
     "data": {
      "text/plain": [
       "[0, 48, 96, 144, 192, 240, 288, 336, 384, 432, 480, 528, 576]"
      ]
     },
     "execution_count": 37,
     "metadata": {},
     "output_type": "execute_result"
    }
   ],
   "source": [
    "list(range(0,600, 48))"
   ]
  },
  {
   "cell_type": "code",
   "execution_count": 38,
   "metadata": {
    "collapsed": false,
    "deletable": true,
    "editable": true
   },
   "outputs": [
    {
     "name": "stdout",
     "output_type": "stream",
     "text": [
      "(12, 12, 12)\n"
     ]
    },
    {
     "data": {
      "text/plain": [
       "array([[[   0,    1,    2, ...,    9,   10,   11],\n",
       "        [  12,   13,   14, ...,   21,   22,   23],\n",
       "        [  24,   25,   26, ...,   33,   34,   35],\n",
       "        ..., \n",
       "        [ 108,  109,  110, ...,  117,  118,  119],\n",
       "        [ 120,  121,  122, ...,  129,  130,  131],\n",
       "        [ 132,  133,  134, ...,  141,  142,  143]],\n",
       "\n",
       "       [[ 144,  145,  146, ...,  153,  154,  155],\n",
       "        [ 156,  157,  158, ...,  165,  166,  167],\n",
       "        [ 168,  169,  170, ...,  177,  178,  179],\n",
       "        ..., \n",
       "        [ 252,  253,  254, ...,  261,  262,  263],\n",
       "        [ 264,  265,  266, ...,  273,  274,  275],\n",
       "        [ 276,  277,  278, ...,  285,  286,  287]],\n",
       "\n",
       "       [[ 288,  289,  290, ...,  297,  298,  299],\n",
       "        [ 300,  301,  302, ...,  309,  310,  311],\n",
       "        [ 312,  313,  314, ...,  321,  322,  323],\n",
       "        ..., \n",
       "        [ 396,  397,  398, ...,  405,  406,  407],\n",
       "        [ 408,  409,  410, ...,  417,  418,  419],\n",
       "        [ 420,  421,  422, ...,  429,  430,  431]],\n",
       "\n",
       "       ..., \n",
       "       [[1296, 1297, 1298, ..., 1305, 1306, 1307],\n",
       "        [1308, 1309, 1310, ..., 1317, 1318, 1319],\n",
       "        [1320, 1321, 1322, ..., 1329, 1330, 1331],\n",
       "        ..., \n",
       "        [1404, 1405, 1406, ..., 1413, 1414, 1415],\n",
       "        [1416, 1417, 1418, ..., 1425, 1426, 1427],\n",
       "        [1428, 1429, 1430, ..., 1437, 1438, 1439]],\n",
       "\n",
       "       [[1440, 1441, 1442, ..., 1449, 1450, 1451],\n",
       "        [1452, 1453, 1454, ..., 1461, 1462, 1463],\n",
       "        [1464, 1465, 1466, ..., 1473, 1474, 1475],\n",
       "        ..., \n",
       "        [1548, 1549, 1550, ..., 1557, 1558, 1559],\n",
       "        [1560, 1561, 1562, ..., 1569, 1570, 1571],\n",
       "        [1572, 1573, 1574, ..., 1581, 1582, 1583]],\n",
       "\n",
       "       [[1584, 1585, 1586, ..., 1593, 1594, 1595],\n",
       "        [1596, 1597, 1598, ..., 1605, 1606, 1607],\n",
       "        [1608, 1609, 1610, ..., 1617, 1618, 1619],\n",
       "        ..., \n",
       "        [1692, 1693, 1694, ..., 1701, 1702, 1703],\n",
       "        [1704, 1705, 1706, ..., 1713, 1714, 1715],\n",
       "        [1716, 1717, 1718, ..., 1725, 1726, 1727]]])"
      ]
     },
     "execution_count": 38,
     "metadata": {},
     "output_type": "execute_result"
    }
   ],
   "source": [
    "\n",
    "\n",
    "a = np.arange(12**3)\n",
    "a = cube(a)\n",
    "print(a.shape)\n",
    "a"
   ]
  },
  {
   "cell_type": "code",
   "execution_count": 39,
   "metadata": {
    "collapsed": false,
    "deletable": true,
    "editable": true
   },
   "outputs": [
    {
     "data": {
      "text/plain": [
       "array([[[  0,   1],\n",
       "        [ 12,  13]],\n",
       "\n",
       "       [[144, 145],\n",
       "        [156, 157]]])"
      ]
     },
     "execution_count": 39,
     "metadata": {},
     "output_type": "execute_result"
    }
   ],
   "source": [
    "a[:2, :2, :2]"
   ]
  },
  {
   "cell_type": "code",
   "execution_count": 40,
   "metadata": {
    "collapsed": false,
    "deletable": true,
    "editable": true
   },
   "outputs": [
    {
     "name": "stdout",
     "output_type": "stream",
     "text": [
      "(6, 2, 12, 12)\n"
     ]
    },
    {
     "data": {
      "text/plain": [
       "array([[[  0,   1,   2,   3,   4,   5,   6,   7,   8,   9,  10,  11],\n",
       "        [ 12,  13,  14,  15,  16,  17,  18,  19,  20,  21,  22,  23],\n",
       "        [ 24,  25,  26,  27,  28,  29,  30,  31,  32,  33,  34,  35],\n",
       "        [ 36,  37,  38,  39,  40,  41,  42,  43,  44,  45,  46,  47],\n",
       "        [ 48,  49,  50,  51,  52,  53,  54,  55,  56,  57,  58,  59],\n",
       "        [ 60,  61,  62,  63,  64,  65,  66,  67,  68,  69,  70,  71],\n",
       "        [ 72,  73,  74,  75,  76,  77,  78,  79,  80,  81,  82,  83],\n",
       "        [ 84,  85,  86,  87,  88,  89,  90,  91,  92,  93,  94,  95],\n",
       "        [ 96,  97,  98,  99, 100, 101, 102, 103, 104, 105, 106, 107],\n",
       "        [108, 109, 110, 111, 112, 113, 114, 115, 116, 117, 118, 119],\n",
       "        [120, 121, 122, 123, 124, 125, 126, 127, 128, 129, 130, 131],\n",
       "        [132, 133, 134, 135, 136, 137, 138, 139, 140, 141, 142, 143]],\n",
       "\n",
       "       [[144, 145, 146, 147, 148, 149, 150, 151, 152, 153, 154, 155],\n",
       "        [156, 157, 158, 159, 160, 161, 162, 163, 164, 165, 166, 167],\n",
       "        [168, 169, 170, 171, 172, 173, 174, 175, 176, 177, 178, 179],\n",
       "        [180, 181, 182, 183, 184, 185, 186, 187, 188, 189, 190, 191],\n",
       "        [192, 193, 194, 195, 196, 197, 198, 199, 200, 201, 202, 203],\n",
       "        [204, 205, 206, 207, 208, 209, 210, 211, 212, 213, 214, 215],\n",
       "        [216, 217, 218, 219, 220, 221, 222, 223, 224, 225, 226, 227],\n",
       "        [228, 229, 230, 231, 232, 233, 234, 235, 236, 237, 238, 239],\n",
       "        [240, 241, 242, 243, 244, 245, 246, 247, 248, 249, 250, 251],\n",
       "        [252, 253, 254, 255, 256, 257, 258, 259, 260, 261, 262, 263],\n",
       "        [264, 265, 266, 267, 268, 269, 270, 271, 272, 273, 274, 275],\n",
       "        [276, 277, 278, 279, 280, 281, 282, 283, 284, 285, 286, 287]]])"
      ]
     },
     "execution_count": 40,
     "metadata": {},
     "output_type": "execute_result"
    }
   ],
   "source": [
    "b = np.array(np.split(a, 6, axis=0))\n",
    "# b = np.array(np.split(b, 6, axis=2))\n",
    "# b = np.array(np.split(b, 6, axis=4))\n",
    "print(b.shape)\n",
    "# b[0][0][0]\n",
    "b[0]"
   ]
  },
  {
   "cell_type": "code",
   "execution_count": 41,
   "metadata": {
    "collapsed": false,
    "deletable": true,
    "editable": true
   },
   "outputs": [
    {
     "data": {
      "text/plain": [
       "array([1716, 1717, 1718, 1719, 1720, 1721, 1722, 1723, 1724, 1725, 1726,\n",
       "       1727])"
      ]
     },
     "execution_count": 41,
     "metadata": {},
     "output_type": "execute_result"
    }
   ],
   "source": [
    "b[-1][-1][-1]"
   ]
  },
  {
   "cell_type": "code",
   "execution_count": 42,
   "metadata": {
    "collapsed": false,
    "deletable": true,
    "editable": true
   },
   "outputs": [
    {
     "data": {
      "text/plain": [
       "array([[[0, 1],\n",
       "        [2, 3]],\n",
       "\n",
       "       [[4, 5],\n",
       "        [6, 7]]])"
      ]
     },
     "execution_count": 42,
     "metadata": {},
     "output_type": "execute_result"
    }
   ],
   "source": [
    "c = b.reshape((-1, 2, 2, 2))\n",
    "c[0]"
   ]
  },
  {
   "cell_type": "code",
   "execution_count": 43,
   "metadata": {
    "collapsed": false,
    "deletable": true,
    "editable": true
   },
   "outputs": [
    {
     "data": {
      "text/plain": [
       "array([[[1720, 1721],\n",
       "        [1722, 1723]],\n",
       "\n",
       "       [[1724, 1725],\n",
       "        [1726, 1727]]])"
      ]
     },
     "execution_count": 43,
     "metadata": {},
     "output_type": "execute_result"
    }
   ],
   "source": [
    "c[-1]"
   ]
  },
  {
   "cell_type": "code",
   "execution_count": 44,
   "metadata": {
    "collapsed": false,
    "deletable": true,
    "editable": true
   },
   "outputs": [
    {
     "data": {
      "text/plain": [
       "array([[18, 19, 20],\n",
       "       [21, 22, 23],\n",
       "       [24, 25, 26]])"
      ]
     },
     "execution_count": 44,
     "metadata": {},
     "output_type": "execute_result"
    }
   ],
   "source": [
    "a = np.arange(3**3)\n",
    "a = cube(a)\n",
    "a[2]"
   ]
  },
  {
   "cell_type": "code",
   "execution_count": 45,
   "metadata": {
    "collapsed": false,
    "deletable": true,
    "editable": true
   },
   "outputs": [
    {
     "data": {
      "text/plain": [
       "array([1, 3])"
      ]
     },
     "execution_count": 45,
     "metadata": {},
     "output_type": "execute_result"
    }
   ],
   "source": [
    "np.arange(4).reshape((2,2))[:,1]"
   ]
  },
  {
   "cell_type": "code",
   "execution_count": null,
   "metadata": {
    "collapsed": true,
    "deletable": true,
    "editable": true
   },
   "outputs": [],
   "source": []
  },
  {
   "cell_type": "code",
   "execution_count": 46,
   "metadata": {
    "collapsed": false,
    "deletable": true,
    "editable": true
   },
   "outputs": [
    {
     "name": "stdout",
     "output_type": "stream",
     "text": [
      "(2, 3, 4)\n",
      "[[[ 0  1  2  3]\n",
      "  [ 4  5  6  7]\n",
      "  [ 8  9 10 11]]\n",
      "\n",
      " [[12 13 14 15]\n",
      "  [16 17 18 19]\n",
      "  [20 21 22 23]]]\n"
     ]
    }
   ],
   "source": [
    "a = np.arange(24).reshape((2, 3, 4))\n",
    "print(a.shape)\n",
    "print(a)"
   ]
  },
  {
   "cell_type": "code",
   "execution_count": 47,
   "metadata": {
    "collapsed": false,
    "deletable": true,
    "editable": true
   },
   "outputs": [
    {
     "name": "stdout",
     "output_type": "stream",
     "text": [
      "1 2 (4,)\n",
      "2 3 (3, 4)\n",
      "45\n",
      "23\n"
     ]
    }
   ],
   "source": [
    "print(coord_to_ravel_idx(a.shape, (1,2,3)))\n",
    "print(coord_to_ravel_idx3(a.shape, (1,2,3)))"
   ]
  },
  {
   "cell_type": "code",
   "execution_count": 48,
   "metadata": {
    "collapsed": false,
    "deletable": true,
    "editable": true
   },
   "outputs": [
    {
     "data": {
      "text/plain": [
       "array([ 0,  1,  2,  3,  4,  5,  6,  7,  8,  9, 10, 11, 12, 13, 14, 15, 16,\n",
       "       17, 18, 19, 20, 21, 22, 23])"
      ]
     },
     "execution_count": 48,
     "metadata": {},
     "output_type": "execute_result"
    }
   ],
   "source": [
    "b = a.reshape(-1)\n",
    "b"
   ]
  },
  {
   "cell_type": "code",
   "execution_count": 49,
   "metadata": {
    "collapsed": false,
    "deletable": true,
    "editable": true
   },
   "outputs": [
    {
     "name": "stdout",
     "output_type": "stream",
     "text": [
      "(2, 3, 4)\n"
     ]
    }
   ],
   "source": [
    "print(a.shape)"
   ]
  },
  {
   "cell_type": "code",
   "execution_count": 50,
   "metadata": {
    "collapsed": false,
    "deletable": true,
    "editable": true
   },
   "outputs": [
    {
     "name": "stdout",
     "output_type": "stream",
     "text": [
      "4\n",
      "4\n",
      "4\n"
     ]
    }
   ],
   "source": [
    "n0, n1, n2 = a.shape\n",
    "\n",
    "x=0\n",
    "y=1\n",
    "z=0\n",
    "print(b[z*n2*n1 + y*n2 + x  ])\n",
    "print(a[z, y, x])\n",
    "idx = coord_to_ravel_idx3(a.shape, (x,y,z))\n",
    "print(idx)"
   ]
  },
  {
   "cell_type": "code",
   "execution_count": 51,
   "metadata": {
    "collapsed": false,
    "deletable": true,
    "editable": true
   },
   "outputs": [
    {
     "data": {
      "text/plain": [
       "array([[0, 1, 2, 3, 4, 5]])"
      ]
     },
     "execution_count": 51,
     "metadata": {},
     "output_type": "execute_result"
    }
   ],
   "source": [
    "v = np.arange(6).reshape((1, -1))\n",
    "v"
   ]
  },
  {
   "cell_type": "code",
   "execution_count": 52,
   "metadata": {
    "collapsed": false,
    "deletable": true,
    "editable": true
   },
   "outputs": [
    {
     "data": {
      "text/plain": [
       "2"
      ]
     },
     "execution_count": 52,
     "metadata": {},
     "output_type": "execute_result"
    }
   ],
   "source": [
    "v.ndim"
   ]
  },
  {
   "cell_type": "code",
   "execution_count": 53,
   "metadata": {
    "collapsed": false,
    "deletable": true,
    "editable": true
   },
   "outputs": [
    {
     "data": {
      "text/plain": [
       "array([[0],\n",
       "       [1],\n",
       "       [2],\n",
       "       [3],\n",
       "       [4],\n",
       "       [5]])"
      ]
     },
     "execution_count": 53,
     "metadata": {},
     "output_type": "execute_result"
    }
   ],
   "source": [
    "v.T"
   ]
  },
  {
   "cell_type": "code",
   "execution_count": 54,
   "metadata": {
    "collapsed": false,
    "deletable": true,
    "editable": true
   },
   "outputs": [
    {
     "data": {
      "text/plain": [
       "(6, 1)"
      ]
     },
     "execution_count": 54,
     "metadata": {},
     "output_type": "execute_result"
    }
   ],
   "source": [
    "v.T.shape"
   ]
  },
  {
   "cell_type": "code",
   "execution_count": 55,
   "metadata": {
    "collapsed": false,
    "deletable": true,
    "editable": true
   },
   "outputs": [],
   "source": [
    "vol = cube(np.arange(8))"
   ]
  },
  {
   "cell_type": "code",
   "execution_count": 56,
   "metadata": {
    "collapsed": false,
    "deletable": true,
    "editable": true
   },
   "outputs": [
    {
     "data": {
      "text/plain": [
       "array([ 0,  1,  2,  3,  4,  5,  6,  7,  8,  9, 10, 11, 12, 13, 14, 15, 16,\n",
       "       17, 18, 19, 20, 21, 22, 23])"
      ]
     },
     "execution_count": 56,
     "metadata": {},
     "output_type": "execute_result"
    }
   ],
   "source": [
    "a.ravel()"
   ]
  },
  {
   "cell_type": "code",
   "execution_count": 57,
   "metadata": {
    "collapsed": false,
    "deletable": true,
    "editable": true
   },
   "outputs": [
    {
     "data": {
      "text/plain": [
       "array([ 0,  1,  2,  3,  4,  5,  6,  7,  8,  9, 10, 11, 12, 13, 14, 15, 16,\n",
       "       17, 18, 19, 20, 21, 22, 23])"
      ]
     },
     "execution_count": 57,
     "metadata": {},
     "output_type": "execute_result"
    }
   ],
   "source": [
    "b.ravel()"
   ]
  },
  {
   "cell_type": "code",
   "execution_count": null,
   "metadata": {
    "collapsed": true,
    "deletable": true,
    "editable": true
   },
   "outputs": [],
   "source": [
    "\n",
    "    "
   ]
  },
  {
   "cell_type": "code",
   "execution_count": 58,
   "metadata": {
    "collapsed": true,
    "deletable": true,
    "editable": true
   },
   "outputs": [],
   "source": [
    "c = np.arange(2*3*4*5).reshape((2,3,4,5))"
   ]
  },
  {
   "cell_type": "code",
   "execution_count": 59,
   "metadata": {
    "collapsed": false,
    "deletable": true,
    "editable": true
   },
   "outputs": [
    {
     "data": {
      "text/plain": [
       "array([[[ 0,  1,  2,  3,  4],\n",
       "        [ 5,  6,  7,  8,  9],\n",
       "        [10, 11, 12, 13, 14],\n",
       "        [15, 16, 17, 18, 19]],\n",
       "\n",
       "       [[20, 21, 22, 23, 24],\n",
       "        [25, 26, 27, 28, 29],\n",
       "        [30, 31, 32, 33, 34],\n",
       "        [35, 36, 37, 38, 39]],\n",
       "\n",
       "       [[40, 41, 42, 43, 44],\n",
       "        [45, 46, 47, 48, 49],\n",
       "        [50, 51, 52, 53, 54],\n",
       "        [55, 56, 57, 58, 59]]])"
      ]
     },
     "execution_count": 59,
     "metadata": {},
     "output_type": "execute_result"
    }
   ],
   "source": [
    "c[0]"
   ]
  },
  {
   "cell_type": "code",
   "execution_count": 60,
   "metadata": {
    "collapsed": true,
    "deletable": true,
    "editable": true
   },
   "outputs": [],
   "source": [
    "d = c.ravel()"
   ]
  },
  {
   "cell_type": "code",
   "execution_count": 61,
   "metadata": {
    "collapsed": false,
    "deletable": true,
    "editable": true
   },
   "outputs": [
    {
     "name": "stdout",
     "output_type": "stream",
     "text": [
      "77\n",
      "77\n"
     ]
    }
   ],
   "source": [
    "n0, n1, n2, n3 = c.shape\n",
    "\n",
    "x=2\n",
    "y=3\n",
    "z=0\n",
    "æ=1\n",
    "print(d[x + y*n3 + z*n3*n2 + æ*n3*n2*n1])\n",
    "# print(d)\n",
    "print(c[æ, z, y, x])"
   ]
  },
  {
   "cell_type": "code",
   "execution_count": 62,
   "metadata": {
    "collapsed": false,
    "deletable": true,
    "editable": true
   },
   "outputs": [
    {
     "name": "stdout",
     "output_type": "stream",
     "text": [
      "1 3 (5,)\n",
      "2 0 (4, 5)\n",
      "3 1 (3, 4, 5)\n"
     ]
    },
    {
     "data": {
      "text/plain": [
       "77"
      ]
     },
     "execution_count": 62,
     "metadata": {},
     "output_type": "execute_result"
    }
   ],
   "source": [
    "coord_to_ravel_idx(c.shape, (x, y, z, æ))"
   ]
  },
  {
   "cell_type": "code",
   "execution_count": null,
   "metadata": {
    "collapsed": true,
    "deletable": true,
    "editable": true
   },
   "outputs": [],
   "source": []
  },
  {
   "cell_type": "code",
   "execution_count": 63,
   "metadata": {
    "collapsed": false,
    "deletable": true,
    "editable": true
   },
   "outputs": [
    {
     "name": "stdout",
     "output_type": "stream",
     "text": [
      "1 17\n",
      "0 17\n",
      "3 2\n"
     ]
    },
    {
     "data": {
      "text/plain": [
       "([(3, 4, 5), (4, 5), (5,)], [2, 3, 0, 1])"
      ]
     },
     "execution_count": 63,
     "metadata": {},
     "output_type": "execute_result"
    }
   ],
   "source": [
    "ravel_idx_to_coord(c.shape, 77)"
   ]
  },
  {
   "cell_type": "code",
   "execution_count": 64,
   "metadata": {
    "collapsed": false,
    "deletable": true,
    "editable": true
   },
   "outputs": [
    {
     "data": {
      "text/plain": [
       "(1, 17)"
      ]
     },
     "execution_count": 64,
     "metadata": {},
     "output_type": "execute_result"
    }
   ],
   "source": [
    "divmod(77, 60)"
   ]
  },
  {
   "cell_type": "code",
   "execution_count": 65,
   "metadata": {
    "collapsed": false,
    "deletable": true,
    "editable": true
   },
   "outputs": [
    {
     "data": {
      "text/plain": [
       "array([121, 134,  83])"
      ]
     },
     "execution_count": 65,
     "metadata": {},
     "output_type": "execute_result"
    }
   ],
   "source": [
    "np.array(absidx) // 2"
   ]
  },
  {
   "cell_type": "code",
   "execution_count": 66,
   "metadata": {
    "collapsed": false,
    "deletable": true,
    "editable": true
   },
   "outputs": [
    {
     "data": {
      "text/plain": [
       "(368, 360, 360)"
      ]
     },
     "execution_count": 66,
     "metadata": {},
     "output_type": "execute_result"
    }
   ],
   "source": [
    "ary.shape"
   ]
  },
  {
   "cell_type": "code",
   "execution_count": 67,
   "metadata": {
    "collapsed": false,
    "deletable": true,
    "editable": true
   },
   "outputs": [
    {
     "name": "stdout",
     "output_type": "stream",
     "text": [
      "Origin: [-168.68164062 -332.68164062 -441.        ]\n",
      "Abs Index: [201, 211, 331]\n",
      "Vol shape: (366, 326, 326)\n"
     ]
    },
    {
     "data": {
      "text/plain": [
       "<matplotlib.image.AxesImage at 0x7f5040bd6a90>"
      ]
     },
     "execution_count": 67,
     "metadata": {},
     "output_type": "execute_result"
    },
    {
     "data": {
      "image/png": "[encoded data removed]",
      "text/plain": [
       "<matplotlib.figure.Figure at 0x7f5040c82ef0>"
      ]
     },
     "metadata": {},
     "output_type": "display_data"
    }
   ],
   "source": [
    "vv = get_tumor_volume_from_row(dfs.iloc[102], resamp_path, verbose=1)\n",
    "plt.imshow(vv[24])"
   ]
  },
  {
   "cell_type": "code",
   "execution_count": 68,
   "metadata": {
    "collapsed": false,
    "deletable": true,
    "editable": true
   },
   "outputs": [
    {
     "name": "stderr",
     "output_type": "stream",
     "text": [
      "Widget Javascript not detected.  It may not be installed or enabled properly.\n"
     ]
    },
    {
     "data": {
      "application/vnd.jupyter.widget-view+json": {
       "model_id": "d0d5d07771be499999ae3b1883b0c599"
      }
     },
     "metadata": {},
     "output_type": "display_data"
    }
   ],
   "source": [
    "ipyvolume.quickvolshow(vv, width=500, height=500)"
   ]
  },
  {
   "cell_type": "code",
   "execution_count": null,
   "metadata": {
    "collapsed": false,
    "deletable": true,
    "editable": true
   },
   "outputs": [],
   "source": []
  },
  {
   "cell_type": "code",
   "execution_count": 69,
   "metadata": {
    "collapsed": false,
    "deletable": true,
    "editable": true
   },
   "outputs": [
    {
     "data": {
      "text/html": [
       "<div>\n",
       "<table border=\"1\" class=\"dataframe\">\n",
       "  <thead>\n",
       "    <tr style=\"text-align: right;\">\n",
       "      <th></th>\n",
       "      <th>seriesuid</th>\n",
       "      <th>coordX</th>\n",
       "      <th>coordY</th>\n",
       "      <th>coordZ</th>\n",
       "      <th>diameter_mm</th>\n",
       "      <th>file</th>\n",
       "    </tr>\n",
       "  </thead>\n",
       "  <tbody>\n",
       "    <tr>\n",
       "      <th>23</th>\n",
       "      <td>1.3.6.1.4.1.14519.5.2.1.6279.6001.108197895896...</td>\n",
       "      <td>-100.567944</td>\n",
       "      <td>67.260517</td>\n",
       "      <td>-231.816619</td>\n",
       "      <td>6.440879</td>\n",
       "      <td>/media/mike/tera/data/databowl/luna/subset0/1....</td>\n",
       "    </tr>\n",
       "    <tr>\n",
       "      <th>25</th>\n",
       "      <td>1.3.6.1.4.1.14519.5.2.1.6279.6001.109002525524...</td>\n",
       "      <td>46.188539</td>\n",
       "      <td>48.402806</td>\n",
       "      <td>-108.578632</td>\n",
       "      <td>13.596471</td>\n",
       "      <td>/media/mike/tera/data/databowl/luna/subset0/1....</td>\n",
       "    </tr>\n",
       "    <tr>\n",
       "      <th>26</th>\n",
       "      <td>1.3.6.1.4.1.14519.5.2.1.6279.6001.109002525524...</td>\n",
       "      <td>36.392044</td>\n",
       "      <td>76.771663</td>\n",
       "      <td>-123.321911</td>\n",
       "      <td>4.343200</td>\n",
       "      <td>/media/mike/tera/data/databowl/luna/subset0/1....</td>\n",
       "    </tr>\n",
       "    <tr>\n",
       "      <th>28</th>\n",
       "      <td>1.3.6.1.4.1.14519.5.2.1.6279.6001.111172165674...</td>\n",
       "      <td>136.434059</td>\n",
       "      <td>117.765579</td>\n",
       "      <td>-181.947817</td>\n",
       "      <td>4.681382</td>\n",
       "      <td>/media/mike/tera/data/databowl/luna/subset0/1....</td>\n",
       "    </tr>\n",
       "    <tr>\n",
       "      <th>86</th>\n",
       "      <td>1.3.6.1.4.1.14519.5.2.1.6279.6001.124154461048...</td>\n",
       "      <td>145.967465</td>\n",
       "      <td>-161.197634</td>\n",
       "      <td>-312.071347</td>\n",
       "      <td>6.378436</td>\n",
       "      <td>/media/mike/tera/data/databowl/luna/subset0/1....</td>\n",
       "    </tr>\n",
       "    <tr>\n",
       "      <th>98</th>\n",
       "      <td>1.3.6.1.4.1.14519.5.2.1.6279.6001.126264578931...</td>\n",
       "      <td>59.114146</td>\n",
       "      <td>-158.577253</td>\n",
       "      <td>-118.037336</td>\n",
       "      <td>6.720277</td>\n",
       "      <td>/media/mike/tera/data/databowl/luna/subset0/1....</td>\n",
       "    </tr>\n",
       "    <tr>\n",
       "      <th>103</th>\n",
       "      <td>1.3.6.1.4.1.14519.5.2.1.6279.6001.128023902651...</td>\n",
       "      <td>33.832826</td>\n",
       "      <td>88.411590</td>\n",
       "      <td>-101.780481</td>\n",
       "      <td>10.462608</td>\n",
       "      <td>/media/mike/tera/data/databowl/luna/subset0/1....</td>\n",
       "    </tr>\n",
       "    <tr>\n",
       "      <th>110</th>\n",
       "      <td>1.3.6.1.4.1.14519.5.2.1.6279.6001.129055977637...</td>\n",
       "      <td>-96.469304</td>\n",
       "      <td>-88.128962</td>\n",
       "      <td>1131.113774</td>\n",
       "      <td>6.800249</td>\n",
       "      <td>/media/mike/tera/data/databowl/luna/subset0/1....</td>\n",
       "    </tr>\n",
       "    <tr>\n",
       "      <th>117</th>\n",
       "      <td>1.3.6.1.4.1.14519.5.2.1.6279.6001.130438550890...</td>\n",
       "      <td>88.231452</td>\n",
       "      <td>32.809117</td>\n",
       "      <td>-77.986386</td>\n",
       "      <td>5.059407</td>\n",
       "      <td>/media/mike/tera/data/databowl/luna/subset0/1....</td>\n",
       "    </tr>\n",
       "    <tr>\n",
       "      <th>129</th>\n",
       "      <td>1.3.6.1.4.1.14519.5.2.1.6279.6001.134996872583...</td>\n",
       "      <td>-84.046581</td>\n",
       "      <td>-42.015360</td>\n",
       "      <td>-146.807400</td>\n",
       "      <td>7.053720</td>\n",
       "      <td>/media/mike/tera/data/databowl/luna/subset0/1....</td>\n",
       "    </tr>\n",
       "    <tr>\n",
       "      <th>130</th>\n",
       "      <td>1.3.6.1.4.1.14519.5.2.1.6279.6001.134996872583...</td>\n",
       "      <td>-70.323099</td>\n",
       "      <td>56.204384</td>\n",
       "      <td>-82.479458</td>\n",
       "      <td>7.888814</td>\n",
       "      <td>/media/mike/tera/data/databowl/luna/subset0/1....</td>\n",
       "    </tr>\n",
       "    <tr>\n",
       "      <th>131</th>\n",
       "      <td>1.3.6.1.4.1.14519.5.2.1.6279.6001.134996872583...</td>\n",
       "      <td>-86.853843</td>\n",
       "      <td>15.041574</td>\n",
       "      <td>-72.326810</td>\n",
       "      <td>9.258260</td>\n",
       "      <td>/media/mike/tera/data/databowl/luna/subset0/1....</td>\n",
       "    </tr>\n",
       "    <tr>\n",
       "      <th>132</th>\n",
       "      <td>1.3.6.1.4.1.14519.5.2.1.6279.6001.134996872583...</td>\n",
       "      <td>99.634489</td>\n",
       "      <td>-25.732286</td>\n",
       "      <td>-199.615356</td>\n",
       "      <td>6.779556</td>\n",
       "      <td>/media/mike/tera/data/databowl/luna/subset0/1....</td>\n",
       "    </tr>\n",
       "    <tr>\n",
       "      <th>135</th>\n",
       "      <td>1.3.6.1.4.1.14519.5.2.1.6279.6001.137763212752...</td>\n",
       "      <td>-103.723003</td>\n",
       "      <td>153.392713</td>\n",
       "      <td>-465.845305</td>\n",
       "      <td>11.139832</td>\n",
       "      <td>/media/mike/tera/data/databowl/luna/subset0/1....</td>\n",
       "    </tr>\n",
       "    <tr>\n",
       "      <th>136</th>\n",
       "      <td>1.3.6.1.4.1.14519.5.2.1.6279.6001.137763212752...</td>\n",
       "      <td>-80.446268</td>\n",
       "      <td>183.938413</td>\n",
       "      <td>-467.875703</td>\n",
       "      <td>17.693824</td>\n",
       "      <td>/media/mike/tera/data/databowl/luna/subset0/1....</td>\n",
       "    </tr>\n",
       "    <tr>\n",
       "      <th>139</th>\n",
       "      <td>1.3.6.1.4.1.14519.5.2.1.6279.6001.138080888843...</td>\n",
       "      <td>-120.983681</td>\n",
       "      <td>177.171152</td>\n",
       "      <td>-530.968087</td>\n",
       "      <td>6.921522</td>\n",
       "      <td>/media/mike/tera/data/databowl/luna/subset0/1....</td>\n",
       "    </tr>\n",
       "    <tr>\n",
       "      <th>144</th>\n",
       "      <td>1.3.6.1.4.1.14519.5.2.1.6279.6001.139258777898...</td>\n",
       "      <td>-108.127825</td>\n",
       "      <td>-176.562406</td>\n",
       "      <td>-192.963340</td>\n",
       "      <td>8.621580</td>\n",
       "      <td>/media/mike/tera/data/databowl/luna/subset0/1....</td>\n",
       "    </tr>\n",
       "    <tr>\n",
       "      <th>149</th>\n",
       "      <td>1.3.6.1.4.1.14519.5.2.1.6279.6001.141069661700...</td>\n",
       "      <td>-101.967279</td>\n",
       "      <td>248.736321</td>\n",
       "      <td>-739.874684</td>\n",
       "      <td>6.259552</td>\n",
       "      <td>/media/mike/tera/data/databowl/luna/subset0/1....</td>\n",
       "    </tr>\n",
       "    <tr>\n",
       "      <th>199</th>\n",
       "      <td>1.3.6.1.4.1.14519.5.2.1.6279.6001.154677396354...</td>\n",
       "      <td>-57.439240</td>\n",
       "      <td>131.232520</td>\n",
       "      <td>-520.359227</td>\n",
       "      <td>15.485254</td>\n",
       "      <td>/media/mike/tera/data/databowl/luna/subset0/1....</td>\n",
       "    </tr>\n",
       "    <tr>\n",
       "      <th>335</th>\n",
       "      <td>1.3.6.1.4.1.14519.5.2.1.6279.6001.187451715205...</td>\n",
       "      <td>67.194343</td>\n",
       "      <td>63.998022</td>\n",
       "      <td>-246.110624</td>\n",
       "      <td>13.053357</td>\n",
       "      <td>/media/mike/tera/data/databowl/luna/subset0/1....</td>\n",
       "    </tr>\n",
       "    <tr>\n",
       "      <th>336</th>\n",
       "      <td>1.3.6.1.4.1.14519.5.2.1.6279.6001.187451715205...</td>\n",
       "      <td>94.635117</td>\n",
       "      <td>-17.372059</td>\n",
       "      <td>-204.396127</td>\n",
       "      <td>17.753232</td>\n",
       "      <td>/media/mike/tera/data/databowl/luna/subset0/1....</td>\n",
       "    </tr>\n",
       "    <tr>\n",
       "      <th>344</th>\n",
       "      <td>1.3.6.1.4.1.14519.5.2.1.6279.6001.188209889686...</td>\n",
       "      <td>-81.597385</td>\n",
       "      <td>57.288235</td>\n",
       "      <td>-133.479575</td>\n",
       "      <td>5.617921</td>\n",
       "      <td>/media/mike/tera/data/databowl/luna/subset0/1....</td>\n",
       "    </tr>\n",
       "    <tr>\n",
       "      <th>345</th>\n",
       "      <td>1.3.6.1.4.1.14519.5.2.1.6279.6001.188209889686...</td>\n",
       "      <td>28.623009</td>\n",
       "      <td>41.009291</td>\n",
       "      <td>-155.488946</td>\n",
       "      <td>5.883952</td>\n",
       "      <td>/media/mike/tera/data/databowl/luna/subset0/1....</td>\n",
       "    </tr>\n",
       "    <tr>\n",
       "      <th>347</th>\n",
       "      <td>1.3.6.1.4.1.14519.5.2.1.6279.6001.188376349804...</td>\n",
       "      <td>-55.188383</td>\n",
       "      <td>174.389376</td>\n",
       "      <td>-405.734825</td>\n",
       "      <td>10.938275</td>\n",
       "      <td>/media/mike/tera/data/databowl/luna/subset0/1....</td>\n",
       "    </tr>\n",
       "    <tr>\n",
       "      <th>348</th>\n",
       "      <td>1.3.6.1.4.1.14519.5.2.1.6279.6001.188376349804...</td>\n",
       "      <td>-100.510077</td>\n",
       "      <td>179.760513</td>\n",
       "      <td>-498.510449</td>\n",
       "      <td>5.357747</td>\n",
       "      <td>/media/mike/tera/data/databowl/luna/subset0/1....</td>\n",
       "    </tr>\n",
       "    <tr>\n",
       "      <th>349</th>\n",
       "      <td>1.3.6.1.4.1.14519.5.2.1.6279.6001.188376349804...</td>\n",
       "      <td>-87.275973</td>\n",
       "      <td>163.015173</td>\n",
       "      <td>-456.450104</td>\n",
       "      <td>5.262731</td>\n",
       "      <td>/media/mike/tera/data/databowl/luna/subset0/1....</td>\n",
       "    </tr>\n",
       "    <tr>\n",
       "      <th>350</th>\n",
       "      <td>1.3.6.1.4.1.14519.5.2.1.6279.6001.188376349804...</td>\n",
       "      <td>79.035557</td>\n",
       "      <td>209.817906</td>\n",
       "      <td>-465.062439</td>\n",
       "      <td>6.305539</td>\n",
       "      <td>/media/mike/tera/data/databowl/luna/subset0/1....</td>\n",
       "    </tr>\n",
       "    <tr>\n",
       "      <th>367</th>\n",
       "      <td>1.3.6.1.4.1.14519.5.2.1.6279.6001.194440094986...</td>\n",
       "      <td>56.239802</td>\n",
       "      <td>-92.289830</td>\n",
       "      <td>-277.098560</td>\n",
       "      <td>8.982987</td>\n",
       "      <td>/media/mike/tera/data/databowl/luna/subset0/1....</td>\n",
       "    </tr>\n",
       "    <tr>\n",
       "      <th>420</th>\n",
       "      <td>1.3.6.1.4.1.14519.5.2.1.6279.6001.202811684116...</td>\n",
       "      <td>-83.158083</td>\n",
       "      <td>-21.678997</td>\n",
       "      <td>-97.004376</td>\n",
       "      <td>18.783233</td>\n",
       "      <td>/media/mike/tera/data/databowl/luna/subset0/1....</td>\n",
       "    </tr>\n",
       "    <tr>\n",
       "      <th>454</th>\n",
       "      <td>1.3.6.1.4.1.14519.5.2.1.6279.6001.213140617640...</td>\n",
       "      <td>54.577717</td>\n",
       "      <td>137.279089</td>\n",
       "      <td>-626.592114</td>\n",
       "      <td>13.962632</td>\n",
       "      <td>/media/mike/tera/data/databowl/luna/subset0/1....</td>\n",
       "    </tr>\n",
       "    <tr>\n",
       "      <th>...</th>\n",
       "      <td>...</td>\n",
       "      <td>...</td>\n",
       "      <td>...</td>\n",
       "      <td>...</td>\n",
       "      <td>...</td>\n",
       "      <td>...</td>\n",
       "    </tr>\n",
       "    <tr>\n",
       "      <th>988</th>\n",
       "      <td>1.3.6.1.4.1.14519.5.2.1.6279.6001.450501966058...</td>\n",
       "      <td>97.323932</td>\n",
       "      <td>-33.770770</td>\n",
       "      <td>128.831158</td>\n",
       "      <td>4.514864</td>\n",
       "      <td>/media/mike/tera/data/databowl/luna/subset0/1....</td>\n",
       "    </tr>\n",
       "    <tr>\n",
       "      <th>1011</th>\n",
       "      <td>1.3.6.1.4.1.14519.5.2.1.6279.6001.511347030803...</td>\n",
       "      <td>60.775061</td>\n",
       "      <td>74.123970</td>\n",
       "      <td>-214.782347</td>\n",
       "      <td>25.233202</td>\n",
       "      <td>/media/mike/tera/data/databowl/luna/subset0/1....</td>\n",
       "    </tr>\n",
       "    <tr>\n",
       "      <th>1012</th>\n",
       "      <td>1.3.6.1.4.1.14519.5.2.1.6279.6001.511347030803...</td>\n",
       "      <td>-85.421039</td>\n",
       "      <td>25.261721</td>\n",
       "      <td>-220.833830</td>\n",
       "      <td>9.756615</td>\n",
       "      <td>/media/mike/tera/data/databowl/luna/subset0/1....</td>\n",
       "    </tr>\n",
       "    <tr>\n",
       "      <th>1013</th>\n",
       "      <td>1.3.6.1.4.1.14519.5.2.1.6279.6001.511347030803...</td>\n",
       "      <td>-108.527516</td>\n",
       "      <td>-38.825247</td>\n",
       "      <td>-199.207307</td>\n",
       "      <td>10.989140</td>\n",
       "      <td>/media/mike/tera/data/databowl/luna/subset0/1....</td>\n",
       "    </tr>\n",
       "    <tr>\n",
       "      <th>1016</th>\n",
       "      <td>1.3.6.1.4.1.14519.5.2.1.6279.6001.525937963993...</td>\n",
       "      <td>128.067382</td>\n",
       "      <td>67.863939</td>\n",
       "      <td>-90.451408</td>\n",
       "      <td>11.645609</td>\n",
       "      <td>/media/mike/tera/data/databowl/luna/subset0/1....</td>\n",
       "    </tr>\n",
       "    <tr>\n",
       "      <th>1017</th>\n",
       "      <td>1.3.6.1.4.1.14519.5.2.1.6279.6001.534006575256...</td>\n",
       "      <td>-95.039572</td>\n",
       "      <td>63.780273</td>\n",
       "      <td>-94.863462</td>\n",
       "      <td>12.801356</td>\n",
       "      <td>/media/mike/tera/data/databowl/luna/subset0/1....</td>\n",
       "    </tr>\n",
       "    <tr>\n",
       "      <th>1018</th>\n",
       "      <td>1.3.6.1.4.1.14519.5.2.1.6279.6001.534006575256...</td>\n",
       "      <td>55.379929</td>\n",
       "      <td>-25.757739</td>\n",
       "      <td>-70.432702</td>\n",
       "      <td>14.629050</td>\n",
       "      <td>/media/mike/tera/data/databowl/luna/subset0/1....</td>\n",
       "    </tr>\n",
       "    <tr>\n",
       "      <th>1019</th>\n",
       "      <td>1.3.6.1.4.1.14519.5.2.1.6279.6001.534006575256...</td>\n",
       "      <td>123.602236</td>\n",
       "      <td>-8.037283</td>\n",
       "      <td>-208.259512</td>\n",
       "      <td>7.283783</td>\n",
       "      <td>/media/mike/tera/data/databowl/luna/subset0/1....</td>\n",
       "    </tr>\n",
       "    <tr>\n",
       "      <th>1020</th>\n",
       "      <td>1.3.6.1.4.1.14519.5.2.1.6279.6001.534083630500...</td>\n",
       "      <td>113.911431</td>\n",
       "      <td>-36.972024</td>\n",
       "      <td>-139.106781</td>\n",
       "      <td>4.315291</td>\n",
       "      <td>/media/mike/tera/data/databowl/luna/subset0/1....</td>\n",
       "    </tr>\n",
       "    <tr>\n",
       "      <th>1021</th>\n",
       "      <td>1.3.6.1.4.1.14519.5.2.1.6279.6001.534083630500...</td>\n",
       "      <td>-87.298239</td>\n",
       "      <td>56.271657</td>\n",
       "      <td>-112.290634</td>\n",
       "      <td>5.965580</td>\n",
       "      <td>/media/mike/tera/data/databowl/luna/subset0/1....</td>\n",
       "    </tr>\n",
       "    <tr>\n",
       "      <th>1022</th>\n",
       "      <td>1.3.6.1.4.1.14519.5.2.1.6279.6001.534083630500...</td>\n",
       "      <td>-42.906493</td>\n",
       "      <td>-3.298740</td>\n",
       "      <td>-115.103859</td>\n",
       "      <td>5.090964</td>\n",
       "      <td>/media/mike/tera/data/databowl/luna/subset0/1....</td>\n",
       "    </tr>\n",
       "    <tr>\n",
       "      <th>1030</th>\n",
       "      <td>1.3.6.1.4.1.14519.5.2.1.6279.6001.566816709786...</td>\n",
       "      <td>-124.669468</td>\n",
       "      <td>21.097098</td>\n",
       "      <td>-169.603976</td>\n",
       "      <td>6.731879</td>\n",
       "      <td>/media/mike/tera/data/databowl/luna/subset0/1....</td>\n",
       "    </tr>\n",
       "    <tr>\n",
       "      <th>1049</th>\n",
       "      <td>1.3.6.1.4.1.14519.5.2.1.6279.6001.621916089407...</td>\n",
       "      <td>-96.404448</td>\n",
       "      <td>43.840582</td>\n",
       "      <td>-155.371019</td>\n",
       "      <td>11.487328</td>\n",
       "      <td>/media/mike/tera/data/databowl/luna/subset0/1....</td>\n",
       "    </tr>\n",
       "    <tr>\n",
       "      <th>1054</th>\n",
       "      <td>1.3.6.1.4.1.14519.5.2.1.6279.6001.640729228179...</td>\n",
       "      <td>-112.794863</td>\n",
       "      <td>-227.313025</td>\n",
       "      <td>-199.293267</td>\n",
       "      <td>6.217390</td>\n",
       "      <td>/media/mike/tera/data/databowl/luna/subset0/1....</td>\n",
       "    </tr>\n",
       "    <tr>\n",
       "      <th>1072</th>\n",
       "      <td>1.3.6.1.4.1.14519.5.2.1.6279.6001.716498695101...</td>\n",
       "      <td>-67.817620</td>\n",
       "      <td>-108.807308</td>\n",
       "      <td>-97.206670</td>\n",
       "      <td>8.091313</td>\n",
       "      <td>/media/mike/tera/data/databowl/luna/subset0/1....</td>\n",
       "    </tr>\n",
       "    <tr>\n",
       "      <th>1073</th>\n",
       "      <td>1.3.6.1.4.1.14519.5.2.1.6279.6001.724251104254...</td>\n",
       "      <td>93.959583</td>\n",
       "      <td>182.810062</td>\n",
       "      <td>-519.166061</td>\n",
       "      <td>5.525559</td>\n",
       "      <td>/media/mike/tera/data/databowl/luna/subset0/1....</td>\n",
       "    </tr>\n",
       "    <tr>\n",
       "      <th>1074</th>\n",
       "      <td>1.3.6.1.4.1.14519.5.2.1.6279.6001.724251104254...</td>\n",
       "      <td>-60.538320</td>\n",
       "      <td>148.054637</td>\n",
       "      <td>-648.371453</td>\n",
       "      <td>7.244055</td>\n",
       "      <td>/media/mike/tera/data/databowl/luna/subset0/1....</td>\n",
       "    </tr>\n",
       "    <tr>\n",
       "      <th>1084</th>\n",
       "      <td>1.3.6.1.4.1.14519.5.2.1.6279.6001.752756872840...</td>\n",
       "      <td>56.393154</td>\n",
       "      <td>67.680087</td>\n",
       "      <td>-64.674453</td>\n",
       "      <td>19.653877</td>\n",
       "      <td>/media/mike/tera/data/databowl/luna/subset0/1....</td>\n",
       "    </tr>\n",
       "    <tr>\n",
       "      <th>1106</th>\n",
       "      <td>1.3.6.1.4.1.14519.5.2.1.6279.6001.805925269324...</td>\n",
       "      <td>-66.693135</td>\n",
       "      <td>97.045220</td>\n",
       "      <td>-267.309005</td>\n",
       "      <td>17.336250</td>\n",
       "      <td>/media/mike/tera/data/databowl/luna/subset0/1....</td>\n",
       "    </tr>\n",
       "    <tr>\n",
       "      <th>1108</th>\n",
       "      <td>1.3.6.1.4.1.14519.5.2.1.6279.6001.826812708000...</td>\n",
       "      <td>-41.567150</td>\n",
       "      <td>-53.185545</td>\n",
       "      <td>-128.374490</td>\n",
       "      <td>7.985023</td>\n",
       "      <td>/media/mike/tera/data/databowl/luna/subset0/1....</td>\n",
       "    </tr>\n",
       "    <tr>\n",
       "      <th>1109</th>\n",
       "      <td>1.3.6.1.4.1.14519.5.2.1.6279.6001.826812708000...</td>\n",
       "      <td>-53.619168</td>\n",
       "      <td>-51.119561</td>\n",
       "      <td>-138.586783</td>\n",
       "      <td>5.313818</td>\n",
       "      <td>/media/mike/tera/data/databowl/luna/subset0/1....</td>\n",
       "    </tr>\n",
       "    <tr>\n",
       "      <th>1116</th>\n",
       "      <td>1.3.6.1.4.1.14519.5.2.1.6279.6001.832260670372...</td>\n",
       "      <td>-127.504533</td>\n",
       "      <td>80.973952</td>\n",
       "      <td>-221.293661</td>\n",
       "      <td>6.131001</td>\n",
       "      <td>/media/mike/tera/data/databowl/luna/subset0/1....</td>\n",
       "    </tr>\n",
       "    <tr>\n",
       "      <th>1117</th>\n",
       "      <td>1.3.6.1.4.1.14519.5.2.1.6279.6001.832260670372...</td>\n",
       "      <td>22.427244</td>\n",
       "      <td>36.288954</td>\n",
       "      <td>-86.836081</td>\n",
       "      <td>6.246461</td>\n",
       "      <td>/media/mike/tera/data/databowl/luna/subset0/1....</td>\n",
       "    </tr>\n",
       "    <tr>\n",
       "      <th>1123</th>\n",
       "      <td>1.3.6.1.4.1.14519.5.2.1.6279.6001.868211851413...</td>\n",
       "      <td>-79.933052</td>\n",
       "      <td>81.937152</td>\n",
       "      <td>-169.433720</td>\n",
       "      <td>8.368487</td>\n",
       "      <td>/media/mike/tera/data/databowl/luna/subset0/1....</td>\n",
       "    </tr>\n",
       "    <tr>\n",
       "      <th>1124</th>\n",
       "      <td>1.3.6.1.4.1.14519.5.2.1.6279.6001.868211851413...</td>\n",
       "      <td>-7.731400</td>\n",
       "      <td>58.536523</td>\n",
       "      <td>-110.545257</td>\n",
       "      <td>5.127950</td>\n",
       "      <td>/media/mike/tera/data/databowl/luna/subset0/1....</td>\n",
       "    </tr>\n",
       "    <tr>\n",
       "      <th>1125</th>\n",
       "      <td>1.3.6.1.4.1.14519.5.2.1.6279.6001.868211851413...</td>\n",
       "      <td>-22.951826</td>\n",
       "      <td>78.571156</td>\n",
       "      <td>-136.901025</td>\n",
       "      <td>6.430802</td>\n",
       "      <td>/media/mike/tera/data/databowl/luna/subset0/1....</td>\n",
       "    </tr>\n",
       "    <tr>\n",
       "      <th>1137</th>\n",
       "      <td>1.3.6.1.4.1.14519.5.2.1.6279.6001.898642529028...</td>\n",
       "      <td>-42.200674</td>\n",
       "      <td>92.207156</td>\n",
       "      <td>-566.589551</td>\n",
       "      <td>4.678130</td>\n",
       "      <td>/media/mike/tera/data/databowl/luna/subset0/1....</td>\n",
       "    </tr>\n",
       "    <tr>\n",
       "      <th>1138</th>\n",
       "      <td>1.3.6.1.4.1.14519.5.2.1.6279.6001.898642529028...</td>\n",
       "      <td>74.399625</td>\n",
       "      <td>112.651026</td>\n",
       "      <td>-534.715881</td>\n",
       "      <td>4.581767</td>\n",
       "      <td>/media/mike/tera/data/databowl/luna/subset0/1....</td>\n",
       "    </tr>\n",
       "    <tr>\n",
       "      <th>1141</th>\n",
       "      <td>1.3.6.1.4.1.14519.5.2.1.6279.6001.905371958588...</td>\n",
       "      <td>109.116637</td>\n",
       "      <td>48.589511</td>\n",
       "      <td>-120.892058</td>\n",
       "      <td>21.583112</td>\n",
       "      <td>/media/mike/tera/data/databowl/luna/subset0/1....</td>\n",
       "    </tr>\n",
       "    <tr>\n",
       "      <th>1180</th>\n",
       "      <td>1.3.6.1.4.1.14519.5.2.1.6279.6001.979083010707...</td>\n",
       "      <td>-104.441975</td>\n",
       "      <td>57.839428</td>\n",
       "      <td>-124.308363</td>\n",
       "      <td>7.310400</td>\n",
       "      <td>/media/mike/tera/data/databowl/luna/subset0/1....</td>\n",
       "    </tr>\n",
       "  </tbody>\n",
       "</table>\n",
       "<p>112 rows × 6 columns</p>\n",
       "</div>"
      ],
      "text/plain": [
       "                                              seriesuid      coordX  \\\n",
       "23    1.3.6.1.4.1.14519.5.2.1.6279.6001.108197895896... -100.567944   \n",
       "25    1.3.6.1.4.1.14519.5.2.1.6279.6001.109002525524...   46.188539   \n",
       "26    1.3.6.1.4.1.14519.5.2.1.6279.6001.109002525524...   36.392044   \n",
       "28    1.3.6.1.4.1.14519.5.2.1.6279.6001.111172165674...  136.434059   \n",
       "86    1.3.6.1.4.1.14519.5.2.1.6279.6001.124154461048...  145.967465   \n",
       "98    1.3.6.1.4.1.14519.5.2.1.6279.6001.126264578931...   59.114146   \n",
       "103   1.3.6.1.4.1.14519.5.2.1.6279.6001.128023902651...   33.832826   \n",
       "110   1.3.6.1.4.1.14519.5.2.1.6279.6001.129055977637...  -96.469304   \n",
       "117   1.3.6.1.4.1.14519.5.2.1.6279.6001.130438550890...   88.231452   \n",
       "129   1.3.6.1.4.1.14519.5.2.1.6279.6001.134996872583...  -84.046581   \n",
       "130   1.3.6.1.4.1.14519.5.2.1.6279.6001.134996872583...  -70.323099   \n",
       "131   1.3.6.1.4.1.14519.5.2.1.6279.6001.134996872583...  -86.853843   \n",
       "132   1.3.6.1.4.1.14519.5.2.1.6279.6001.134996872583...   99.634489   \n",
       "135   1.3.6.1.4.1.14519.5.2.1.6279.6001.137763212752... -103.723003   \n",
       "136   1.3.6.1.4.1.14519.5.2.1.6279.6001.137763212752...  -80.446268   \n",
       "139   1.3.6.1.4.1.14519.5.2.1.6279.6001.138080888843... -120.983681   \n",
       "144   1.3.6.1.4.1.14519.5.2.1.6279.6001.139258777898... -108.127825   \n",
       "149   1.3.6.1.4.1.14519.5.2.1.6279.6001.141069661700... -101.967279   \n",
       "199   1.3.6.1.4.1.14519.5.2.1.6279.6001.154677396354...  -57.439240   \n",
       "335   1.3.6.1.4.1.14519.5.2.1.6279.6001.187451715205...   67.194343   \n",
       "336   1.3.6.1.4.1.14519.5.2.1.6279.6001.187451715205...   94.635117   \n",
       "344   1.3.6.1.4.1.14519.5.2.1.6279.6001.188209889686...  -81.597385   \n",
       "345   1.3.6.1.4.1.14519.5.2.1.6279.6001.188209889686...   28.623009   \n",
       "347   1.3.6.1.4.1.14519.5.2.1.6279.6001.188376349804...  -55.188383   \n",
       "348   1.3.6.1.4.1.14519.5.2.1.6279.6001.188376349804... -100.510077   \n",
       "349   1.3.6.1.4.1.14519.5.2.1.6279.6001.188376349804...  -87.275973   \n",
       "350   1.3.6.1.4.1.14519.5.2.1.6279.6001.188376349804...   79.035557   \n",
       "367   1.3.6.1.4.1.14519.5.2.1.6279.6001.194440094986...   56.239802   \n",
       "420   1.3.6.1.4.1.14519.5.2.1.6279.6001.202811684116...  -83.158083   \n",
       "454   1.3.6.1.4.1.14519.5.2.1.6279.6001.213140617640...   54.577717   \n",
       "...                                                 ...         ...   \n",
       "988   1.3.6.1.4.1.14519.5.2.1.6279.6001.450501966058...   97.323932   \n",
       "1011  1.3.6.1.4.1.14519.5.2.1.6279.6001.511347030803...   60.775061   \n",
       "1012  1.3.6.1.4.1.14519.5.2.1.6279.6001.511347030803...  -85.421039   \n",
       "1013  1.3.6.1.4.1.14519.5.2.1.6279.6001.511347030803... -108.527516   \n",
       "1016  1.3.6.1.4.1.14519.5.2.1.6279.6001.525937963993...  128.067382   \n",
       "1017  1.3.6.1.4.1.14519.5.2.1.6279.6001.534006575256...  -95.039572   \n",
       "1018  1.3.6.1.4.1.14519.5.2.1.6279.6001.534006575256...   55.379929   \n",
       "1019  1.3.6.1.4.1.14519.5.2.1.6279.6001.534006575256...  123.602236   \n",
       "1020  1.3.6.1.4.1.14519.5.2.1.6279.6001.534083630500...  113.911431   \n",
       "1021  1.3.6.1.4.1.14519.5.2.1.6279.6001.534083630500...  -87.298239   \n",
       "1022  1.3.6.1.4.1.14519.5.2.1.6279.6001.534083630500...  -42.906493   \n",
       "1030  1.3.6.1.4.1.14519.5.2.1.6279.6001.566816709786... -124.669468   \n",
       "1049  1.3.6.1.4.1.14519.5.2.1.6279.6001.621916089407...  -96.404448   \n",
       "1054  1.3.6.1.4.1.14519.5.2.1.6279.6001.640729228179... -112.794863   \n",
       "1072  1.3.6.1.4.1.14519.5.2.1.6279.6001.716498695101...  -67.817620   \n",
       "1073  1.3.6.1.4.1.14519.5.2.1.6279.6001.724251104254...   93.959583   \n",
       "1074  1.3.6.1.4.1.14519.5.2.1.6279.6001.724251104254...  -60.538320   \n",
       "1084  1.3.6.1.4.1.14519.5.2.1.6279.6001.752756872840...   56.393154   \n",
       "1106  1.3.6.1.4.1.14519.5.2.1.6279.6001.805925269324...  -66.693135   \n",
       "1108  1.3.6.1.4.1.14519.5.2.1.6279.6001.826812708000...  -41.567150   \n",
       "1109  1.3.6.1.4.1.14519.5.2.1.6279.6001.826812708000...  -53.619168   \n",
       "1116  1.3.6.1.4.1.14519.5.2.1.6279.6001.832260670372... -127.504533   \n",
       "1117  1.3.6.1.4.1.14519.5.2.1.6279.6001.832260670372...   22.427244   \n",
       "1123  1.3.6.1.4.1.14519.5.2.1.6279.6001.868211851413...  -79.933052   \n",
       "1124  1.3.6.1.4.1.14519.5.2.1.6279.6001.868211851413...   -7.731400   \n",
       "1125  1.3.6.1.4.1.14519.5.2.1.6279.6001.868211851413...  -22.951826   \n",
       "1137  1.3.6.1.4.1.14519.5.2.1.6279.6001.898642529028...  -42.200674   \n",
       "1138  1.3.6.1.4.1.14519.5.2.1.6279.6001.898642529028...   74.399625   \n",
       "1141  1.3.6.1.4.1.14519.5.2.1.6279.6001.905371958588...  109.116637   \n",
       "1180  1.3.6.1.4.1.14519.5.2.1.6279.6001.979083010707... -104.441975   \n",
       "\n",
       "          coordY       coordZ  diameter_mm  \\\n",
       "23     67.260517  -231.816619     6.440879   \n",
       "25     48.402806  -108.578632    13.596471   \n",
       "26     76.771663  -123.321911     4.343200   \n",
       "28    117.765579  -181.947817     4.681382   \n",
       "86   -161.197634  -312.071347     6.378436   \n",
       "98   -158.577253  -118.037336     6.720277   \n",
       "103    88.411590  -101.780481    10.462608   \n",
       "110   -88.128962  1131.113774     6.800249   \n",
       "117    32.809117   -77.986386     5.059407   \n",
       "129   -42.015360  -146.807400     7.053720   \n",
       "130    56.204384   -82.479458     7.888814   \n",
       "131    15.041574   -72.326810     9.258260   \n",
       "132   -25.732286  -199.615356     6.779556   \n",
       "135   153.392713  -465.845305    11.139832   \n",
       "136   183.938413  -467.875703    17.693824   \n",
       "139   177.171152  -530.968087     6.921522   \n",
       "144  -176.562406  -192.963340     8.621580   \n",
       "149   248.736321  -739.874684     6.259552   \n",
       "199   131.232520  -520.359227    15.485254   \n",
       "335    63.998022  -246.110624    13.053357   \n",
       "336   -17.372059  -204.396127    17.753232   \n",
       "344    57.288235  -133.479575     5.617921   \n",
       "345    41.009291  -155.488946     5.883952   \n",
       "347   174.389376  -405.734825    10.938275   \n",
       "348   179.760513  -498.510449     5.357747   \n",
       "349   163.015173  -456.450104     5.262731   \n",
       "350   209.817906  -465.062439     6.305539   \n",
       "367   -92.289830  -277.098560     8.982987   \n",
       "420   -21.678997   -97.004376    18.783233   \n",
       "454   137.279089  -626.592114    13.962632   \n",
       "...          ...          ...          ...   \n",
       "988   -33.770770   128.831158     4.514864   \n",
       "1011   74.123970  -214.782347    25.233202   \n",
       "1012   25.261721  -220.833830     9.756615   \n",
       "1013  -38.825247  -199.207307    10.989140   \n",
       "1016   67.863939   -90.451408    11.645609   \n",
       "1017   63.780273   -94.863462    12.801356   \n",
       "1018  -25.757739   -70.432702    14.629050   \n",
       "1019   -8.037283  -208.259512     7.283783   \n",
       "1020  -36.972024  -139.106781     4.315291   \n",
       "1021   56.271657  -112.290634     5.965580   \n",
       "1022   -3.298740  -115.103859     5.090964   \n",
       "1030   21.097098  -169.603976     6.731879   \n",
       "1049   43.840582  -155.371019    11.487328   \n",
       "1054 -227.313025  -199.293267     6.217390   \n",
       "1072 -108.807308   -97.206670     8.091313   \n",
       "1073  182.810062  -519.166061     5.525559   \n",
       "1074  148.054637  -648.371453     7.244055   \n",
       "1084   67.680087   -64.674453    19.653877   \n",
       "1106   97.045220  -267.309005    17.336250   \n",
       "1108  -53.185545  -128.374490     7.985023   \n",
       "1109  -51.119561  -138.586783     5.313818   \n",
       "1116   80.973952  -221.293661     6.131001   \n",
       "1117   36.288954   -86.836081     6.246461   \n",
       "1123   81.937152  -169.433720     8.368487   \n",
       "1124   58.536523  -110.545257     5.127950   \n",
       "1125   78.571156  -136.901025     6.430802   \n",
       "1137   92.207156  -566.589551     4.678130   \n",
       "1138  112.651026  -534.715881     4.581767   \n",
       "1141   48.589511  -120.892058    21.583112   \n",
       "1180   57.839428  -124.308363     7.310400   \n",
       "\n",
       "                                                   file  \n",
       "23    /media/mike/tera/data/databowl/luna/subset0/1....  \n",
       "25    /media/mike/tera/data/databowl/luna/subset0/1....  \n",
       "26    /media/mike/tera/data/databowl/luna/subset0/1....  \n",
       "28    /media/mike/tera/data/databowl/luna/subset0/1....  \n",
       "86    /media/mike/tera/data/databowl/luna/subset0/1....  \n",
       "98    /media/mike/tera/data/databowl/luna/subset0/1....  \n",
       "103   /media/mike/tera/data/databowl/luna/subset0/1....  \n",
       "110   /media/mike/tera/data/databowl/luna/subset0/1....  \n",
       "117   /media/mike/tera/data/databowl/luna/subset0/1....  \n",
       "129   /media/mike/tera/data/databowl/luna/subset0/1....  \n",
       "130   /media/mike/tera/data/databowl/luna/subset0/1....  \n",
       "131   /media/mike/tera/data/databowl/luna/subset0/1....  \n",
       "132   /media/mike/tera/data/databowl/luna/subset0/1....  \n",
       "135   /media/mike/tera/data/databowl/luna/subset0/1....  \n",
       "136   /media/mike/tera/data/databowl/luna/subset0/1....  \n",
       "139   /media/mike/tera/data/databowl/luna/subset0/1....  \n",
       "144   /media/mike/tera/data/databowl/luna/subset0/1....  \n",
       "149   /media/mike/tera/data/databowl/luna/subset0/1....  \n",
       "199   /media/mike/tera/data/databowl/luna/subset0/1....  \n",
       "335   /media/mike/tera/data/databowl/luna/subset0/1....  \n",
       "336   /media/mike/tera/data/databowl/luna/subset0/1....  \n",
       "344   /media/mike/tera/data/databowl/luna/subset0/1....  \n",
       "345   /media/mike/tera/data/databowl/luna/subset0/1....  \n",
       "347   /media/mike/tera/data/databowl/luna/subset0/1....  \n",
       "348   /media/mike/tera/data/databowl/luna/subset0/1....  \n",
       "349   /media/mike/tera/data/databowl/luna/subset0/1....  \n",
       "350   /media/mike/tera/data/databowl/luna/subset0/1....  \n",
       "367   /media/mike/tera/data/databowl/luna/subset0/1....  \n",
       "420   /media/mike/tera/data/databowl/luna/subset0/1....  \n",
       "454   /media/mike/tera/data/databowl/luna/subset0/1....  \n",
       "...                                                 ...  \n",
       "988   /media/mike/tera/data/databowl/luna/subset0/1....  \n",
       "1011  /media/mike/tera/data/databowl/luna/subset0/1....  \n",
       "1012  /media/mike/tera/data/databowl/luna/subset0/1....  \n",
       "1013  /media/mike/tera/data/databowl/luna/subset0/1....  \n",
       "1016  /media/mike/tera/data/databowl/luna/subset0/1....  \n",
       "1017  /media/mike/tera/data/databowl/luna/subset0/1....  \n",
       "1018  /media/mike/tera/data/databowl/luna/subset0/1....  \n",
       "1019  /media/mike/tera/data/databowl/luna/subset0/1....  \n",
       "1020  /media/mike/tera/data/databowl/luna/subset0/1....  \n",
       "1021  /media/mike/tera/data/databowl/luna/subset0/1....  \n",
       "1022  /media/mike/tera/data/databowl/luna/subset0/1....  \n",
       "1030  /media/mike/tera/data/databowl/luna/subset0/1....  \n",
       "1049  /media/mike/tera/data/databowl/luna/subset0/1....  \n",
       "1054  /media/mike/tera/data/databowl/luna/subset0/1....  \n",
       "1072  /media/mike/tera/data/databowl/luna/subset0/1....  \n",
       "1073  /media/mike/tera/data/databowl/luna/subset0/1....  \n",
       "1074  /media/mike/tera/data/databowl/luna/subset0/1....  \n",
       "1084  /media/mike/tera/data/databowl/luna/subset0/1....  \n",
       "1106  /media/mike/tera/data/databowl/luna/subset0/1....  \n",
       "1108  /media/mike/tera/data/databowl/luna/subset0/1....  \n",
       "1109  /media/mike/tera/data/databowl/luna/subset0/1....  \n",
       "1116  /media/mike/tera/data/databowl/luna/subset0/1....  \n",
       "1117  /media/mike/tera/data/databowl/luna/subset0/1....  \n",
       "1123  /media/mike/tera/data/databowl/luna/subset0/1....  \n",
       "1124  /media/mike/tera/data/databowl/luna/subset0/1....  \n",
       "1125  /media/mike/tera/data/databowl/luna/subset0/1....  \n",
       "1137  /media/mike/tera/data/databowl/luna/subset0/1....  \n",
       "1138  /media/mike/tera/data/databowl/luna/subset0/1....  \n",
       "1141  /media/mike/tera/data/databowl/luna/subset0/1....  \n",
       "1180  /media/mike/tera/data/databowl/luna/subset0/1....  \n",
       "\n",
       "[112 rows x 6 columns]"
      ]
     },
     "execution_count": 69,
     "metadata": {},
     "output_type": "execute_result"
    }
   ],
   "source": [
    "df_node"
   ]
  },
  {
   "cell_type": "code",
   "execution_count": 70,
   "metadata": {
    "collapsed": false,
    "deletable": true,
    "editable": true
   },
   "outputs": [
    {
     "name": "stderr",
     "output_type": "stream",
     "text": [
      " 62%|██████▏   | 69/112 [01:34<01:14,  1.73s/it]"
     ]
    },
    {
     "name": "stdout",
     "output_type": "stream",
     "text": [
      "borked\n"
     ]
    },
    {
     "name": "stderr",
     "output_type": "stream",
     "text": [
      "100%|██████████| 112/112 [02:32<00:00,  1.41it/s]\n"
     ]
    }
   ],
   "source": [
    "tumor_volumes = []\n",
    "neg_volumes = []\n",
    "for i in tqdm(range(len(dfs))):\n",
    "    vv, negs = get_multi_volume_from_row(dfs.iloc[i], resamp_path)\n",
    "    if vv.shape == (48,48,48):\n",
    "        tumor_volumes.append(vv)\n",
    "        neg_volumes += negs\n",
    "    else:\n",
    "        print('borked')\n",
    "        "
   ]
  },
  {
   "cell_type": "code",
   "execution_count": 71,
   "metadata": {
    "collapsed": false,
    "deletable": true,
    "editable": true
   },
   "outputs": [
    {
     "name": "stdout",
     "output_type": "stream",
     "text": [
      "(111, 48, 48, 48)\n"
     ]
    }
   ],
   "source": [
    "tumor_volumes = np.array(tumor_volumes)\n",
    "print(tumor_volumes.shape)\n",
    "    \n",
    "    "
   ]
  },
  {
   "cell_type": "code",
   "execution_count": 72,
   "metadata": {
    "collapsed": false,
    "deletable": true,
    "editable": true
   },
   "outputs": [
    {
     "data": {
      "text/plain": [
       "<matplotlib.image.AxesImage at 0x7f5040b65c88>"
      ]
     },
     "execution_count": 72,
     "metadata": {},
     "output_type": "execute_result"
    },
    {
     "data": {
      "image/png": "[encoded data removed]",
      "text/plain": [
       "<matplotlib.figure.Figure at 0x7f5040bfbf28>"
      ]
     },
     "metadata": {},
     "output_type": "display_data"
    }
   ],
   "source": [
    "plt.imshow(tumor_volumes[10][24])"
   ]
  },
  {
   "cell_type": "code",
   "execution_count": 73,
   "metadata": {
    "collapsed": false,
    "deletable": true,
    "editable": true
   },
   "outputs": [
    {
     "data": {
      "text/plain": [
       "<matplotlib.image.AxesImage at 0x7f5040b422b0>"
      ]
     },
     "execution_count": 73,
     "metadata": {},
     "output_type": "execute_result"
    },
    {
     "data": {
      "image/png": "[encoded data removed]",
      "text/plain": [
       "<matplotlib.figure.Figure at 0x7f5040bbcef0>"
      ]
     },
     "metadata": {},
     "output_type": "display_data"
    }
   ],
   "source": [
    "plt.imshow(neg_volumes[10][24])"
   ]
  },
  {
   "cell_type": "code",
   "execution_count": 74,
   "metadata": {
    "collapsed": false,
    "deletable": true,
    "editable": true
   },
   "outputs": [],
   "source": [
    "np.save(resamp_path + 'tumor_volumes', tumor_volumes)"
   ]
  },
  {
   "cell_type": "code",
   "execution_count": 75,
   "metadata": {
    "collapsed": true,
    "deletable": true,
    "editable": true
   },
   "outputs": [],
   "source": [
    "np.save(resamp_path + 'neg_volumes', neg_volumes)"
   ]
  },
  {
   "cell_type": "code",
   "execution_count": 93,
   "metadata": {
    "collapsed": false,
    "deletable": true,
    "editable": true
   },
   "outputs": [
    {
     "data": {
      "text/plain": [
       "20"
      ]
     },
     "execution_count": 93,
     "metadata": {},
     "output_type": "execute_result"
    }
   ],
   "source": [
    "vv = get_tumor_randseries_from_row(dfs.iloc[0], resamp_path)\n",
    "len(vv)"
   ]
  },
  {
   "cell_type": "code",
   "execution_count": 97,
   "metadata": {
    "collapsed": false,
    "deletable": true,
    "editable": true
   },
   "outputs": [
    {
     "data": {
      "text/plain": [
       "<matplotlib.image.AxesImage at 0x7f50406fba20>"
      ]
     },
     "execution_count": 97,
     "metadata": {},
     "output_type": "execute_result"
    },
    {
     "data": {
      "image/png": "[encoded data removed]",
      "text/plain": [
       "<matplotlib.figure.Figure at 0x7f5040aa6f60>"
      ]
     },
     "metadata": {},
     "output_type": "display_data"
    }
   ],
   "source": [
    "plt.imshow(vv[1][24])"
   ]
  },
  {
   "cell_type": "code",
   "execution_count": 99,
   "metadata": {
    "collapsed": false,
    "deletable": true,
    "editable": true
   },
   "outputs": [
    {
     "name": "stderr",
     "output_type": "stream",
     "text": [
      "100%|██████████| 112/112 [03:12<00:00,  1.47s/it]\n"
     ]
    }
   ],
   "source": [
    "# memory cleanup\n",
    "neg_volumes = []\n",
    "tumor_volumes = []\n",
    "for i in tqdm(range(len(dfs))):\n",
    "    vv = get_tumor_randseries_from_row(dfs.iloc[i], resamp_path)\n",
    "#     if vv.shape == (48,48,48):\n",
    "    tumor_volumes += vv\n",
    "#     else:\n",
    "#         print('borked')"
   ]
  },
  {
   "cell_type": "code",
   "execution_count": 109,
   "metadata": {
    "collapsed": false,
    "deletable": true,
    "editable": true
   },
   "outputs": [],
   "source": [
    "np.save(resamp_path + 'tumor_p_volumes', tumor_volumes)"
   ]
  },
  {
   "cell_type": "code",
   "execution_count": 101,
   "metadata": {
    "collapsed": true,
    "deletable": true,
    "editable": true
   },
   "outputs": [],
   "source": []
  },
  {
   "cell_type": "code",
   "execution_count": 103,
   "metadata": {
    "collapsed": false,
    "deletable": true,
    "editable": true
   },
   "outputs": [
    {
     "data": {
      "text/plain": [
       "'/media/mike/tera/data/databowl/resampled_images/'"
      ]
     },
     "execution_count": 103,
     "metadata": {},
     "output_type": "execute_result"
    }
   ],
   "source": [
    "resamp_path"
   ]
  },
  {
   "cell_type": "code",
   "execution_count": 105,
   "metadata": {
    "collapsed": false,
    "deletable": true,
    "editable": true
   },
   "outputs": [
    {
     "data": {
      "text/plain": [
       "(2206, (48, 48, 48))"
      ]
     },
     "execution_count": 105,
     "metadata": {},
     "output_type": "execute_result"
    }
   ],
   "source": [
    "len(tumor_volumes), tumor_volumes[0].shape"
   ]
  },
  {
   "cell_type": "code",
   "execution_count": 106,
   "metadata": {
    "collapsed": false,
    "deletable": true,
    "editable": true
   },
   "outputs": [
    {
     "data": {
      "text/plain": [
       "dtype('int16')"
      ]
     },
     "execution_count": 106,
     "metadata": {},
     "output_type": "execute_result"
    }
   ],
   "source": [
    "tumor_volumes[0].dtype"
   ]
  },
  {
   "cell_type": "code",
   "execution_count": 107,
   "metadata": {
    "collapsed": true,
    "deletable": true,
    "editable": true
   },
   "outputs": [],
   "source": [
    "tumor_volumes = np.array(tumor_volumes, dtype='int16')"
   ]
  },
  {
   "cell_type": "code",
   "execution_count": 108,
   "metadata": {
    "collapsed": false,
    "deletable": true,
    "editable": true
   },
   "outputs": [
    {
     "data": {
      "text/plain": [
       "(2206, 48, 48, 48)"
      ]
     },
     "execution_count": 108,
     "metadata": {},
     "output_type": "execute_result"
    }
   ],
   "source": [
    "tumor_volumes.shape"
   ]
  },
  {
   "cell_type": "code",
   "execution_count": null,
   "metadata": {
    "collapsed": true,
    "deletable": true,
    "editable": true
   },
   "outputs": [],
   "source": []
  }
 ],
 "metadata": {
  "_change_revision": 7,
  "_is_fork": false,
  "kernelspec": {
   "display_name": "Python 3",
   "language": "python",
   "name": "python3"
  },
  "language_info": {
   "codemirror_mode": {
    "name": "ipython",
    "version": 3
   },
   "file_extension": ".py",
   "mimetype": "text/x-python",
   "name": "python",
   "nbconvert_exporter": "python",
   "pygments_lexer": "ipython3",
   "version": "3.5.2"
  }
 },
 "nbformat": 4,
 "nbformat_minor": 0
}
