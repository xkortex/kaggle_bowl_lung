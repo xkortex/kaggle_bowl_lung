{
 "cells": [
  {
   "cell_type": "code",
   "execution_count": 29,
   "metadata": {
    "collapsed": false
   },
   "outputs": [
    {
     "data": {
      "text/plain": [
       "<module 'autoencoder' from '/home/mike/py/kaggle/kaggle_data_bowl/autoencoder.py'>"
      ]
     },
     "execution_count": 29,
     "metadata": {},
     "output_type": "execute_result"
    }
   ],
   "source": [
    "from imp import reload\n",
    "import matplotlib.pyplot as plt\n",
    "import autoencoder as aelib\n",
    "reload(aelib)\n"
   ]
  },
  {
   "cell_type": "code",
   "execution_count": 12,
   "metadata": {
    "collapsed": true
   },
   "outputs": [],
   "source": [
    "from keras.datasets import mnist\n",
    "from keras.utils import np_utils\n",
    "from keras_tqdm import TQDMNotebookCallback\n"
   ]
  },
  {
   "cell_type": "code",
   "execution_count": 26,
   "metadata": {
    "collapsed": true
   },
   "outputs": [],
   "source": [
    "def draw_digit(generator, z_sample, digit_size = 28, n=1):\n",
    "    z_sample = np.array(z_sample).reshape(1,2)\n",
    "    figure = np.zeros((digit_size * n, digit_size * n))\n",
    "    x_decoded = generator.predict(z_sample)\n",
    "    digit = x_decoded[0].reshape(digit_size, digit_size)\n",
    "    i, j = 0,0\n",
    "    figure[i * digit_size: (i + 1) * digit_size,\n",
    "           j * digit_size: (j + 1) * digit_size] = digit\n",
    "    plt.figure(figsize=(2, 2))\n",
    "    plt.imshow(figure)\n",
    "    plt.show()\n",
    "    \n",
    "def graph_digits(x_test_encoded, dims=(0,1), lim=None):\n",
    "#     colors = ['silver', 'w', 'orange', 'lime', 'y', 'r', 'darkgreen', 'cyan', 'blue', 'darkviolet']     # synesthesia scheme\n",
    "    colors = ['silver', 'brown', 'red', 'orange', 'yellow', 'green', 'blue', 'violet', 'cyan', 'white' ]\n",
    "    plt.figure(figsize=(6, 6))\n",
    "    plots =[]\n",
    "    for digit in range(10):\n",
    "        mask = y_test==digit\n",
    "        xd, yd = dims\n",
    "        plots.append(plt.scatter(x_test_encoded[:, xd][mask], x_test_encoded[:, yd][mask], c=colors[digit]))\n",
    "    ax = plt.gca()\n",
    "    ax.legend(plots, range(10))\n",
    "    plt.scatter(0,0, s=10, marker='*', c='y')\n",
    "    if lim is not None:\n",
    "        plt.xlim((-lim,lim))\n",
    "        plt.ylim((-lim,lim))\n",
    "    plt.show()"
   ]
  },
  {
   "cell_type": "code",
   "execution_count": 3,
   "metadata": {
    "collapsed": false
   },
   "outputs": [
    {
     "name": "stdout",
     "output_type": "stream",
     "text": [
      "(28, 28, 1)\n"
     ]
    }
   ],
   "source": [
    "# train the VAE on MNIST digits\n",
    "original_img_size = (28,28, 1)\n",
    "(x_train, y_train), (x_test, y_test) = mnist.load_data()\n",
    "batch_size = 100\n",
    "print(original_img_size)\n",
    "x_train = x_train.astype('float32') / 255.\n",
    "x_train = x_train.reshape((x_train.shape[0],) + original_img_size)\n",
    "x_test = x_test.astype('float32') / 255.\n",
    "x_test = x_test.reshape((x_test.shape[0],) + original_img_size)"
   ]
  },
  {
   "cell_type": "code",
   "execution_count": 4,
   "metadata": {
    "collapsed": false
   },
   "outputs": [
    {
     "name": "stdout",
     "output_type": "stream",
     "text": [
      "(60000,) (10000, 10)\n",
      "x_train.shape: (60000, 28, 28, 1)\n",
      "x_train.shape: (60000, 28, 28, 1)\n"
     ]
    }
   ],
   "source": [
    "# one hot encode outputs\n",
    "y_train_oh = np_utils.to_categorical(y_train)\n",
    "y_test_oh = np_utils.to_categorical(y_test)\n",
    "num_classes = y_test_oh.shape[1]\n",
    "print(y_train.shape, y_test_oh.shape)\n",
    "print('x_train.shape:', x_train.shape)\n",
    "print('x_train.shape:', x_train.shape)"
   ]
  },
  {
   "cell_type": "code",
   "execution_count": 46,
   "metadata": {
    "collapsed": false
   },
   "outputs": [
    {
     "name": "stdout",
     "output_type": "stream",
     "text": [
      "(28, 28, 1)\n"
     ]
    },
    {
     "name": "stderr",
     "output_type": "stream",
     "text": [
      "/home/mike/py/kaggle/kaggle_data_bowl/autoencoder.py:170: UserWarning: Update your `Conv2D` call to the Keras 2 API: `Conv2D(64, (3, 3), padding=\"same\", activation=\"relu\")`\n",
      "  conv_2 = Conv2D(n_filters, px_conv, px_conv, border_mode='same', activation='relu',\n",
      "/home/mike/py/kaggle/kaggle_data_bowl/autoencoder.py:172: UserWarning: Update your `Conv2D` call to the Keras 2 API: `Conv2D(64, (3, 3), padding=\"same\", strides=(2, 2), activation=\"relu\")`\n",
      "  stack = Conv2D(n_filters, px_conv, px_conv, border_mode='same', activation='relu',\n",
      "/home/mike/py/kaggle/kaggle_data_bowl/autoencoder.py:174: UserWarning: Update your `Conv2D` call to the Keras 2 API: `Conv2D(64, (3, 3), padding=\"same\", name=\"stack_base\", activation=\"relu\")`\n",
      "  \n",
      "/home/mike/py/kaggle/kaggle_data_bowl/autoencoder.py:183: UserWarning: Update your `Conv2D` call to the Keras 2 API: `Conv2D(64, (3, 3), padding=\"same\", strides=(1, 1), name=\"stack_0\", activation=\"relu\")`\n",
      "  \n",
      "/home/mike/py/kaggle/kaggle_data_bowl/autoencoder.py:183: UserWarning: Update your `Conv2D` call to the Keras 2 API: `Conv2D(64, (3, 3), padding=\"same\", strides=(1, 1), name=\"stack_1\", activation=\"relu\")`\n",
      "  \n",
      "/home/mike/py/kaggle/kaggle_data_bowl/autoencoder.py:183: UserWarning: Update your `Conv2D` call to the Keras 2 API: `Conv2D(64, (3, 3), padding=\"same\", strides=(1, 1), name=\"stack_2\", activation=\"relu\")`\n",
      "  \n",
      "/home/mike/py/kaggle/kaggle_data_bowl/autoencoder.py:186: UserWarning: Update your `Conv2D` call to the Keras 2 API: `Conv2D(64, (3, 3), padding=\"same\", activation=\"relu\")`\n",
      "  \n",
      "/home/mike/py/kaggle/kaggle_data_bowl/autoencoder.py:214: UserWarning: Update your `Dense` call to the Keras 2 API: `Dense(10, kernel_initializer=\"normal\", name=\"classer_output\", activation=\"softmax\")`\n",
      "  #         classer_base = Dense(n_classes, init='normal', activation='softmax', name='classer_output')(z)\n",
      "/home/mike/py/kaggle/kaggle_data_bowl/autoencoder.py:231: UserWarning: Update your `Conv2DTranspose` call to the Keras 2 API: `Conv2DTranspose(64, (3, 3), padding=\"same\", activation=\"relu\")`\n",
      "  decoder_deconv_2 = Deconv2D(n_filters, px_conv, px_conv, output_shape,\n",
      "/home/mike/py/kaggle/kaggle_data_bowl/autoencoder.py:233: UserWarning: Update your `Conv2DTranspose` call to the Keras 2 API: `Conv2DTranspose(64, (3, 3), padding=\"same\", activation=\"relu\")`\n",
      "  \n",
      "/home/mike/py/kaggle/kaggle_data_bowl/autoencoder.py:240: UserWarning: Update your `Conv2DTranspose` call to the Keras 2 API: `Conv2DTranspose(64, (2, 2), padding=\"valid\", strides=(2, 2), activation=\"relu\")`\n",
      "  decoder_mean_squash = Conv2D(self.img_chns, 2, 2, border_mode='valid', activation='sigmoid', name='main_output')\n",
      "/home/mike/py/kaggle/kaggle_data_bowl/autoencoder.py:241: UserWarning: Update your `Conv2D` call to the Keras 2 API: `Conv2D(1, (2, 2), padding=\"same\", name=\"main_output\", activation=\"sigmoid\")`\n",
      "  \n"
     ]
    }
   ],
   "source": [
    "reload(aelib)\n",
    "ae = aelib.VAE_MNIST_0(compile_decoder=False)"
   ]
  },
  {
   "cell_type": "code",
   "execution_count": 47,
   "metadata": {
    "collapsed": false
   },
   "outputs": [
    {
     "name": "stdout",
     "output_type": "stream",
     "text": [
      "shapes:  (60000, 28, 28, 1) (10000, 28, 28, 1)\n",
      "____________________________________________________________________________________________________\n",
      "Layer (type)                     Output Shape          Param #     Connected to                     \n",
      "====================================================================================================\n",
      "main_input (InputLayer)          (100, 28, 28, 1)      0                                            \n",
      "____________________________________________________________________________________________________\n",
      "conv2d_30 (Conv2D)               (100, 28, 28, 64)     640                                          \n",
      "____________________________________________________________________________________________________\n",
      "conv2d_31 (Conv2D)               (100, 14, 14, 64)     36928                                        \n",
      "____________________________________________________________________________________________________\n",
      "stack_base (Conv2D)              (100, 14, 14, 64)     36928                                        \n",
      "____________________________________________________________________________________________________\n",
      "batch_normalization_37 (BatchNor (100, 14, 14, 64)     256                                          \n",
      "____________________________________________________________________________________________________\n",
      "dropout_28 (Dropout)             (100, 14, 14, 64)     0                                            \n",
      "____________________________________________________________________________________________________\n",
      "stack_0 (Conv2D)                 (100, 14, 14, 64)     36928                                        \n",
      "____________________________________________________________________________________________________\n",
      "batch_normalization_38 (BatchNor (100, 14, 14, 64)     256                                          \n",
      "____________________________________________________________________________________________________\n",
      "dropout_29 (Dropout)             (100, 14, 14, 64)     0                                            \n",
      "____________________________________________________________________________________________________\n",
      "stack_1 (Conv2D)                 (100, 14, 14, 64)     36928                                        \n",
      "____________________________________________________________________________________________________\n",
      "batch_normalization_39 (BatchNor (100, 14, 14, 64)     256                                          \n",
      "____________________________________________________________________________________________________\n",
      "dropout_30 (Dropout)             (100, 14, 14, 64)     0                                            \n",
      "____________________________________________________________________________________________________\n",
      "stack_2 (Conv2D)                 (100, 14, 14, 64)     36928                                        \n",
      "____________________________________________________________________________________________________\n",
      "batch_normalization_40 (BatchNor (100, 14, 14, 64)     256                                          \n",
      "____________________________________________________________________________________________________\n",
      "conv2d_32 (Conv2D)               (100, 14, 14, 64)     36928                                        \n",
      "____________________________________________________________________________________________________\n",
      "flatten_10 (Flatten)             (100, 12544)          0                                            \n",
      "____________________________________________________________________________________________________\n",
      "intermezzo (Dense)               (100, 256)            3211520                                      \n",
      "____________________________________________________________________________________________________\n",
      "dense_59 (Dense)                 (100, 2)              514                                          \n",
      "____________________________________________________________________________________________________\n",
      "dense_60 (Dense)                 (100, 2)              514                                          \n",
      "____________________________________________________________________________________________________\n",
      "latent_z (Lambda)                (100, 2)              0                                            \n",
      "____________________________________________________________________________________________________\n",
      "dense_61 (Dense)                 (100, 256)            768                                          \n",
      "____________________________________________________________________________________________________\n",
      "dense_62 (Dense)                 (100, 12544)          3223808                                      \n",
      "____________________________________________________________________________________________________\n",
      "reshape_9 (Reshape)              (100, 14, 14, 64)     0                                            \n",
      "____________________________________________________________________________________________________\n",
      "conv2d_transpose_25 (Conv2DTrans (100, 14, 14, 64)     36928                                        \n",
      "____________________________________________________________________________________________________\n",
      "conv2d_transpose_26 (Conv2DTrans (100, 14, 14, 64)     36928                                        \n",
      "____________________________________________________________________________________________________\n",
      "conv2d_transpose_27 (Conv2DTrans (100, 28, 28, 64)     16448                                        \n",
      "____________________________________________________________________________________________________\n",
      "main_output (Conv2D)             (100, 28, 28, 1)      257                                          \n",
      "====================================================================================================\n",
      "Total params: 6,750,917.0\n",
      "Trainable params: 6,750,405.0\n",
      "Non-trainable params: 512.0\n",
      "____________________________________________________________________________________________________\n",
      "None\n"
     ]
    }
   ],
   "source": [
    "print('shapes: ', x_train.shape, x_test.shape)\n",
    "vae = ae.model\n",
    "print(vae.summary())"
   ]
  },
  {
   "cell_type": "code",
   "execution_count": 48,
   "metadata": {
    "collapsed": false
   },
   "outputs": [
    {
     "name": "stderr",
     "output_type": "stream",
     "text": [
      "/home/mike/ve/keras/lib/python3.5/site-packages/ipykernel/__main__.py:7: UserWarning: The `nb_epoch` argument in `fit` has been renamed `epochs`.\n",
      "Widget Javascript not detected.  It may not be installed or enabled properly.\n"
     ]
    },
    {
     "data": {
      "application/vnd.jupyter.widget-view+json": {
       "model_id": "fdff8528d8634bd28cc4428b7e21b937"
      }
     },
     "metadata": {},
     "output_type": "display_data"
    },
    {
     "name": "stderr",
     "output_type": "stream",
     "text": [
      "Widget Javascript not detected.  It may not be installed or enabled properly.\n"
     ]
    },
    {
     "data": {
      "application/vnd.jupyter.widget-view+json": {
       "model_id": "4d96e2e753e240d9aec84d87834bfdf4"
      }
     },
     "metadata": {},
     "output_type": "display_data"
    },
    {
     "name": "stdout",
     "output_type": "stream",
     "text": [
      "\n"
     ]
    },
    {
     "data": {
      "text/plain": [
       "<keras.callbacks.History at 0x7f0f35f9cfd0>"
      ]
     },
     "execution_count": 48,
     "metadata": {},
     "output_type": "execute_result"
    }
   ],
   "source": [
    "vae.fit(x_train, x_train,\n",
    "        shuffle=True,\n",
    "        nb_epoch=1,\n",
    "        batch_size=batch_size,\n",
    "        validation_data=(x_test, x_test),\n",
    "        verbose=False,\n",
    "        callbacks=[TQDMNotebookCallback()])"
   ]
  },
  {
   "cell_type": "code",
   "execution_count": 49,
   "metadata": {
    "collapsed": false
   },
   "outputs": [
    {
     "data": {
      "image/png": "[encoded data removed]",
      "text/plain": [
       "<matplotlib.figure.Figure at 0x7f0f35fabf28>"
      ]
     },
     "metadata": {},
     "output_type": "display_data"
    }
   ],
   "source": [
    "encoder = ae.encoder\n",
    "x_test_encoded = encoder.predict(x_test, batch_size=batch_size)\n",
    "graph_digits(x_test_encoded)"
   ]
  },
  {
   "cell_type": "code",
   "execution_count": null,
   "metadata": {
    "collapsed": true
   },
   "outputs": [],
   "source": []
  },
  {
   "cell_type": "code",
   "execution_count": null,
   "metadata": {
    "collapsed": true
   },
   "outputs": [],
   "source": []
  }
 ],
 "metadata": {
  "kernelspec": {
   "display_name": "Python 3",
   "language": "python",
   "name": "python3"
  },
  "language_info": {
   "codemirror_mode": {
    "name": "ipython",
    "version": 3
   },
   "file_extension": ".py",
   "mimetype": "text/x-python",
   "name": "python",
   "nbconvert_exporter": "python",
   "pygments_lexer": "ipython3",
   "version": "3.5.2"
  }
 },
 "nbformat": 4,
 "nbformat_minor": 2
}
