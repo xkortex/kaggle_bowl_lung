{
 "cells": [
  {
   "cell_type": "markdown",
   "metadata": {
    "_cell_guid": "a07f5103-d036-968f-40d7-57649bbb4864",
    "deletable": true,
    "editable": true
   },
   "source": [
    "## Introduction\n",
    "\n",
    "Working with these files can be a challenge, especially given their heterogeneous nature. Some preprocessing is required before they are ready for consumption by your CNN.\n",
    "\n",
    "Fortunately, I participated in the LUNA16 competition as part of a university course on computer aided diagnosis, so I have some experience working with these files. At this moment we top the leaderboard there :)\n",
    "\n",
    "**This tutorial aims to provide a comprehensive overview of useful steps to take before the data hits your ConvNet/other ML method.**\n",
    "\n",
    "What we will cover:  \n",
    "\n",
    "* **Loading the DICOM files**, and adding missing metadata  \n",
    "* **Converting the pixel values to *Hounsfield Units (HU)***, and what tissue these unit values correspond to\n",
    "* **Resampling** to an isomorphic resolution to remove variance in scanner resolution.\n",
    "* **3D plotting**, visualization is very useful to see what we are doing.\n",
    "* **Lung segmentation**\n",
    "* **Normalization** that makes sense.\n",
    "* **Zero centering** the scans.\n",
    "\n",
    "\n",
    "---\n",
    "\n",
    "Before we start, let's import some packages and determine the available patients."
   ]
  },
  {
   "cell_type": "code",
   "execution_count": 1,
   "metadata": {
    "_cell_guid": "1d12eab6-3340-fa57-84a1-91fe13886996",
    "collapsed": false,
    "deletable": true,
    "editable": true
   },
   "outputs": [],
   "source": [
    "%matplotlib inline\n",
    "\n",
    "import numpy as np # linear algebra\n",
    "import pandas as pd # data processing, CSV file I/O (e.g. pd.read_csv)\n",
    "import dicom\n",
    "import os\n",
    "import glob\n",
    "import scipy.ndimage\n",
    "import matplotlib.pyplot as plt\n",
    "import ipyvolume\n",
    "\n",
    "from skimage import measure, morphology\n",
    "from mpl_toolkits.mplot3d.art3d import Poly3DCollection\n",
    "\n",
    "# Some constants \n",
    "INPUT_FOLDER = '/media/mike/tera/data/databowl/kgsamples/'\n",
    "patients = os.listdir(INPUT_FOLDER)\n",
    "patients.sort()"
   ]
  },
  {
   "cell_type": "code",
   "execution_count": 2,
   "metadata": {
    "collapsed": true,
    "deletable": true,
    "editable": true
   },
   "outputs": [],
   "source": [
    "def padcrop_vol(vol, newshape=[360, 360, 360]):\n",
    "    vol2 = np.array(vol)\n",
    "    shape = vol.shape\n",
    "    z, y, x = shape\n",
    "    mids = [d // 2 for d in shape]\n",
    "    for dim in range(3):\n",
    "        if shape[dim] < newshape[dim]:\n",
    "            pad_amt = (newshape[dim] - shape[dim]) // 2\n",
    "            parity = (shape[dim] & 1) ^ (newshape[dim] & 1)\n",
    "            pad_tup = (pad_amt, pad_amt + parity) # \n",
    "            pad_list = [(0,0), (0,0), (0,0)]\n",
    "            pad_list[dim] = pad_tup\n",
    "            vol2 = np.pad(vol2, pad_list, mode='constant', constant_values=0)\n",
    "        if shape[dim] > newshape[dim]:\n",
    "            slc_amt = (shape[dim] - newshape[dim]) // 2\n",
    "            parity = (shape[dim] & 1) ^ (newshape[dim] & 1)\n",
    "            slc_tup = (slc_amt, shape[dim] - slc_amt - parity) # \n",
    "            null1, vol2, null2 = np.split(vol2, slc_tup, dim)\n",
    "\n",
    "    return vol2"
   ]
  },
  {
   "cell_type": "markdown",
   "metadata": {
    "_cell_guid": "56147dd5-3127-8844-644d-0b1565c9dac3",
    "deletable": true,
    "editable": true
   },
   "source": [
    "# Loading the files\n",
    "Dicom is the de-facto file standard in medical imaging. This is my first time working with it, but it seems to be fairly straight-forward.  These files contain a lot of metadata (such as the pixel size, so how long one pixel is in every dimension in the real world). \n",
    "\n",
    "This pixel size/coarseness of the scan differs from scan to scan (e.g. the distance between slices may differ), which can hurt performance of CNN approaches. We can deal with this by isomorphic resampling, which we will do later.\n",
    "\n",
    "Below is code to load a scan, which consists of multiple slices, which we simply save in a Python list. Every folder in the dataset is one scan (so one patient). One metadata field is missing, the pixel size in the Z direction, which is the slice thickness. Fortunately we can infer this, and we add this to the metadata."
   ]
  },
  {
   "cell_type": "code",
   "execution_count": 3,
   "metadata": {
    "collapsed": false,
    "deletable": true,
    "editable": true
   },
   "outputs": [],
   "source": [
    "labels = pd.read_csv('/media/mike/tera/data/databowl/stage1_labels.csv')"
   ]
  },
  {
   "cell_type": "code",
   "execution_count": 4,
   "metadata": {
    "_cell_guid": "4f50e5b1-c1e8-14a8-591b-eb466e5adc0d",
    "collapsed": true,
    "deletable": true,
    "editable": true
   },
   "outputs": [],
   "source": [
    "# Load the scans in given folder path\n",
    "def load_scan(path):\n",
    "    slices = [dicom.read_file(path + '/' + s) for s in os.listdir(path)]\n",
    "    slices.sort(key = lambda x: int(x.InstanceNumber))\n",
    "    try:\n",
    "        slice_thickness = np.abs(slices[0].ImagePositionPatient[2] - slices[1].ImagePositionPatient[2])\n",
    "    except:\n",
    "        slice_thickness = np.abs(slices[0].SliceLocation - slices[1].SliceLocation)\n",
    "        \n",
    "    for s in slices:\n",
    "        s.SliceThickness = slice_thickness\n",
    "        \n",
    "    return slices"
   ]
  },
  {
   "cell_type": "markdown",
   "metadata": {
    "_cell_guid": "79a91d86-1009-ac6d-14d4-a1c117f3dd64",
    "deletable": true,
    "editable": true
   },
   "source": [
    "The unit of measurement in CT scans is the **Hounsfield Unit (HU)**, which is a measure of radiodensity. CT scanners are carefully calibrated to accurately measure this.  From Wikipedia:\n",
    "\n",
    "![HU examples][1]\n",
    "\n",
    "By default however, the returned values are not in this unit. Let's fix this.\n",
    "\n",
    "Some scanners have cylindrical scanning bounds, but the output image is square. The pixels that fall outside of these bounds get the fixed value -2000. The first step is setting these values to 0, which currently corresponds to air. Next, let's go back to HU units, by multiplying with the rescale slope and adding the intercept (which are conveniently stored in the metadata of the scans!).\n",
    "\n",
    "  [1]: http://i.imgur.com/4rlyReh.png"
   ]
  },
  {
   "cell_type": "code",
   "execution_count": 5,
   "metadata": {
    "_cell_guid": "e60f402c-0cd9-f0d2-0c3d-3e7af98f9845",
    "collapsed": false,
    "deletable": true,
    "editable": true
   },
   "outputs": [],
   "source": [
    "def get_pixels_hu(scans):\n",
    "    image = np.stack([s.pixel_array for s in scans])\n",
    "    # Convert to int16 (from sometimes int16), \n",
    "    # should be possible as values should always be low enough (<32k)\n",
    "    image = image.astype(np.int16)\n",
    "\n",
    "    # Set outside-of-scan pixels to 0\n",
    "    # The intercept is usually -1024, so air is approximately 0\n",
    "    image[image == -2000] = 0\n",
    "    \n",
    "    # Convert to Hounsfield units (HU)\n",
    "    intercept = scans[0].RescaleIntercept\n",
    "    slope = scans[0].RescaleSlope\n",
    "    \n",
    "    if slope != 1:\n",
    "        image = slope * image.astype(np.float64)\n",
    "        image = image.astype(np.int16)\n",
    "        \n",
    "    image += np.int16(intercept)\n",
    "    \n",
    "    return np.array(image, dtype=np.int16)"
   ]
  },
  {
   "cell_type": "markdown",
   "metadata": {
    "_cell_guid": "9a64cb22-2b5d-425c-7ced-0e977ca04fa7",
    "deletable": true,
    "editable": true
   },
   "source": [
    "Let's take a look at one of the patients."
   ]
  },
  {
   "cell_type": "code",
   "execution_count": 6,
   "metadata": {
    "collapsed": false,
    "deletable": true,
    "editable": true
   },
   "outputs": [
    {
     "data": {
      "text/html": [
       "<div>\n",
       "<table border=\"1\" class=\"dataframe\">\n",
       "  <thead>\n",
       "    <tr style=\"text-align: right;\">\n",
       "      <th></th>\n",
       "      <th>id</th>\n",
       "      <th>cancer</th>\n",
       "    </tr>\n",
       "  </thead>\n",
       "  <tbody>\n",
       "    <tr>\n",
       "      <th>0</th>\n",
       "      <td>0015ceb851d7251b8f399e39779d1e7d</td>\n",
       "      <td>1</td>\n",
       "    </tr>\n",
       "    <tr>\n",
       "      <th>3</th>\n",
       "      <td>006b96310a37b36cccb2ab48d10b49a3</td>\n",
       "      <td>1</td>\n",
       "    </tr>\n",
       "    <tr>\n",
       "      <th>4</th>\n",
       "      <td>008464bb8521d09a42985dd8add3d0d2</td>\n",
       "      <td>1</td>\n",
       "    </tr>\n",
       "    <tr>\n",
       "      <th>8</th>\n",
       "      <td>00edff4f51a893d80dae2d42a7f45ad1</td>\n",
       "      <td>1</td>\n",
       "    </tr>\n",
       "    <tr>\n",
       "      <th>15</th>\n",
       "      <td>0257df465d9e4150adef13303433ff1e</td>\n",
       "      <td>1</td>\n",
       "    </tr>\n",
       "    <tr>\n",
       "      <th>18</th>\n",
       "      <td>02801e3bbcc6966cb115a962012c35df</td>\n",
       "      <td>1</td>\n",
       "    </tr>\n",
       "    <tr>\n",
       "      <th>19</th>\n",
       "      <td>028996723faa7840bb57f57e28275e4c</td>\n",
       "      <td>1</td>\n",
       "    </tr>\n",
       "    <tr>\n",
       "      <th>27</th>\n",
       "      <td>04a8c47583142181728056310759dea1</td>\n",
       "      <td>1</td>\n",
       "    </tr>\n",
       "    <tr>\n",
       "      <th>31</th>\n",
       "      <td>05609fdb8fa0895ac8a9be373144dac7</td>\n",
       "      <td>1</td>\n",
       "    </tr>\n",
       "    <tr>\n",
       "      <th>32</th>\n",
       "      <td>059d8c14b2256a2ba4e38ac511700203</td>\n",
       "      <td>1</td>\n",
       "    </tr>\n",
       "    <tr>\n",
       "      <th>34</th>\n",
       "      <td>064366faa1a83fdcb18b2538f1717290</td>\n",
       "      <td>1</td>\n",
       "    </tr>\n",
       "    <tr>\n",
       "      <th>37</th>\n",
       "      <td>0708c00f6117ed977bbe1b462b56848c</td>\n",
       "      <td>1</td>\n",
       "    </tr>\n",
       "    <tr>\n",
       "      <th>38</th>\n",
       "      <td>07349deeea878c723317a1ce42cc7e58</td>\n",
       "      <td>1</td>\n",
       "    </tr>\n",
       "    <tr>\n",
       "      <th>40</th>\n",
       "      <td>07bca4290a2530091ce1d5f200d9d526</td>\n",
       "      <td>1</td>\n",
       "    </tr>\n",
       "    <tr>\n",
       "      <th>43</th>\n",
       "      <td>081f4a90f24ac33c14b61b97969b7f81</td>\n",
       "      <td>1</td>\n",
       "    </tr>\n",
       "    <tr>\n",
       "      <th>53</th>\n",
       "      <td>09d7c4a3e1076dcfcae2b0a563a28364</td>\n",
       "      <td>1</td>\n",
       "    </tr>\n",
       "    <tr>\n",
       "      <th>59</th>\n",
       "      <td>0acbebb8d463b4b9ca88cf38431aac69</td>\n",
       "      <td>1</td>\n",
       "    </tr>\n",
       "    <tr>\n",
       "      <th>61</th>\n",
       "      <td>0c0de3749d4fe175b7a5098b060982a1</td>\n",
       "      <td>1</td>\n",
       "    </tr>\n",
       "    <tr>\n",
       "      <th>62</th>\n",
       "      <td>0c37613214faddf8701ca41e6d43f56e</td>\n",
       "      <td>1</td>\n",
       "    </tr>\n",
       "    <tr>\n",
       "      <th>64</th>\n",
       "      <td>0c60f4b87afcb3e2dfa65abbbf3ef2f9</td>\n",
       "      <td>1</td>\n",
       "    </tr>\n",
       "    <tr>\n",
       "      <th>68</th>\n",
       "      <td>0d06d764d3c07572074d468b4cff954f</td>\n",
       "      <td>1</td>\n",
       "    </tr>\n",
       "    <tr>\n",
       "      <th>78</th>\n",
       "      <td>0f5ab1976a1b1ef1c2eb1d340b0ce9c4</td>\n",
       "      <td>1</td>\n",
       "    </tr>\n",
       "    <tr>\n",
       "      <th>82</th>\n",
       "      <td>0ff552aa083ecfabaf1cfd65b0a8e674</td>\n",
       "      <td>1</td>\n",
       "    </tr>\n",
       "    <tr>\n",
       "      <th>92</th>\n",
       "      <td>118be21b7e0c3058b29a524686391c66</td>\n",
       "      <td>1</td>\n",
       "    </tr>\n",
       "    <tr>\n",
       "      <th>95</th>\n",
       "      <td>11fe5426ef497bc490b9f1465f1fb25e</td>\n",
       "      <td>1</td>\n",
       "    </tr>\n",
       "    <tr>\n",
       "      <th>100</th>\n",
       "      <td>12e0e2036f61c8a52ee4471bf813c36a</td>\n",
       "      <td>1</td>\n",
       "    </tr>\n",
       "    <tr>\n",
       "      <th>103</th>\n",
       "      <td>13bb12b3b27d5a7b4b142503a1ae9e73</td>\n",
       "      <td>1</td>\n",
       "    </tr>\n",
       "    <tr>\n",
       "      <th>105</th>\n",
       "      <td>1427be78bcf4aba96c5054b697be9b5b</td>\n",
       "      <td>1</td>\n",
       "    </tr>\n",
       "    <tr>\n",
       "      <th>106</th>\n",
       "      <td>149cc798827099f8bdb97cf702027305</td>\n",
       "      <td>1</td>\n",
       "    </tr>\n",
       "    <tr>\n",
       "      <th>110</th>\n",
       "      <td>14f713c1ef037f6c531cffdff0e5fb2c</td>\n",
       "      <td>1</td>\n",
       "    </tr>\n",
       "    <tr>\n",
       "      <th>...</th>\n",
       "      <td>...</td>\n",
       "      <td>...</td>\n",
       "    </tr>\n",
       "    <tr>\n",
       "      <th>1286</th>\n",
       "      <td>ed0f3c1619b2becec76ba5df66e1ea56</td>\n",
       "      <td>1</td>\n",
       "    </tr>\n",
       "    <tr>\n",
       "      <th>1287</th>\n",
       "      <td>ed49b57854f5580658fb3510676e03dd</td>\n",
       "      <td>1</td>\n",
       "    </tr>\n",
       "    <tr>\n",
       "      <th>1299</th>\n",
       "      <td>eed4db0cb0576c274de569e98a56a270</td>\n",
       "      <td>1</td>\n",
       "    </tr>\n",
       "    <tr>\n",
       "      <th>1313</th>\n",
       "      <td>f17867cc3e579dc2fc6f0334bc43a91d</td>\n",
       "      <td>1</td>\n",
       "    </tr>\n",
       "    <tr>\n",
       "      <th>1314</th>\n",
       "      <td>f1a64fda219db48bcfb8ad3823ef9fc1</td>\n",
       "      <td>1</td>\n",
       "    </tr>\n",
       "    <tr>\n",
       "      <th>1318</th>\n",
       "      <td>f25c425c827b35fcbaa23f2ed671540b</td>\n",
       "      <td>1</td>\n",
       "    </tr>\n",
       "    <tr>\n",
       "      <th>1320</th>\n",
       "      <td>f29d00ddf6d9846aa600c3f0edf5f952</td>\n",
       "      <td>1</td>\n",
       "    </tr>\n",
       "    <tr>\n",
       "      <th>1321</th>\n",
       "      <td>f2ca85bb9ae82a3d79b9f321f727ac19</td>\n",
       "      <td>1</td>\n",
       "    </tr>\n",
       "    <tr>\n",
       "      <th>1323</th>\n",
       "      <td>f2f23b265b2a3b977cb81fe3193d7c2c</td>\n",
       "      <td>1</td>\n",
       "    </tr>\n",
       "    <tr>\n",
       "      <th>1329</th>\n",
       "      <td>f3eafe72b1e9528116f3c430ab73a2ae</td>\n",
       "      <td>1</td>\n",
       "    </tr>\n",
       "    <tr>\n",
       "      <th>1330</th>\n",
       "      <td>f3f6f40ccb01276d722d52701cab1754</td>\n",
       "      <td>1</td>\n",
       "    </tr>\n",
       "    <tr>\n",
       "      <th>1331</th>\n",
       "      <td>f42a0343e5b5154c6a184fc955d8f20f</td>\n",
       "      <td>1</td>\n",
       "    </tr>\n",
       "    <tr>\n",
       "      <th>1335</th>\n",
       "      <td>f467795ce3b50a771085d79ae8d29ecc</td>\n",
       "      <td>1</td>\n",
       "    </tr>\n",
       "    <tr>\n",
       "      <th>1342</th>\n",
       "      <td>f5717f7cbc08d8bd942cd4c1128e3339</td>\n",
       "      <td>1</td>\n",
       "    </tr>\n",
       "    <tr>\n",
       "      <th>1344</th>\n",
       "      <td>f63f2f63e2619012b4c798fd638c8b8a</td>\n",
       "      <td>1</td>\n",
       "    </tr>\n",
       "    <tr>\n",
       "      <th>1349</th>\n",
       "      <td>f6c9e875d7adfe7add08f43528810f72</td>\n",
       "      <td>1</td>\n",
       "    </tr>\n",
       "    <tr>\n",
       "      <th>1350</th>\n",
       "      <td>f725f46908f16062fd12c141eb47c6a7</td>\n",
       "      <td>1</td>\n",
       "    </tr>\n",
       "    <tr>\n",
       "      <th>1353</th>\n",
       "      <td>f76143416ee2c8e1251f45f108fed468</td>\n",
       "      <td>1</td>\n",
       "    </tr>\n",
       "    <tr>\n",
       "      <th>1357</th>\n",
       "      <td>f7a03adba817f2a2249b9dee0586f4be</td>\n",
       "      <td>1</td>\n",
       "    </tr>\n",
       "    <tr>\n",
       "      <th>1364</th>\n",
       "      <td>f8f66fca04d2e67eacd86ea154827a4c</td>\n",
       "      <td>1</td>\n",
       "    </tr>\n",
       "    <tr>\n",
       "      <th>1365</th>\n",
       "      <td>f938f9022abf7f1072fe9df79db7eccd</td>\n",
       "      <td>1</td>\n",
       "    </tr>\n",
       "    <tr>\n",
       "      <th>1367</th>\n",
       "      <td>fa45178d023325b255a3d4fc3e96cb7d</td>\n",
       "      <td>1</td>\n",
       "    </tr>\n",
       "    <tr>\n",
       "      <th>1374</th>\n",
       "      <td>fb57fc6377fd37bb5d42756c2736586c</td>\n",
       "      <td>1</td>\n",
       "    </tr>\n",
       "    <tr>\n",
       "      <th>1377</th>\n",
       "      <td>fb99a80cbb2f441bb90135bab5b029fe</td>\n",
       "      <td>1</td>\n",
       "    </tr>\n",
       "    <tr>\n",
       "      <th>1379</th>\n",
       "      <td>fbae4d04285789dfa32124c86586dd09</td>\n",
       "      <td>1</td>\n",
       "    </tr>\n",
       "    <tr>\n",
       "      <th>1381</th>\n",
       "      <td>fc545aa2f58509dc6d81ef02130b6906</td>\n",
       "      <td>1</td>\n",
       "    </tr>\n",
       "    <tr>\n",
       "      <th>1384</th>\n",
       "      <td>fd0c2dfe0b0c58330675c3191cef0d5b</td>\n",
       "      <td>1</td>\n",
       "    </tr>\n",
       "    <tr>\n",
       "      <th>1385</th>\n",
       "      <td>fd2dd970bd3d91e5b26d7e57c03f70af</td>\n",
       "      <td>1</td>\n",
       "    </tr>\n",
       "    <tr>\n",
       "      <th>1389</th>\n",
       "      <td>fda187bfb1d6a2ecd4abd862c7f7f94c</td>\n",
       "      <td>1</td>\n",
       "    </tr>\n",
       "    <tr>\n",
       "      <th>1393</th>\n",
       "      <td>fe45462987bacc32dbc7126119999392</td>\n",
       "      <td>1</td>\n",
       "    </tr>\n",
       "  </tbody>\n",
       "</table>\n",
       "<p>362 rows × 2 columns</p>\n",
       "</div>"
      ],
      "text/plain": [
       "                                    id  cancer\n",
       "0     0015ceb851d7251b8f399e39779d1e7d       1\n",
       "3     006b96310a37b36cccb2ab48d10b49a3       1\n",
       "4     008464bb8521d09a42985dd8add3d0d2       1\n",
       "8     00edff4f51a893d80dae2d42a7f45ad1       1\n",
       "15    0257df465d9e4150adef13303433ff1e       1\n",
       "18    02801e3bbcc6966cb115a962012c35df       1\n",
       "19    028996723faa7840bb57f57e28275e4c       1\n",
       "27    04a8c47583142181728056310759dea1       1\n",
       "31    05609fdb8fa0895ac8a9be373144dac7       1\n",
       "32    059d8c14b2256a2ba4e38ac511700203       1\n",
       "34    064366faa1a83fdcb18b2538f1717290       1\n",
       "37    0708c00f6117ed977bbe1b462b56848c       1\n",
       "38    07349deeea878c723317a1ce42cc7e58       1\n",
       "40    07bca4290a2530091ce1d5f200d9d526       1\n",
       "43    081f4a90f24ac33c14b61b97969b7f81       1\n",
       "53    09d7c4a3e1076dcfcae2b0a563a28364       1\n",
       "59    0acbebb8d463b4b9ca88cf38431aac69       1\n",
       "61    0c0de3749d4fe175b7a5098b060982a1       1\n",
       "62    0c37613214faddf8701ca41e6d43f56e       1\n",
       "64    0c60f4b87afcb3e2dfa65abbbf3ef2f9       1\n",
       "68    0d06d764d3c07572074d468b4cff954f       1\n",
       "78    0f5ab1976a1b1ef1c2eb1d340b0ce9c4       1\n",
       "82    0ff552aa083ecfabaf1cfd65b0a8e674       1\n",
       "92    118be21b7e0c3058b29a524686391c66       1\n",
       "95    11fe5426ef497bc490b9f1465f1fb25e       1\n",
       "100   12e0e2036f61c8a52ee4471bf813c36a       1\n",
       "103   13bb12b3b27d5a7b4b142503a1ae9e73       1\n",
       "105   1427be78bcf4aba96c5054b697be9b5b       1\n",
       "106   149cc798827099f8bdb97cf702027305       1\n",
       "110   14f713c1ef037f6c531cffdff0e5fb2c       1\n",
       "...                                ...     ...\n",
       "1286  ed0f3c1619b2becec76ba5df66e1ea56       1\n",
       "1287  ed49b57854f5580658fb3510676e03dd       1\n",
       "1299  eed4db0cb0576c274de569e98a56a270       1\n",
       "1313  f17867cc3e579dc2fc6f0334bc43a91d       1\n",
       "1314  f1a64fda219db48bcfb8ad3823ef9fc1       1\n",
       "1318  f25c425c827b35fcbaa23f2ed671540b       1\n",
       "1320  f29d00ddf6d9846aa600c3f0edf5f952       1\n",
       "1321  f2ca85bb9ae82a3d79b9f321f727ac19       1\n",
       "1323  f2f23b265b2a3b977cb81fe3193d7c2c       1\n",
       "1329  f3eafe72b1e9528116f3c430ab73a2ae       1\n",
       "1330  f3f6f40ccb01276d722d52701cab1754       1\n",
       "1331  f42a0343e5b5154c6a184fc955d8f20f       1\n",
       "1335  f467795ce3b50a771085d79ae8d29ecc       1\n",
       "1342  f5717f7cbc08d8bd942cd4c1128e3339       1\n",
       "1344  f63f2f63e2619012b4c798fd638c8b8a       1\n",
       "1349  f6c9e875d7adfe7add08f43528810f72       1\n",
       "1350  f725f46908f16062fd12c141eb47c6a7       1\n",
       "1353  f76143416ee2c8e1251f45f108fed468       1\n",
       "1357  f7a03adba817f2a2249b9dee0586f4be       1\n",
       "1364  f8f66fca04d2e67eacd86ea154827a4c       1\n",
       "1365  f938f9022abf7f1072fe9df79db7eccd       1\n",
       "1367  fa45178d023325b255a3d4fc3e96cb7d       1\n",
       "1374  fb57fc6377fd37bb5d42756c2736586c       1\n",
       "1377  fb99a80cbb2f441bb90135bab5b029fe       1\n",
       "1379  fbae4d04285789dfa32124c86586dd09       1\n",
       "1381  fc545aa2f58509dc6d81ef02130b6906       1\n",
       "1384  fd0c2dfe0b0c58330675c3191cef0d5b       1\n",
       "1385  fd2dd970bd3d91e5b26d7e57c03f70af       1\n",
       "1389  fda187bfb1d6a2ecd4abd862c7f7f94c       1\n",
       "1393  fe45462987bacc32dbc7126119999392       1\n",
       "\n",
       "[362 rows x 2 columns]"
      ]
     },
     "execution_count": 6,
     "metadata": {},
     "output_type": "execute_result"
    }
   ],
   "source": [
    "cancer_set = labels[labels['cancer'] == 1]\n",
    "cancer_set"
   ]
  },
  {
   "cell_type": "code",
   "execution_count": 7,
   "metadata": {
    "collapsed": false,
    "deletable": true,
    "editable": true
   },
   "outputs": [
    {
     "data": {
      "text/plain": [
       "['0a099f2549429d29b32f349e95fb2244',\n",
       " '0c37613214faddf8701ca41e6d43f56e',\n",
       " '0c60f4b87afcb3e2dfa65abbbf3ef2f9',\n",
       " '0c0de3749d4fe175b7a5098b060982a1',\n",
       " '0a0c32c9e08cc2ea76a71649de56be6d',\n",
       " '0ca943d821204ceb089510f836a367fd',\n",
       " '0b20184e0cd497028bdd155d9fb42dc9',\n",
       " '0c9d8314f9c69840e25febabb1229fa4',\n",
       " '0a38e7597ca26f9374f8ea2770ba870d',\n",
       " '0c59313f52304e25d5a7dcf9877633b1',\n",
       " '0ddeb08e9c97227853422bd71a2a695e',\n",
       " '0bd0e3056cbf23a1cb7f0f0b18446068',\n",
       " '0d06d764d3c07572074d468b4cff954f',\n",
       " '0c98fcb55e3f36d0c2b6507f62f4c5f1',\n",
       " '0d941a3ad6c889ac451caf89c46cb92a',\n",
       " '00cba091fa4ad62cc3200a657aeb957e',\n",
       " '0d19f1c627df49eb223771c28548350e',\n",
       " '0d2fcf787026fece4e57be167d079383',\n",
       " '0acbebb8d463b4b9ca88cf38431aac69',\n",
       " '0de72529c30fe642bc60dcb75c87f6bd']"
      ]
     },
     "execution_count": 7,
     "metadata": {},
     "output_type": "execute_result"
    }
   ],
   "source": [
    "files = glob.glob(INPUT_FOLDER + '/*')\n",
    "files = [os.path.basename(f) for f in files]\n",
    "files"
   ]
  },
  {
   "cell_type": "code",
   "execution_count": 8,
   "metadata": {
    "collapsed": false,
    "deletable": true,
    "editable": true
   },
   "outputs": [
    {
     "data": {
      "text/plain": [
       "1397"
      ]
     },
     "execution_count": 8,
     "metadata": {},
     "output_type": "execute_result"
    }
   ],
   "source": [
    "mask = pd.Series([True if f in files else False for f in labels['id'].values], index=labels.index)\n",
    "len(mask)"
   ]
  },
  {
   "cell_type": "code",
   "execution_count": 9,
   "metadata": {
    "collapsed": false,
    "deletable": true,
    "editable": true
   },
   "outputs": [
    {
     "data": {
      "text/html": [
       "<div>\n",
       "<table border=\"1\" class=\"dataframe\">\n",
       "  <thead>\n",
       "    <tr style=\"text-align: right;\">\n",
       "      <th></th>\n",
       "      <th>id</th>\n",
       "      <th>cancer</th>\n",
       "    </tr>\n",
       "  </thead>\n",
       "  <tbody>\n",
       "    <tr>\n",
       "      <th>7</th>\n",
       "      <td>00cba091fa4ad62cc3200a657aeb957e</td>\n",
       "      <td>0</td>\n",
       "    </tr>\n",
       "    <tr>\n",
       "      <th>56</th>\n",
       "      <td>0a099f2549429d29b32f349e95fb2244</td>\n",
       "      <td>0</td>\n",
       "    </tr>\n",
       "    <tr>\n",
       "      <th>57</th>\n",
       "      <td>0a0c32c9e08cc2ea76a71649de56be6d</td>\n",
       "      <td>0</td>\n",
       "    </tr>\n",
       "    <tr>\n",
       "      <th>58</th>\n",
       "      <td>0a38e7597ca26f9374f8ea2770ba870d</td>\n",
       "      <td>0</td>\n",
       "    </tr>\n",
       "    <tr>\n",
       "      <th>59</th>\n",
       "      <td>0acbebb8d463b4b9ca88cf38431aac69</td>\n",
       "      <td>1</td>\n",
       "    </tr>\n",
       "    <tr>\n",
       "      <th>60</th>\n",
       "      <td>0bd0e3056cbf23a1cb7f0f0b18446068</td>\n",
       "      <td>0</td>\n",
       "    </tr>\n",
       "    <tr>\n",
       "      <th>61</th>\n",
       "      <td>0c0de3749d4fe175b7a5098b060982a1</td>\n",
       "      <td>1</td>\n",
       "    </tr>\n",
       "    <tr>\n",
       "      <th>62</th>\n",
       "      <td>0c37613214faddf8701ca41e6d43f56e</td>\n",
       "      <td>1</td>\n",
       "    </tr>\n",
       "    <tr>\n",
       "      <th>63</th>\n",
       "      <td>0c59313f52304e25d5a7dcf9877633b1</td>\n",
       "      <td>0</td>\n",
       "    </tr>\n",
       "    <tr>\n",
       "      <th>64</th>\n",
       "      <td>0c60f4b87afcb3e2dfa65abbbf3ef2f9</td>\n",
       "      <td>1</td>\n",
       "    </tr>\n",
       "    <tr>\n",
       "      <th>65</th>\n",
       "      <td>0c98fcb55e3f36d0c2b6507f62f4c5f1</td>\n",
       "      <td>0</td>\n",
       "    </tr>\n",
       "    <tr>\n",
       "      <th>66</th>\n",
       "      <td>0c9d8314f9c69840e25febabb1229fa4</td>\n",
       "      <td>0</td>\n",
       "    </tr>\n",
       "    <tr>\n",
       "      <th>67</th>\n",
       "      <td>0ca943d821204ceb089510f836a367fd</td>\n",
       "      <td>0</td>\n",
       "    </tr>\n",
       "    <tr>\n",
       "      <th>68</th>\n",
       "      <td>0d06d764d3c07572074d468b4cff954f</td>\n",
       "      <td>1</td>\n",
       "    </tr>\n",
       "    <tr>\n",
       "      <th>69</th>\n",
       "      <td>0d19f1c627df49eb223771c28548350e</td>\n",
       "      <td>0</td>\n",
       "    </tr>\n",
       "    <tr>\n",
       "      <th>70</th>\n",
       "      <td>0d2fcf787026fece4e57be167d079383</td>\n",
       "      <td>0</td>\n",
       "    </tr>\n",
       "    <tr>\n",
       "      <th>71</th>\n",
       "      <td>0d941a3ad6c889ac451caf89c46cb92a</td>\n",
       "      <td>0</td>\n",
       "    </tr>\n",
       "    <tr>\n",
       "      <th>72</th>\n",
       "      <td>0ddeb08e9c97227853422bd71a2a695e</td>\n",
       "      <td>0</td>\n",
       "    </tr>\n",
       "    <tr>\n",
       "      <th>73</th>\n",
       "      <td>0de72529c30fe642bc60dcb75c87f6bd</td>\n",
       "      <td>0</td>\n",
       "    </tr>\n",
       "  </tbody>\n",
       "</table>\n",
       "</div>"
      ],
      "text/plain": [
       "                                  id  cancer\n",
       "7   00cba091fa4ad62cc3200a657aeb957e       0\n",
       "56  0a099f2549429d29b32f349e95fb2244       0\n",
       "57  0a0c32c9e08cc2ea76a71649de56be6d       0\n",
       "58  0a38e7597ca26f9374f8ea2770ba870d       0\n",
       "59  0acbebb8d463b4b9ca88cf38431aac69       1\n",
       "60  0bd0e3056cbf23a1cb7f0f0b18446068       0\n",
       "61  0c0de3749d4fe175b7a5098b060982a1       1\n",
       "62  0c37613214faddf8701ca41e6d43f56e       1\n",
       "63  0c59313f52304e25d5a7dcf9877633b1       0\n",
       "64  0c60f4b87afcb3e2dfa65abbbf3ef2f9       1\n",
       "65  0c98fcb55e3f36d0c2b6507f62f4c5f1       0\n",
       "66  0c9d8314f9c69840e25febabb1229fa4       0\n",
       "67  0ca943d821204ceb089510f836a367fd       0\n",
       "68  0d06d764d3c07572074d468b4cff954f       1\n",
       "69  0d19f1c627df49eb223771c28548350e       0\n",
       "70  0d2fcf787026fece4e57be167d079383       0\n",
       "71  0d941a3ad6c889ac451caf89c46cb92a       0\n",
       "72  0ddeb08e9c97227853422bd71a2a695e       0\n",
       "73  0de72529c30fe642bc60dcb75c87f6bd       0"
      ]
     },
     "execution_count": 9,
     "metadata": {},
     "output_type": "execute_result"
    }
   ],
   "source": [
    "labels[mask]"
   ]
  },
  {
   "cell_type": "code",
   "execution_count": 10,
   "metadata": {
    "collapsed": false,
    "deletable": true,
    "editable": true
   },
   "outputs": [
    {
     "data": {
      "text/html": [
       "<div>\n",
       "<table border=\"1\" class=\"dataframe\">\n",
       "  <thead>\n",
       "    <tr style=\"text-align: right;\">\n",
       "      <th></th>\n",
       "      <th>id</th>\n",
       "      <th>cancer</th>\n",
       "    </tr>\n",
       "  </thead>\n",
       "  <tbody>\n",
       "    <tr>\n",
       "      <th>59</th>\n",
       "      <td>0acbebb8d463b4b9ca88cf38431aac69</td>\n",
       "      <td>1</td>\n",
       "    </tr>\n",
       "    <tr>\n",
       "      <th>61</th>\n",
       "      <td>0c0de3749d4fe175b7a5098b060982a1</td>\n",
       "      <td>1</td>\n",
       "    </tr>\n",
       "    <tr>\n",
       "      <th>62</th>\n",
       "      <td>0c37613214faddf8701ca41e6d43f56e</td>\n",
       "      <td>1</td>\n",
       "    </tr>\n",
       "    <tr>\n",
       "      <th>64</th>\n",
       "      <td>0c60f4b87afcb3e2dfa65abbbf3ef2f9</td>\n",
       "      <td>1</td>\n",
       "    </tr>\n",
       "    <tr>\n",
       "      <th>68</th>\n",
       "      <td>0d06d764d3c07572074d468b4cff954f</td>\n",
       "      <td>1</td>\n",
       "    </tr>\n",
       "  </tbody>\n",
       "</table>\n",
       "</div>"
      ],
      "text/plain": [
       "                                  id  cancer\n",
       "59  0acbebb8d463b4b9ca88cf38431aac69       1\n",
       "61  0c0de3749d4fe175b7a5098b060982a1       1\n",
       "62  0c37613214faddf8701ca41e6d43f56e       1\n",
       "64  0c60f4b87afcb3e2dfa65abbbf3ef2f9       1\n",
       "68  0d06d764d3c07572074d468b4cff954f       1"
      ]
     },
     "execution_count": 10,
     "metadata": {},
     "output_type": "execute_result"
    }
   ],
   "source": [
    "cancers = labels[mask][labels[mask]['cancer'] == 1] # gross. but effective\n",
    "cancers"
   ]
  },
  {
   "cell_type": "code",
   "execution_count": 11,
   "metadata": {
    "collapsed": true,
    "deletable": true,
    "editable": true
   },
   "outputs": [],
   "source": [
    "patients = cancers['id'].values"
   ]
  },
  {
   "cell_type": "code",
   "execution_count": 12,
   "metadata": {
    "collapsed": true,
    "deletable": true,
    "editable": true
   },
   "outputs": [],
   "source": [
    "patient_id = patients[1]\n",
    "path = INPUT_FOLDER + patient_id\n",
    "# slices = [dicom.read_file(path + '/' + s) for s in os.listdir(path)]"
   ]
  },
  {
   "cell_type": "code",
   "execution_count": 13,
   "metadata": {
    "_cell_guid": "b0012bd3-50f6-278b-de58-a2a39361f1bb",
    "collapsed": false,
    "deletable": true,
    "editable": true
   },
   "outputs": [
    {
     "name": "stdout",
     "output_type": "stream",
     "text": [
      "0c37613214faddf8701ca41e6d43f56e\n"
     ]
    },
    {
     "data": {
      "image/png": "[encoded data removed]",
      "text/plain": [
       "<matplotlib.figure.Figure at 0x7f8f274b0e10>"
      ]
     },
     "metadata": {},
     "output_type": "display_data"
    },
    {
     "data": {
      "image/png": "[encoded data removed]",
      "text/plain": [
       "<matplotlib.figure.Figure at 0x7f8f22225f28>"
      ]
     },
     "metadata": {},
     "output_type": "display_data"
    }
   ],
   "source": [
    "patient_id = patients[2]\n",
    "print(patient_id)\n",
    "first_patient = load_scan(INPUT_FOLDER + patient_id)\n",
    "first_patient_pixels = get_pixels_hu(first_patient)\n",
    "plt.hist(first_patient_pixels.flatten(), bins=80, color='c')\n",
    "plt.xlabel(\"Hounsfield Units (HU)\")\n",
    "plt.ylabel(\"Frequency\")\n",
    "plt.show()\n",
    "\n",
    "# Show some slice in the middle\n",
    "plt.imshow(first_patient_pixels[80], cmap=plt.cm.gray)\n",
    "plt.show()"
   ]
  },
  {
   "cell_type": "markdown",
   "metadata": {
    "_cell_guid": "894982a5-844c-ebb2-a48c-62a057cf5ec9",
    "deletable": true,
    "editable": true
   },
   "source": [
    "Looking at the table from Wikipedia and this histogram, we can clearly see which pixels are air and which are tissue. We will use this for lung segmentation in a bit :)\n",
    "\n",
    "\n",
    "----------"
   ]
  },
  {
   "cell_type": "code",
   "execution_count": 14,
   "metadata": {
    "collapsed": false,
    "deletable": true,
    "editable": true
   },
   "outputs": [
    {
     "data": {
      "text/plain": [
       "<matplotlib.image.AxesImage at 0x7f8f1d0f8f60>"
      ]
     },
     "execution_count": 14,
     "metadata": {},
     "output_type": "execute_result"
    },
    {
     "data": {
      "image/png": "[encoded data removed]",
      "text/plain": [
       "<matplotlib.figure.Figure at 0x7f8f27728278>"
      ]
     },
     "metadata": {},
     "output_type": "display_data"
    }
   ],
   "source": [
    "plt.imshow(first_patient_pixels[108], cmap=plt.cm.gray)\n"
   ]
  },
  {
   "cell_type": "markdown",
   "metadata": {
    "_cell_guid": "ae70ecba-82a6-099b-ac6a-c2f69c055929",
    "deletable": true,
    "editable": true
   },
   "source": [
    "# Resampling\n",
    "A scan may have a pixel spacing of `[2.5, 0.5, 0.5]`, which means that the distance between slices is `2.5` millimeters. For a different scan this may be `[1.5, 0.725, 0.725]`, this can be problematic for automatic analysis (e.g. using ConvNets)! \n",
    "\n",
    "A common method of dealing with this is resampling the full dataset to a certain isotropic resolution. If we choose to resample everything to 1mm*1mm*1mm pixels we can use 3D convnets without worrying about learning zoom/slice thickness invariance. \n",
    "\n",
    "Whilst this may seem like a very simple step, it has quite some edge cases due to rounding. Also, it takes quite a while.\n",
    "\n",
    "Below code worked well for us (and deals with the edge cases):"
   ]
  },
  {
   "cell_type": "code",
   "execution_count": 23,
   "metadata": {
    "_cell_guid": "59c11a48-c6d0-8522-f5cd-b03d8ee812f6",
    "collapsed": true,
    "deletable": true,
    "editable": true
   },
   "outputs": [],
   "source": [
    "def resample(image, scan, new_spacing=[1,1,1], verbose=False):\n",
    "    # Determine current pixel spacing\n",
    "    spacing = map(float, ([scan[0].SliceThickness] + scan[0].PixelSpacing))\n",
    "    spacing = np.array(list(spacing))\n",
    "#     spacing = np.array(float(scan[0].SliceThickness) \n",
    "#                        + float(scan[0].PixelSpacing[0]) + float(scan[0].PixelSpacing[1]))\n",
    "\n",
    "    if verbose: print('Initial Spacing:', spacing)\n",
    "    resize_factor = spacing / new_spacing\n",
    "    new_real_shape = image.shape * resize_factor\n",
    "    new_shape = np.round(new_real_shape)\n",
    "    real_resize_factor = new_shape / image.shape\n",
    "    new_spacing = spacing / real_resize_factor\n",
    "    if verbose: print('RRF: {} RF: {}'.format(real_resize_factor, resize_factor))\n",
    "    \n",
    "    image = scipy.ndimage.interpolation.zoom(image, real_resize_factor)\n",
    "    \n",
    "    return image, new_spacing"
   ]
  },
  {
   "cell_type": "markdown",
   "metadata": {
    "_cell_guid": "04b36366-5dd1-90b1-ad19-065127fe4720",
    "deletable": true,
    "editable": true
   },
   "source": [
    "Please note that when you apply this, to save the new spacing! Due to rounding this may be slightly off from the desired spacing (above script picks the best possible spacing with rounding).\n",
    "\n",
    "Let's resample our patient's pixels to an isomorphic resolution of 1 by 1 by 1 mm."
   ]
  },
  {
   "cell_type": "code",
   "execution_count": 16,
   "metadata": {
    "collapsed": false,
    "deletable": true,
    "editable": true
   },
   "outputs": [
    {
     "data": {
      "text/plain": [
       "164"
      ]
     },
     "execution_count": 16,
     "metadata": {},
     "output_type": "execute_result"
    }
   ],
   "source": [
    "type(first_patient)\n",
    "len(first_patient)"
   ]
  },
  {
   "cell_type": "code",
   "execution_count": 17,
   "metadata": {
    "collapsed": false,
    "deletable": true,
    "editable": true
   },
   "outputs": [
    {
     "data": {
      "text/plain": [
       "'2.0'"
      ]
     },
     "execution_count": 17,
     "metadata": {},
     "output_type": "execute_result"
    }
   ],
   "source": [
    "first_patient[0].SliceThickness"
   ]
  },
  {
   "cell_type": "code",
   "execution_count": 18,
   "metadata": {
    "collapsed": false,
    "deletable": true,
    "editable": true
   },
   "outputs": [
    {
     "data": {
      "text/plain": [
       "['0.703125', '0.703125']"
      ]
     },
     "execution_count": 18,
     "metadata": {},
     "output_type": "execute_result"
    }
   ],
   "source": [
    "first_patient[0].PixelSpacing"
   ]
  },
  {
   "cell_type": "code",
   "execution_count": 24,
   "metadata": {
    "_cell_guid": "53acb2e7-1edc-8212-3b6d-30eb16d75025",
    "collapsed": false,
    "deletable": true,
    "editable": true
   },
   "outputs": [
    {
     "name": "stdout",
     "output_type": "stream",
     "text": [
      "Initial Spacing: [ 2.        0.703125  0.703125]\n",
      "RRF: [ 2.        0.703125  0.703125] RF: [ 2.        0.703125  0.703125]\n",
      "Shape before resampling\t (164, 512, 512)\n",
      "Shape after resampling\t (328, 360, 360)\n"
     ]
    }
   ],
   "source": [
    "pix_resampled, spacing = resample(first_patient_pixels, first_patient, [1,1,1], True)\n",
    "print(\"Shape before resampling\\t\", first_patient_pixels.shape)\n",
    "print(\"Shape after resampling\\t\", pix_resampled.shape)"
   ]
  },
  {
   "cell_type": "code",
   "execution_count": 20,
   "metadata": {
    "collapsed": false,
    "deletable": true,
    "editable": true
   },
   "outputs": [
    {
     "data": {
      "text/plain": [
       "array([ 1.,  1.,  1.])"
      ]
     },
     "execution_count": 20,
     "metadata": {},
     "output_type": "execute_result"
    }
   ],
   "source": [
    "spacing"
   ]
  },
  {
   "cell_type": "code",
   "execution_count": 21,
   "metadata": {
    "collapsed": true,
    "deletable": true,
    "editable": true
   },
   "outputs": [],
   "source": [
    "# np.save('resamp1', pix_resampled)"
   ]
  },
  {
   "cell_type": "code",
   "execution_count": 22,
   "metadata": {
    "collapsed": false,
    "deletable": true,
    "editable": true
   },
   "outputs": [
    {
     "data": {
      "text/plain": [
       "<matplotlib.image.AxesImage at 0x7f8f1d0e0748>"
      ]
     },
     "execution_count": 22,
     "metadata": {},
     "output_type": "execute_result"
    },
    {
     "data": {
      "image/png": "[encoded data removed]",
      "text/plain": [
       "<matplotlib.figure.Figure at 0x7f8f1e9b49e8>"
      ]
     },
     "metadata": {},
     "output_type": "display_data"
    }
   ],
   "source": [
    "plt.imshow(pix_resampled[250])"
   ]
  },
  {
   "cell_type": "code",
   "execution_count": null,
   "metadata": {
    "collapsed": false,
    "deletable": true,
    "editable": true
   },
   "outputs": [],
   "source": [
    "plt.imshow(pix_resampled[120][::2,::2])"
   ]
  },
  {
   "cell_type": "code",
   "execution_count": null,
   "metadata": {
    "collapsed": false,
    "deletable": true,
    "editable": true
   },
   "outputs": [],
   "source": [
    "plt.imshow(pix_resampled[120][::3,::3])"
   ]
  },
  {
   "cell_type": "code",
   "execution_count": null,
   "metadata": {
    "collapsed": true,
    "deletable": true,
    "editable": true
   },
   "outputs": [],
   "source": [
    "px3 = pix_resampled[::3,::3,]"
   ]
  },
  {
   "cell_type": "code",
   "execution_count": null,
   "metadata": {
    "collapsed": false,
    "deletable": true,
    "editable": true
   },
   "outputs": [],
   "source": [
    "img = pix_resampled[120]\n",
    "image = scipy.ndimage.interpolation.zoom(img, [1/4,1/4])\n",
    "print(image.shape)\n",
    "plt.imshow(image)"
   ]
  },
  {
   "cell_type": "code",
   "execution_count": null,
   "metadata": {
    "collapsed": false,
    "deletable": true,
    "editable": true
   },
   "outputs": [],
   "source": [
    "ratio = 1/2\n",
    "image = scipy.ndimage.interpolation.zoom(pix_resampled, [ratio,ratio,ratio])\n",
    "print(image.shape)\n"
   ]
  },
  {
   "cell_type": "code",
   "execution_count": null,
   "metadata": {
    "collapsed": false,
    "deletable": true,
    "editable": true
   },
   "outputs": [],
   "source": [
    "plt.imshow(image[60])"
   ]
  },
  {
   "cell_type": "code",
   "execution_count": null,
   "metadata": {
    "collapsed": false,
    "deletable": true,
    "editable": true
   },
   "outputs": [],
   "source": [
    "# [plt.imsave('im/sl{:03d}.png'.format(i), slc) for i, slc in enumerate(image)]"
   ]
  },
  {
   "cell_type": "code",
   "execution_count": null,
   "metadata": {
    "collapsed": false,
    "deletable": true,
    "editable": true
   },
   "outputs": [],
   "source": [
    "pix_resampled = image"
   ]
  },
  {
   "cell_type": "markdown",
   "metadata": {
    "_cell_guid": "405beab9-b95f-9ea6-6f51-235943c1d5dc",
    "deletable": true,
    "editable": true
   },
   "source": [
    "# 3D plotting the scan\n",
    "For visualization it is useful to be able to show a 3D image of the scan. Unfortunately, the packages available in this Kaggle docker image is very limited in this sense, so we will use marching cubes to create an approximate mesh for our 3D object, and plot this with matplotlib. Quite slow and ugly, but the best we can do."
   ]
  },
  {
   "cell_type": "code",
   "execution_count": null,
   "metadata": {
    "_cell_guid": "05a89e78-9a12-c019-8693-efb4030172bd",
    "collapsed": true,
    "deletable": true,
    "editable": true
   },
   "outputs": [],
   "source": [
    "def plot_3d(image, threshold=-300):\n",
    "    \n",
    "    # Position the scan upright, \n",
    "    # so the head of the patient would be at the top facing the camera\n",
    "    p = image.transpose(2,1,0)\n",
    "    p = p[:,:,::-1]\n",
    "    \n",
    "    verts, faces = measure.marching_cubes(p, threshold)\n",
    "\n",
    "    fig = plt.figure(figsize=(10, 10))\n",
    "    ax = fig.add_subplot(111, projection='3d')\n",
    "\n",
    "    # Fancy indexing: `verts[faces]` to generate a collection of triangles\n",
    "    mesh = Poly3DCollection(verts[faces], alpha=0.1)\n",
    "    face_color = [0.5, 0.5, 1]\n",
    "    mesh.set_facecolor(face_color)\n",
    "    ax.add_collection3d(mesh)\n",
    "\n",
    "    ax.set_xlim(0, p.shape[0])\n",
    "    ax.set_ylim(0, p.shape[1])\n",
    "    ax.set_zlim(0, p.shape[2])\n",
    "\n",
    "    plt.show()"
   ]
  },
  {
   "cell_type": "markdown",
   "metadata": {
    "_cell_guid": "60f79f87-44cc-620e-259c-d18d2e085bd6",
    "deletable": true,
    "editable": true
   },
   "source": [
    "Our plot function takes a threshold argument which we can use to plot certain structures, such as all tissue or only the bones. 400 is a good threshold for showing the bones only (see Hounsfield unit table above). Let's do this!"
   ]
  },
  {
   "cell_type": "code",
   "execution_count": null,
   "metadata": {
    "_cell_guid": "8373d7cb-c307-b8a3-c9a4-6d3daec2cee5",
    "collapsed": false,
    "deletable": true,
    "editable": true
   },
   "outputs": [],
   "source": [
    "plot_3d(pix_resampled, 400)"
   ]
  },
  {
   "cell_type": "code",
   "execution_count": null,
   "metadata": {
    "collapsed": false,
    "deletable": true,
    "editable": true
   },
   "outputs": [],
   "source": [
    "patient_id"
   ]
  },
  {
   "cell_type": "code",
   "execution_count": null,
   "metadata": {
    "collapsed": false,
    "deletable": true,
    "editable": true
   },
   "outputs": [],
   "source": [
    "np.amax(pix_resampled), np.amin(pix_resampled)"
   ]
  },
  {
   "cell_type": "code",
   "execution_count": null,
   "metadata": {
    "collapsed": true,
    "deletable": true,
    "editable": true
   },
   "outputs": [],
   "source": [
    "pix_resampled -= np.amin(pix_resampled)"
   ]
  },
  {
   "cell_type": "code",
   "execution_count": null,
   "metadata": {
    "collapsed": true,
    "deletable": true,
    "editable": true
   },
   "outputs": [],
   "source": [
    "pix_resampled = pix_resampled[:,::-1,::] # flip to match aeskulap"
   ]
  },
  {
   "cell_type": "code",
   "execution_count": null,
   "metadata": {
    "collapsed": false,
    "deletable": true,
    "editable": true
   },
   "outputs": [],
   "source": [
    "np.amax(pix_resampled), np.amin(pix_resampled)"
   ]
  },
  {
   "cell_type": "code",
   "execution_count": null,
   "metadata": {
    "collapsed": false,
    "deletable": true,
    "editable": true
   },
   "outputs": [],
   "source": [
    "mask = np.ones(pix_resampled.shape)\n",
    "mz, my, mx = pix_resampled.shape\n",
    "print(mz, my, mx)\n",
    "mask[140:] = 0\n",
    "mask[:110] = 0\n",
    "mask[:,:50] = 0\n",
    "mask[:,my-50:] = 0\n",
    "mask[:,:,mx-50:] = 0\n",
    "mask[:,:,:50] = 0\n",
    "mask2 = np.less(pix_resampled,1267)\n",
    "mask3 = np.greater(pix_resampled,400)\n",
    "\n",
    "ipyvolume.quickvolshow(pix_resampled*mask*mask3, width=1000, height=1000, level=[.26, .3, .85], level_width=[.5, .1, .05])"
   ]
  },
  {
   "cell_type": "code",
   "execution_count": null,
   "metadata": {
    "collapsed": false,
    "deletable": true,
    "editable": true
   },
   "outputs": [],
   "source": [
    "print(pix_resampled.shape)\n",
    "pix2 = padcrop_vol(pix_resampled, [100, 100, 100])\n",
    "ipyvolume.quickvolshow(pix2, width=1000, height=1000, level=[.26, .3, .26], level_width=[.5, .1, .05])"
   ]
  },
  {
   "cell_type": "markdown",
   "metadata": {
    "_cell_guid": "375b567c-90eb-dee2-6fc6-e6463833640e",
    "deletable": true,
    "editable": true
   },
   "source": [
    "Spooky!\n",
    "\n",
    "# Lung segmentation\n",
    "In order to reduce the problem space, we can segment the lungs (and usually some tissue around it). The method that me and my student colleagues developed was quite effective. \n",
    "\n",
    "It involves quite a few smart steps. It consists of a series of applications of region growing and morphological operations. In this case, we will use only connected component analysis.\n",
    "\n",
    "The steps:  \n",
    "\n",
    "* Threshold the image (-320 HU is a good threshold, but it doesn't matter much for this approach)\n",
    "* Do connected components, determine label of air around person, fill this with 1s in the binary image\n",
    "* Optionally: For every axial slice in the scan, determine the largest solid connected component (the body+air around the person), and set others to 0. This fills the structures in the lungs in the mask.\n",
    "* Keep only the largest air pocket (the human body has other pockets of air here and there)."
   ]
  },
  {
   "cell_type": "code",
   "execution_count": null,
   "metadata": {
    "_cell_guid": "436e766a-6f93-862a-4f8c-4b384cdd9e82",
    "collapsed": true,
    "deletable": true,
    "editable": true
   },
   "outputs": [],
   "source": [
    "def largest_label_volume(im, bg=-1):\n",
    "    vals, counts = np.unique(im, return_counts=True)\n",
    "\n",
    "    counts = counts[vals != bg]\n",
    "    vals = vals[vals != bg]\n",
    "\n",
    "    if len(counts) > 0:\n",
    "        return vals[np.argmax(counts)]\n",
    "    else:\n",
    "        return None\n",
    "\n",
    "def segment_lung_mask(image, fill_lung_structures=True):\n",
    "    \n",
    "    # not actually binary, but 1 and 2. \n",
    "    # 0 is treated as background, which we do not want\n",
    "    binary_image = np.array(image > -320, dtype=np.int8)+1\n",
    "    labels = measure.label(binary_image)\n",
    "    \n",
    "    # Pick the pixel in the very corner to determine which label is air.\n",
    "    #   Improvement: Pick multiple background labels from around the patient\n",
    "    #   More resistant to \"trays\" on which the patient lays cutting the air \n",
    "    #   around the person in half\n",
    "    background_label = labels[0,0,0]\n",
    "    \n",
    "    #Fill the air around the person\n",
    "    binary_image[background_label == labels] = 2\n",
    "    \n",
    "    \n",
    "    # Method of filling the lung structures (that is superior to something like \n",
    "    # morphological closing)\n",
    "    if fill_lung_structures:\n",
    "        # For every slice we determine the largest solid structure\n",
    "        for i, axial_slice in enumerate(binary_image):\n",
    "            axial_slice = axial_slice - 1\n",
    "            labeling = measure.label(axial_slice)\n",
    "            l_max = largest_label_volume(labeling, bg=0)\n",
    "            \n",
    "            if l_max is not None: #This slice contains some lung\n",
    "                binary_image[i][labeling != l_max] = 1\n",
    "\n",
    "    \n",
    "    binary_image -= 1 #Make the image actual binary\n",
    "    binary_image = 1-binary_image # Invert it, lungs are now 1\n",
    "    \n",
    "    # Remove other air pockets insided body\n",
    "    labels = measure.label(binary_image, background=0)\n",
    "    l_max = largest_label_volume(labels, bg=0)\n",
    "    if l_max is not None: # There are air pockets\n",
    "        binary_image[labels != l_max] = 0\n",
    " \n",
    "    return binary_image"
   ]
  },
  {
   "cell_type": "code",
   "execution_count": null,
   "metadata": {
    "_cell_guid": "0601c7e8-f67a-2178-225a-a23474d54cae",
    "collapsed": true,
    "deletable": true,
    "editable": true
   },
   "outputs": [],
   "source": [
    "segmented_lungs = segment_lung_mask(pix_resampled, False)\n",
    "segmented_lungs_fill = segment_lung_mask(pix_resampled, True)"
   ]
  },
  {
   "cell_type": "code",
   "execution_count": null,
   "metadata": {
    "_cell_guid": "0a632d49-cc04-15da-f743-addb07504055",
    "collapsed": false,
    "deletable": true,
    "editable": true
   },
   "outputs": [],
   "source": [
    "plot_3d(segmented_lungs, 0)"
   ]
  },
  {
   "cell_type": "markdown",
   "metadata": {
    "_cell_guid": "45a40c3f-919c-0ba0-fe87-f66b3817e1ab",
    "deletable": true,
    "editable": true
   },
   "source": [
    "Beautiful! \n",
    "\n",
    "But there's one thing we can fix, it is probably a good idea to include structures within the lung (as the nodules are solid), we do not only want to air in the lungs. "
   ]
  },
  {
   "cell_type": "code",
   "execution_count": null,
   "metadata": {
    "_cell_guid": "10d5d6fd-1994-d263-1ec3-be09d1f40c00",
    "collapsed": false,
    "deletable": true,
    "editable": true
   },
   "outputs": [],
   "source": [
    "plot_3d(segmented_lungs_fill, 0)"
   ]
  },
  {
   "cell_type": "markdown",
   "metadata": {
    "_cell_guid": "96bdffec-ca48-b503-84ab-e119fbd68bfe",
    "deletable": true,
    "editable": true
   },
   "source": [
    "That's better. Let's also visualize the difference between the two."
   ]
  },
  {
   "cell_type": "code",
   "execution_count": null,
   "metadata": {
    "_cell_guid": "764cb248-ee97-f98c-3860-7df87b13bc1b",
    "collapsed": false,
    "deletable": true,
    "editable": true
   },
   "outputs": [],
   "source": [
    "lungdiff = segmented_lungs_fill - segmented_lungs\n",
    "plot_3d(lungdiff, 0)"
   ]
  },
  {
   "cell_type": "code",
   "execution_count": null,
   "metadata": {
    "collapsed": false,
    "deletable": true,
    "editable": true
   },
   "outputs": [],
   "source": [
    "patient_id"
   ]
  },
  {
   "cell_type": "code",
   "execution_count": null,
   "metadata": {
    "collapsed": false,
    "deletable": true,
    "editable": true
   },
   "outputs": [],
   "source": [
    "plt.figure(figsize=(10,10))\n",
    "ipyvolume.quickvolshow(segmented_lungs_fill, width=800, height=800, s=10)"
   ]
  },
  {
   "cell_type": "markdown",
   "metadata": {
    "_cell_guid": "756185c7-1833-66b8-572d-30d480533ad0",
    "deletable": true,
    "editable": true
   },
   "source": [
    "Pretty cool, no? \n",
    "\n",
    "Anyway, when you want to use this mask, **remember to first apply a dilation morphological operation** on it (i.e. with a circular kernel).  This expands the mask in all directions. The air + structures in the lung alone will not contain all nodules, in particular it will miss those that are stuck to the side of the lung, where they often appear! So expand the mask a little :)\n",
    "\n",
    "**This segmentation may fail for some edge cases**. It relies on the fact that the air outside the patient is not connected to the air in the lungs. If the patient has a [tracheostomy](https://en.wikipedia.org/wiki/Tracheotomy), this will not be the case, I do not know whether this is present in the dataset. Also, particulary noisy images (for instance due to a pacemaker in the image below) this method may also fail. Instead, the second largest air pocket in the body will be segmented. You can recognize this by checking the fraction of image that the mask corresponds to, which will be very small for this case. You can then first apply a morphological closing operation with a kernel a few mm in size to close these holes, after which it should work (or more simply, do not use the mask for this image). \n",
    "\n",
    "![pacemaker example][1]\n",
    "\n",
    "# Normalization\n",
    "Our values currently range from -1024 to around 2000. Anything above 400 is not interesting to us, as these are simply bones with different radiodensity.  A commonly used set of thresholds in the LUNA16 competition to normalize between are -1000 and 400. Here's some code you can use:\n",
    "\n",
    "\n",
    "  [1]: http://i.imgur.com/po0eX1L.png"
   ]
  },
  {
   "cell_type": "code",
   "execution_count": null,
   "metadata": {
    "_cell_guid": "b65e2226-a7a5-777d-5e4c-2e87e2f708a9",
    "collapsed": true,
    "deletable": true,
    "editable": true
   },
   "outputs": [],
   "source": [
    "MIN_BOUND = -1000.0\n",
    "MAX_BOUND = 400.0\n",
    "    \n",
    "def normalize(image):\n",
    "    image = (image - MIN_BOUND) / (MAX_BOUND - MIN_BOUND)\n",
    "    image[image>1] = 1.\n",
    "    image[image<0] = 0.\n",
    "    return image"
   ]
  },
  {
   "cell_type": "markdown",
   "metadata": {
    "_cell_guid": "f2f3eacf-3a41-a36d-ecb5-9354d926e6f4",
    "deletable": true,
    "editable": true
   },
   "source": [
    "# Zero centering\n",
    "\n",
    "As a final preprocessing step, it is advisory to zero center your data so that your mean value is 0. To do this you simply subtract the mean pixel value from all pixels. \n",
    "\n",
    "To determine this mean you simply average all images in the whole dataset.  If that sounds like a lot of work, we found this to be around 0.25 in the LUNA16 competition. \n",
    "\n",
    "**Warning: Do not zero center with the mean per image (like is done in some kernels on here). The CT scanners are calibrated to return accurate HU measurements. There is no such thing as an image with lower contrast or brightness like in normal pictures.**"
   ]
  },
  {
   "cell_type": "code",
   "execution_count": null,
   "metadata": {
    "_cell_guid": "3570abfa-b13a-bd5b-06f3-9fd9a4329b1d",
    "collapsed": true,
    "deletable": true,
    "editable": true
   },
   "outputs": [],
   "source": [
    "PIXEL_MEAN = 0.25\n",
    "\n",
    "def zero_center(image):\n",
    "    image = image - PIXEL_MEAN\n",
    "    return image"
   ]
  },
  {
   "cell_type": "markdown",
   "metadata": {
    "_cell_guid": "17e813c3-6388-1956-47a2-24bb54376142",
    "deletable": true,
    "editable": true
   },
   "source": [
    "# What's next? \n",
    "\n",
    "With these steps your images are ready for consumption by your CNN or other ML method :). You can do all these steps offline (one time and save the result), and I would advise you to do so and let it run overnight as it may take a long time. \n",
    "\n",
    "**Tip:** To save storage space, don't do normalization and zero centering beforehand, but do this online (during training, just after loading). If you don't do this yet, your image are int16's, which are smaller than float32s and easier to compress as well.\n",
    "\n",
    "**If this tutorial helped you at all, please upvote it and leave a comment :)**"
   ]
  },
  {
   "cell_type": "code",
   "execution_count": 29,
   "metadata": {
    "collapsed": false
   },
   "outputs": [
    {
     "data": {
      "text/plain": [
       "(302, 390, 390)"
      ]
     },
     "execution_count": 29,
     "metadata": {},
     "output_type": "execute_result"
    }
   ],
   "source": [
    "ary = np.load('/media/mike/tera/data/databowl/resampled_images/1.3.6.1.4.1.14519.5.2.1.6279.6001.105756658031515062000744821260.mhd.npy')\n",
    "ary.shape\n",
    "ary[ary ]"
   ]
  },
  {
   "cell_type": "code",
   "execution_count": 30,
   "metadata": {
    "collapsed": false
   },
   "outputs": [
    {
     "name": "stderr",
     "output_type": "stream",
     "text": [
      "/home/mike/ve/ml/lib/python3.5/site-packages/ipyvolume/serialize.py:21: RuntimeWarning: invalid value encountered in true_divide\n",
      "  gradient = gradient / np.sqrt(gradient[0]**2 + gradient[1]**2 + gradient[2]**2)\n"
     ]
    },
    {
     "data": {
      "application/vnd.jupyter.widget-view+json": {
       "model_id": "424c88e8d13d472a8d3790a81473183a"
      }
     },
     "metadata": {},
     "output_type": "display_data"
    }
   ],
   "source": [
    "ipyvolume.quickvolshow(ary, width=1000, height=1000, level=[.26, .3, .26], level_width=[.5, .1, .05])"
   ]
  },
  {
   "cell_type": "code",
   "execution_count": 31,
   "metadata": {
    "collapsed": false
   },
   "outputs": [
    {
     "data": {
      "text/plain": [
       "(-3709, 2067)"
      ]
     },
     "execution_count": 31,
     "metadata": {},
     "output_type": "execute_result"
    }
   ],
   "source": [
    "np.amin(ary), np.amax(ary)"
   ]
  },
  {
   "cell_type": "code",
   "execution_count": null,
   "metadata": {
    "collapsed": true
   },
   "outputs": [],
   "source": []
  }
 ],
 "metadata": {
  "_change_revision": 7,
  "_is_fork": false,
  "kernelspec": {
   "display_name": "Python 3",
   "language": "python",
   "name": "python3"
  },
  "language_info": {
   "codemirror_mode": {
    "name": "ipython",
    "version": 3
   },
   "file_extension": ".py",
   "mimetype": "text/x-python",
   "name": "python",
   "nbconvert_exporter": "python",
   "pygments_lexer": "ipython3",
   "version": "3.5.2"
  }
 },
 "nbformat": 4,
 "nbformat_minor": 0
}
