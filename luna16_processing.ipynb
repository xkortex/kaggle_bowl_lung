{
 "cells": [
  {
   "cell_type": "code",
   "execution_count": 1,
   "metadata": {
    "_cell_guid": "1d12eab6-3340-fa57-84a1-91fe13886996",
    "collapsed": false,
    "deletable": true,
    "editable": true
   },
   "outputs": [],
   "source": [
    "%matplotlib inline\n",
    "\n",
    "import numpy as np # linear algebra\n",
    "import pandas as pd # data processing, CSV file I/O (e.g. pd.read_csv)\n",
    "import dicom\n",
    "import os\n",
    "import glob\n",
    "import scipy.ndimage\n",
    "import matplotlib.pyplot as plt\n",
    "import ipyvolume\n",
    "\n",
    "\n",
    "import SimpleITK as sitk\n",
    "from skimage import measure, morphology\n",
    "from mpl_toolkits.mplot3d.art3d import Poly3DCollection\n",
    "\n",
    "# Some constants \n",
    "INPUT_FOLDER = '/media/mike/tera/data/databowl/kgsamples/'\n",
    "patients = os.listdir(INPUT_FOLDER)\n",
    "patients.sort()"
   ]
  },
  {
   "cell_type": "code",
   "execution_count": 2,
   "metadata": {
    "collapsed": true,
    "deletable": true,
    "editable": true
   },
   "outputs": [],
   "source": [
    "luna_path =  '/media/mike/tera/data/databowl/luna/'\n",
    "luna_subset_path = '/media/mike/tera/data/databowl/luna/subset0/'\n",
    "output_path = luna_path + 'output/'\n",
    "file_list=glob.glob(luna_subset_path+\"*.mhd\")\n",
    "\n",
    "#####################\n",
    "#\n",
    "# Helper function to get rows in data frame associated \n",
    "# with each file\n",
    "def get_origin(filepath):\n",
    "    \"\"\"Get the origin coordinates from a ITK file\"\"\"\n",
    "    itk_img = sitk.ReadImage(filepath)\n",
    "    origin = np.array(itk_img.GetOrigin())\n",
    "    return origin\n",
    "\n",
    "def coord_to_ary_idx(coord, origin):\n",
    "    \"\"\"Hackish helper function to convert the coordinate (from dicom/luna) and origin to numpy indicies\"\"\"\n",
    "    coord = np.array(coord)\n",
    "    origin = np.array(origin)\n",
    "    x, y, z = coord - origin\n",
    "    absidx = x, y, z # i have no idea why these things use such crazy indexing. but this will match the numpy slicing dims\n",
    "    print(absidx)\n",
    "    return list(map(int, absidx))\n",
    "\n",
    "def get_fiducial_slice(coord, edgelen=48):\n",
    "    ''' Gets the slicing indicies given a coordinate and edge length of a cube '''\n",
    "    x, y, z = map(int, coord)\n",
    "    m = edgelen // 2\n",
    "    print(x+m, x-m, y+m, y-m, z+m, z-m)\n",
    "    return (x-m, x+m, y-m, y+m, z-m, z+m)\n",
    "    \n",
    "def draw_fiducial_cube(ary_shape, coord, edgelen=48, dtype='int16'):\n",
    "    \"\"\"Draw a cube of size (E,E,E) located at coord, in a volume of shape ary_shape\"\"\"\n",
    "    ary = np.ones(ary_shape, dtype=dtype)\n",
    "    x0, x1, y0, y1, z0, z1 = get_fiducial_slice(coord, edgelen=edgelen)\n",
    "    ary[:z0] = 0\n",
    "    ary[z1:] = 0\n",
    "    ary[:,:y0] = 0\n",
    "    ary[:,y1:] = 0\n",
    "    ary[:,:,:x0] = 0\n",
    "    ary[:,:,x1:] = 0\n",
    "    print(np.sum(ary))\n",
    "    return ary\n",
    " \n",
    "def get_filename(case):\n",
    "    \"\"\"Get the filepath from the UID\"\"\"\n",
    "    global file_list # gross, yet effective...\n",
    "    for f in file_list:\n",
    "        if case in f:\n",
    "            return(f)\n",
    "        \n",
    "def strip_uid(path):\n",
    "    \"\"\"Helper to convert path to UID\"\"\"\n",
    "    fname = os.path.basename(path)\n",
    "    return fname.strip('.mhd.npy')"
   ]
  },
  {
   "cell_type": "code",
   "execution_count": 38,
   "metadata": {
    "collapsed": true,
    "deletable": true,
    "editable": true
   },
   "outputs": [],
   "source": [
    "def padcrop_vol(vol, newshape=[360, 360, 360], padtype='symmetric', value='origin'):\n",
    "    \"\"\"Pads and crops a volume in order to match the new shape. \n",
    "        padtype: {symmetric, origin} - pad symmetrically (on both sides) or only pad from the far index.\"\"\"\n",
    "    \n",
    "    vol2 = np.array(vol)\n",
    "    shape = vol.shape\n",
    "    z, y, x = shape\n",
    "    mids = [d // 2 for d in shape]\n",
    "    if value == 'origin':\n",
    "        constant_values = vol[0,0,0]\n",
    "        print('Origin: ', constant_values)\n",
    "    else:\n",
    "        try:\n",
    "            constant_values = float(value)\n",
    "        except ValueError:\n",
    "            raise ValueError('Invalid parameter \"value\" specified. Cannot coerce to symbol type or float')\n",
    "        \n",
    "    \n",
    "    for dim in range(3):\n",
    "        if shape[dim] < newshape[dim]:\n",
    "            pad_amt = (newshape[dim] - shape[dim]) // 2\n",
    "            parity = (shape[dim] & 1) ^ (newshape[dim] & 1)\n",
    "            if padtype[:3] == 'sym':\n",
    "                pad_tup = (pad_amt, pad_amt + parity) # \n",
    "            elif padtype[:3] == 'ori':\n",
    "                pad_tup = (0, pad_amt + pad_amt + parity) \n",
    "            else:\n",
    "                raise ValueError('Must specify valid padding mode: {\"symmetric\", \"origin\"}')\n",
    "            pad_list = [(0,0), (0,0), (0,0)]\n",
    "            pad_list[dim] = pad_tup\n",
    "            vol2 = np.pad(vol2, pad_list, mode='constant', constant_values=constant_values)\n",
    "        if shape[dim] > newshape[dim]:\n",
    "            if  padtype[:3] != 'sym':\n",
    "                raise NotImplementedError('Have not built this feature yet. Crop should be able to handle symmetric or origin')\n",
    "            slc_amt = (shape[dim] - newshape[dim]) // 2\n",
    "            parity = (shape[dim] & 1) ^ (newshape[dim] & 1)\n",
    "            slc_tup = (slc_amt, shape[dim] - slc_amt - parity) # \n",
    "            null1, vol2, null2 = np.split(vol2, slc_tup, dim)\n",
    "\n",
    "    return vol2\n",
    "\n",
    "def subsect(a, edge_length=48, stride=0.5, serialize=True, verbose=False):\n",
    "    '''Take a volume and chop it up to equal sized volumes of side edge_length. \n",
    "        serialize: if true, return an (N, E, E, E) dim array, E=edge, if false, return (M,N,P,E,E,E) dim array, where M, N, and P are the coordinates of the subsections in space'''\n",
    "    nx, ny, nz = a.shape\n",
    "    new_idx = [(nn // edge_length) if (nn%edge_length)==0 else (nn// edge_length)+1 for nn in a.shape ] # deal with the edge case of evenly divisible dim length\n",
    "    if verbose: \n",
    "        print('New indicies: {}'.format(new_idx))\n",
    "    new_shape = [edge_length*idx for idx in new_idx]\n",
    "    a2 = padcrop_vol(a, newshape=new_shape)\n",
    "    b = np.array(np.split(a2, new_idx[0], axis=0))\n",
    "    b = np.array(np.split(b, new_idx[1], axis=2))\n",
    "    b = np.array(np.split(b, new_idx[2], axis=4))\n",
    "    if serialize:\n",
    "        b = np.reshape(b, (-1, edge_length, edge_length, edge_length))\n",
    "\n",
    "    return b, new_idx\n",
    "\n",
    "def subslice(a, coord, edge_length=48, order='zyx'):\n",
    "    '''Take a volume and return a cube of side edge_length, centered at coord. '''\n",
    "    assert len(coord) == 3, 'Must be a 3d dimension array-like'\n",
    "    m = edge_length // 2\n",
    "    if order == 'zyx':\n",
    "        z, y, x = coord\n",
    "    else:\n",
    "        x, y, z = coord\n",
    "    return a[x-m:x+m, y-m:y+m, z-m:z+m]\n",
    "\n",
    "def cube(a):\n",
    "    '''Reshape an array into a cubic shape'''\n",
    "    n = a.shape[0]\n",
    "    d = np.around(n**(1/3))\n",
    "    d = int(d)\n",
    "    assert d**3 == n, 'Dimensions are not an even cube!'\n",
    "    return a.reshape((d,d,d))"
   ]
  },
  {
   "cell_type": "code",
   "execution_count": 4,
   "metadata": {
    "collapsed": true,
    "deletable": true,
    "editable": true
   },
   "outputs": [],
   "source": [
    "def coord_to_ravel_idx3(shape, xyz, order='zyx'):\n",
    "    '''3D specific version. Takes a coordinate (as x y z index notation) and returns the absolute (raveled) single number index\n",
    "    order: {'xyz', 'zyx'}\n",
    "    '''\n",
    "    n0, n1, n2 = shape\n",
    "    if order == 'zyx':\n",
    "        z, y, x = xyz\n",
    "    else:\n",
    "        x, y, z = xyz\n",
    "    idx = z*n2*n1 + y*n2 + x\n",
    "    return idx\n",
    "\n",
    "def coord_to_ravel_idx(shape, coord):\n",
    "    '''Takes a coordinate (as x y z index notation) and returns the absolute (raveled) single number index'''\n",
    "\n",
    "    assert len(shape) == len(coord), 'Must have matching dimension'\n",
    "    N = len(shape)\n",
    "    idx = coord[0]\n",
    "    for i in range(1, N):\n",
    "        idx += coord[i]*np.prod(shape[N-i:])\n",
    "        print(i, coord[i], shape[N-i:])\n",
    "    \n",
    "    return idx\n",
    "\n",
    "def ravel_idx_to_coord(shape, idx):\n",
    "    '''Given a shape and the absolute index, return the x y z coordinate index'''\n",
    "    N = len(shape)\n",
    "    coefs = []\n",
    "    coords = []\n",
    "    r = idx\n",
    "    for i in range(N-1, 0, -1):\n",
    "        coef = shape[N-i:]\n",
    "        coefs.append(coef)\n",
    "        q, r = divmod(r, np.prod(coef))\n",
    "        coords.append(q)\n",
    "        print(q,r)\n",
    "    coords.append(r)\n",
    "    coords.reverse()\n",
    "    \n",
    "    return coefs, coords\n",
    "\n",
    "def coord_to_subcoord(subshape, coord):\n",
    "    '''Gives the sub-cube 3d index for a subsected volume'''\n",
    "    new_idx = []\n",
    "    new_subcoord = []\n",
    "    for i in range(3):\n",
    "        q, r = divmod(coord[i], subshape[i])\n",
    "        new_idx.append(q)\n",
    "        new_subcoord.append(r)\n",
    "    return new_idx, new_subcoord\n"
   ]
  },
  {
   "cell_type": "code",
   "execution_count": 5,
   "metadata": {
    "collapsed": false,
    "deletable": true,
    "editable": true
   },
   "outputs": [],
   "source": [
    "#\n",
    "# The locations of the nodes\n",
    "df_node = pd.read_csv(luna_path+\"annotations.csv\")\n",
    "df_node[\"file\"] = df_node[\"seriesuid\"].apply(get_filename)\n",
    "df_node = df_node.dropna()"
   ]
  },
  {
   "cell_type": "code",
   "execution_count": 6,
   "metadata": {
    "collapsed": false,
    "deletable": true,
    "editable": true
   },
   "outputs": [
    {
     "data": {
      "text/html": [
       "<div>\n",
       "<table border=\"1\" class=\"dataframe\">\n",
       "  <thead>\n",
       "    <tr style=\"text-align: right;\">\n",
       "      <th></th>\n",
       "      <th>seriesuid</th>\n",
       "      <th>coordX</th>\n",
       "      <th>coordY</th>\n",
       "      <th>coordZ</th>\n",
       "      <th>diameter_mm</th>\n",
       "      <th>file</th>\n",
       "    </tr>\n",
       "  </thead>\n",
       "  <tbody>\n",
       "    <tr>\n",
       "      <th>1011</th>\n",
       "      <td>1.3.6.1.4.1.14519.5.2.1.6279.6001.511347030803...</td>\n",
       "      <td>60.775061</td>\n",
       "      <td>74.123970</td>\n",
       "      <td>-214.782347</td>\n",
       "      <td>25.233202</td>\n",
       "      <td>/media/mike/tera/data/databowl/luna/subset0/1....</td>\n",
       "    </tr>\n",
       "    <tr>\n",
       "      <th>1141</th>\n",
       "      <td>1.3.6.1.4.1.14519.5.2.1.6279.6001.905371958588...</td>\n",
       "      <td>109.116637</td>\n",
       "      <td>48.589511</td>\n",
       "      <td>-120.892058</td>\n",
       "      <td>21.583112</td>\n",
       "      <td>/media/mike/tera/data/databowl/luna/subset0/1....</td>\n",
       "    </tr>\n",
       "    <tr>\n",
       "      <th>1084</th>\n",
       "      <td>1.3.6.1.4.1.14519.5.2.1.6279.6001.752756872840...</td>\n",
       "      <td>56.393154</td>\n",
       "      <td>67.680087</td>\n",
       "      <td>-64.674453</td>\n",
       "      <td>19.653877</td>\n",
       "      <td>/media/mike/tera/data/databowl/luna/subset0/1....</td>\n",
       "    </tr>\n",
       "    <tr>\n",
       "      <th>420</th>\n",
       "      <td>1.3.6.1.4.1.14519.5.2.1.6279.6001.202811684116...</td>\n",
       "      <td>-83.158083</td>\n",
       "      <td>-21.678997</td>\n",
       "      <td>-97.004376</td>\n",
       "      <td>18.783233</td>\n",
       "      <td>/media/mike/tera/data/databowl/luna/subset0/1....</td>\n",
       "    </tr>\n",
       "    <tr>\n",
       "      <th>336</th>\n",
       "      <td>1.3.6.1.4.1.14519.5.2.1.6279.6001.187451715205...</td>\n",
       "      <td>94.635117</td>\n",
       "      <td>-17.372059</td>\n",
       "      <td>-204.396127</td>\n",
       "      <td>17.753232</td>\n",
       "      <td>/media/mike/tera/data/databowl/luna/subset0/1....</td>\n",
       "    </tr>\n",
       "  </tbody>\n",
       "</table>\n",
       "</div>"
      ],
      "text/plain": [
       "                                              seriesuid      coordX  \\\n",
       "1011  1.3.6.1.4.1.14519.5.2.1.6279.6001.511347030803...   60.775061   \n",
       "1141  1.3.6.1.4.1.14519.5.2.1.6279.6001.905371958588...  109.116637   \n",
       "1084  1.3.6.1.4.1.14519.5.2.1.6279.6001.752756872840...   56.393154   \n",
       "420   1.3.6.1.4.1.14519.5.2.1.6279.6001.202811684116...  -83.158083   \n",
       "336   1.3.6.1.4.1.14519.5.2.1.6279.6001.187451715205...   94.635117   \n",
       "\n",
       "         coordY      coordZ  diameter_mm  \\\n",
       "1011  74.123970 -214.782347    25.233202   \n",
       "1141  48.589511 -120.892058    21.583112   \n",
       "1084  67.680087  -64.674453    19.653877   \n",
       "420  -21.678997  -97.004376    18.783233   \n",
       "336  -17.372059 -204.396127    17.753232   \n",
       "\n",
       "                                                   file  \n",
       "1011  /media/mike/tera/data/databowl/luna/subset0/1....  \n",
       "1141  /media/mike/tera/data/databowl/luna/subset0/1....  \n",
       "1084  /media/mike/tera/data/databowl/luna/subset0/1....  \n",
       "420   /media/mike/tera/data/databowl/luna/subset0/1....  \n",
       "336   /media/mike/tera/data/databowl/luna/subset0/1....  "
      ]
     },
     "execution_count": 6,
     "metadata": {},
     "output_type": "execute_result"
    }
   ],
   "source": [
    "dfs = df_node.sort_values(by='diameter_mm', ascending=0)\n",
    "dfs.head()"
   ]
  },
  {
   "cell_type": "code",
   "execution_count": 7,
   "metadata": {
    "collapsed": false,
    "deletable": true,
    "editable": true
   },
   "outputs": [
    {
     "name": "stdout",
     "output_type": "stream",
     "text": [
      "112\n",
      "89\n"
     ]
    }
   ],
   "source": [
    "print(len(df_node))\n",
    "resamp_path = '/media/mike/tera/data/databowl/resampled_images/'\n",
    "resamps = glob.glob(resamp_path + '*.mhd.npy')\n",
    "print(len(resamps))"
   ]
  },
  {
   "cell_type": "code",
   "execution_count": 8,
   "metadata": {
    "collapsed": true,
    "deletable": true,
    "editable": true
   },
   "outputs": [],
   "source": [
    "uids = [strip_uid(path) for path in resamps]\n",
    "# sum([uid in uids for uid in dfs['seriesuid'].values]) # check if the data is there\n",
    "# sum([dfs['seriesuid'].values[0] in path for path in resamps])"
   ]
  },
  {
   "cell_type": "code",
   "execution_count": 9,
   "metadata": {
    "collapsed": false,
    "deletable": true,
    "editable": true
   },
   "outputs": [],
   "source": [
    "biggest = dfs.iloc[0]"
   ]
  },
  {
   "cell_type": "code",
   "execution_count": null,
   "metadata": {
    "collapsed": true,
    "deletable": true,
    "editable": true
   },
   "outputs": [],
   "source": []
  },
  {
   "cell_type": "code",
   "execution_count": null,
   "metadata": {
    "collapsed": true,
    "deletable": true,
    "editable": true
   },
   "outputs": [],
   "source": []
  },
  {
   "cell_type": "code",
   "execution_count": null,
   "metadata": {
    "collapsed": true,
    "deletable": true,
    "editable": true
   },
   "outputs": [],
   "source": []
  },
  {
   "cell_type": "code",
   "execution_count": null,
   "metadata": {
    "collapsed": true,
    "deletable": true,
    "editable": true
   },
   "outputs": [],
   "source": []
  },
  {
   "cell_type": "code",
   "execution_count": 10,
   "metadata": {
    "collapsed": false,
    "deletable": true,
    "editable": true
   },
   "outputs": [],
   "source": [
    "# mask = np.ones(pix_resampled.shape)\n",
    "# mz, my, mx = pix_resampled.shape\n",
    "# print(mz, my, mx)\n",
    "# mask[140:] = 0\n",
    "# mask[:110] = 0\n",
    "# mask[:,:50] = 0\n",
    "# mask[:,my-50:] = 0\n",
    "# mask[:,:,mx-50:] = 0\n",
    "# mask[:,:,:50] = 0\n",
    "# mask2 = np.less(pix_resampled,1267)\n",
    "# mask3 = np.greater(pix_resampled,400)\n",
    "\n",
    "# ipyvolume.quickvolshow(pix_resampled*mask*mask3, width=1000, height=1000, level=[.26, .3, .85], level_width=[.5, .1, .05])"
   ]
  },
  {
   "cell_type": "code",
   "execution_count": 11,
   "metadata": {
    "collapsed": false,
    "deletable": true,
    "editable": true
   },
   "outputs": [
    {
     "name": "stdout",
     "output_type": "stream",
     "text": [
      "(368, 360, 360) -2472 3652 -814.075541801\n"
     ]
    }
   ],
   "source": [
    "ary = np.load(resamp_path + biggest['seriesuid'] + '.mhd.npy')\n",
    "print(ary.shape, np.amin(ary), np.amax(ary), np.mean(ary))"
   ]
  },
  {
   "cell_type": "code",
   "execution_count": 12,
   "metadata": {
    "collapsed": false,
    "deletable": true,
    "editable": true
   },
   "outputs": [
    {
     "data": {
      "text/plain": [
       "seriesuid      1.3.6.1.4.1.14519.5.2.1.6279.6001.511347030803...\n",
       "coordX                                                   60.7751\n",
       "coordY                                                    74.124\n",
       "coordZ                                                  -214.782\n",
       "diameter_mm                                              25.2332\n",
       "file           /media/mike/tera/data/databowl/luna/subset0/1....\n",
       "Name: 1011, dtype: object"
      ]
     },
     "execution_count": 12,
     "metadata": {},
     "output_type": "execute_result"
    }
   ],
   "source": [
    "biggest"
   ]
  },
  {
   "cell_type": "code",
   "execution_count": 13,
   "metadata": {
    "collapsed": false,
    "deletable": true,
    "editable": true
   },
   "outputs": [
    {
     "data": {
      "text/plain": [
       "(60.775060529999998, 74.123969599999995, -214.78234660000001)"
      ]
     },
     "execution_count": 13,
     "metadata": {},
     "output_type": "execute_result"
    }
   ],
   "source": [
    "nx, ny, nz = biggest['coordX'], biggest['coordY'], biggest['coordZ']\n",
    "nx, ny, nz"
   ]
  },
  {
   "cell_type": "code",
   "execution_count": 14,
   "metadata": {
    "collapsed": false,
    "deletable": true,
    "editable": true
   },
   "outputs": [
    {
     "data": {
      "text/plain": [
       "array([-182.100006, -195.600006, -382.5     ])"
      ]
     },
     "execution_count": 14,
     "metadata": {},
     "output_type": "execute_result"
    }
   ],
   "source": [
    "origin = get_origin(luna_subset_path + biggest['seriesuid'] + '.mhd')\n",
    "origin"
   ]
  },
  {
   "cell_type": "code",
   "execution_count": 15,
   "metadata": {
    "collapsed": false,
    "deletable": true,
    "editable": true
   },
   "outputs": [
    {
     "name": "stdout",
     "output_type": "stream",
     "text": [
      "(242.87506653, 269.72397560000002, 167.71765339999999)\n"
     ]
    },
    {
     "data": {
      "text/plain": [
       "[242, 269, 167]"
      ]
     },
     "execution_count": 15,
     "metadata": {},
     "output_type": "execute_result"
    }
   ],
   "source": [
    "absidx = coord_to_ary_idx((nx, ny, nz), origin)\n",
    "absidx"
   ]
  },
  {
   "cell_type": "code",
   "execution_count": 16,
   "metadata": {
    "collapsed": false,
    "deletable": true,
    "editable": true
   },
   "outputs": [
    {
     "name": "stdout",
     "output_type": "stream",
     "text": [
      "70 50 84 64 -204 -224\n",
      "8000\n",
      "49 1 49 1 49 1\n",
      "110592\n",
      "257 227 284 254 182 152\n",
      "27000\n"
     ]
    }
   ],
   "source": [
    "fid = draw_fiducial_cube(ary.shape, (nx,ny,nz), 20)\n",
    "nporig = draw_fiducial_cube(ary.shape, (25,25,25))\n",
    "tumor = draw_fiducial_cube(ary.shape, absidx, 30)"
   ]
  },
  {
   "cell_type": "code",
   "execution_count": 17,
   "metadata": {
    "collapsed": false,
    "deletable": true,
    "editable": true
   },
   "outputs": [],
   "source": [
    "# vol = np.array(ary, dtype=np.int16) \n",
    "# vol +=  5000*nporig + 5000*fid +5000*tumor\n",
    "# # vol = np.array(vol, dtype=np.int16)\n",
    "# print(type(vol))\n",
    "# print(vol.shape, vol.dtype)"
   ]
  },
  {
   "cell_type": "code",
   "execution_count": 18,
   "metadata": {
    "collapsed": false,
    "deletable": true,
    "editable": true
   },
   "outputs": [],
   "source": [
    "# plt.figure(figsize=(8,8))\n",
    "# plt.imshow(vol[absidx[2]])"
   ]
  },
  {
   "cell_type": "code",
   "execution_count": 19,
   "metadata": {
    "collapsed": false,
    "deletable": true,
    "editable": true
   },
   "outputs": [
    {
     "data": {
      "text/plain": [
       "(368, 360, 360)"
      ]
     },
     "execution_count": 19,
     "metadata": {},
     "output_type": "execute_result"
    }
   ],
   "source": [
    "ary.shape"
   ]
  },
  {
   "cell_type": "code",
   "execution_count": 20,
   "metadata": {
    "collapsed": false,
    "deletable": true,
    "editable": true
   },
   "outputs": [
    {
     "data": {
      "text/plain": [
       "384"
      ]
     },
     "execution_count": 20,
     "metadata": {},
     "output_type": "execute_result"
    }
   ],
   "source": [
    "8*48"
   ]
  },
  {
   "cell_type": "code",
   "execution_count": 21,
   "metadata": {
    "collapsed": false,
    "deletable": true,
    "editable": true
   },
   "outputs": [
    {
     "name": "stdout",
     "output_type": "stream",
     "text": [
      "New indicies: [8, 8, 8]\n",
      "Origin:  -2048\n"
     ]
    },
    {
     "data": {
      "text/plain": [
       "(8, 8, 8, 48, 48, 48)"
      ]
     },
     "execution_count": 21,
     "metadata": {},
     "output_type": "execute_result"
    }
   ],
   "source": [
    "volist, new_idx = subsect(ary, 48, verbose=True, serialize=False)\n",
    "volist.shape"
   ]
  },
  {
   "cell_type": "code",
   "execution_count": 22,
   "metadata": {
    "collapsed": false,
    "deletable": true,
    "editable": true
   },
   "outputs": [
    {
     "data": {
      "text/plain": [
       "<matplotlib.image.AxesImage at 0x7fcd60726fd0>"
      ]
     },
     "execution_count": 22,
     "metadata": {},
     "output_type": "execute_result"
    },
    {
     "data": {
      "image/png": "[encoded data removed]",
      "text/plain": [
       "<matplotlib.figure.Figure at 0x7fcd83ae89b0>"
      ]
     },
     "metadata": {},
     "output_type": "display_data"
    }
   ],
   "source": [
    "plt.imshow((ary+tumor)[absidx[0]])"
   ]
  },
  {
   "cell_type": "code",
   "execution_count": 23,
   "metadata": {
    "collapsed": false,
    "deletable": true,
    "editable": true
   },
   "outputs": [
    {
     "name": "stdout",
     "output_type": "stream",
     "text": [
      "(368, 360, 360) int16\n"
     ]
    }
   ],
   "source": [
    "vol = np.array(ary, dtype=np.int16) \n",
    "vol +=  5000*tumor\n",
    "\n",
    "print(vol.shape, vol.dtype)"
   ]
  },
  {
   "cell_type": "code",
   "execution_count": 24,
   "metadata": {
    "collapsed": false,
    "deletable": true,
    "editable": true
   },
   "outputs": [
    {
     "data": {
      "text/plain": [
       "<matplotlib.image.AxesImage at 0x7fcd611d1518>"
      ]
     },
     "execution_count": 24,
     "metadata": {},
     "output_type": "execute_result"
    },
    {
     "data": {
      "image/png": "[encoded data removed]",
      "text/plain": [
       "<matplotlib.figure.Figure at 0x7fcd6072f6d8>"
      ]
     },
     "metadata": {},
     "output_type": "display_data"
    }
   ],
   "source": [
    "plt.imshow(vol[absidx[2]])"
   ]
  },
  {
   "cell_type": "code",
   "execution_count": 25,
   "metadata": {
    "collapsed": false,
    "deletable": true,
    "editable": true
   },
   "outputs": [
    {
     "name": "stdout",
     "output_type": "stream",
     "text": [
      "[242, 269, 167]\n"
     ]
    }
   ],
   "source": [
    "# The point we are trying to hit in xyz notation is: \n",
    "print(absidx)"
   ]
  },
  {
   "cell_type": "code",
   "execution_count": 26,
   "metadata": {
    "collapsed": false,
    "deletable": true,
    "editable": true
   },
   "outputs": [
    {
     "name": "stdout",
     "output_type": "stream",
     "text": [
      "New indicies: [8, 8, 8]\n",
      "Origin:  -2048\n",
      "New indicies: [8, 8, 8]\n",
      "Origin:  -2048\n",
      "[8, 8, 8]\n"
     ]
    }
   ],
   "source": [
    "volist2, new_idx2 = subsect(ary, 48, verbose=True, serialize=False)\n",
    "volist3, new_idx3 = subsect(ary, 48, verbose=True, serialize=True)\n",
    "\n",
    "print(new_idx2)"
   ]
  },
  {
   "cell_type": "code",
   "execution_count": 27,
   "metadata": {
    "collapsed": false,
    "deletable": true,
    "editable": true
   },
   "outputs": [
    {
     "data": {
      "text/plain": [
       "([5, 5, 3], [2, 29, 23])"
      ]
     },
     "execution_count": 27,
     "metadata": {},
     "output_type": "execute_result"
    }
   ],
   "source": [
    "idx_a, idx_b = coord_to_subcoord([48,]*3, absidx)\n",
    "idx_a, idx_b"
   ]
  },
  {
   "cell_type": "code",
   "execution_count": 28,
   "metadata": {
    "collapsed": false,
    "deletable": true,
    "editable": true
   },
   "outputs": [
    {
     "data": {
      "text/plain": [
       "<matplotlib.image.AxesImage at 0x7fcd611c2748>"
      ]
     },
     "execution_count": 28,
     "metadata": {},
     "output_type": "execute_result"
    },
    {
     "data": {
      "image/png": "[encoded data removed]",
      "text/plain": [
       "<matplotlib.figure.Figure at 0x7fcd611dd358>"
      ]
     },
     "metadata": {},
     "output_type": "display_data"
    }
   ],
   "source": [
    "x, y, z = idx_a\n",
    "plt.imshow(volist2[x,y,z][23])"
   ]
  },
  {
   "cell_type": "code",
   "execution_count": 29,
   "metadata": {
    "collapsed": false,
    "deletable": true,
    "editable": true
   },
   "outputs": [
    {
     "name": "stdout",
     "output_type": "stream",
     "text": [
      "1 5 [8]\n",
      "2 3 [8, 8]\n",
      "237\n"
     ]
    }
   ],
   "source": [
    "ravel_idx = coord_to_ravel_idx(new_idx3, idx_a)\n",
    "print(ravel_idx)"
   ]
  },
  {
   "cell_type": "code",
   "execution_count": 30,
   "metadata": {
    "collapsed": false,
    "deletable": true,
    "editable": true
   },
   "outputs": [
    {
     "data": {
      "text/plain": [
       "<matplotlib.image.AxesImage at 0x7fcd6111f438>"
      ]
     },
     "execution_count": 30,
     "metadata": {},
     "output_type": "execute_result"
    },
    {
     "data": {
      "image/png": "[encoded data removed]",
      "text/plain": [
       "<matplotlib.figure.Figure at 0x7fcd611d7128>"
      ]
     },
     "metadata": {},
     "output_type": "display_data"
    }
   ],
   "source": [
    "plt.imshow(volist3[ravel_idx][23])"
   ]
  },
  {
   "cell_type": "code",
   "execution_count": 31,
   "metadata": {
    "collapsed": false,
    "deletable": true,
    "editable": true
   },
   "outputs": [
    {
     "name": "stdout",
     "output_type": "stream",
     "text": [
      "[5, 5, 3]\n",
      "363\n"
     ]
    }
   ],
   "source": [
    "\n",
    "\n",
    "print(idx_a)\n",
    "ravel_idx = coord_to_ravel_idx3(new_idx3, idx_a)\n",
    "print(ravel_idx)"
   ]
  },
  {
   "cell_type": "code",
   "execution_count": 32,
   "metadata": {
    "collapsed": false,
    "deletable": true,
    "editable": true
   },
   "outputs": [
    {
     "data": {
      "application/vnd.jupyter.widget-view+json": {
       "model_id": "93a23a60e6194e309f1e2548d955562b"
      }
     },
     "metadata": {},
     "output_type": "display_data"
    }
   ],
   "source": [
    "ipyvolume.quickvolshow(volist3[ravel_idx], width=500, height=500)"
   ]
  },
  {
   "cell_type": "code",
   "execution_count": 33,
   "metadata": {
    "collapsed": false,
    "deletable": true,
    "editable": true
   },
   "outputs": [
    {
     "data": {
      "application/vnd.jupyter.widget-view+json": {
       "model_id": "dd639ae17fd14060875c323420ca259d"
      }
     },
     "metadata": {},
     "output_type": "display_data"
    }
   ],
   "source": [
    "ipyvolume.quickvolshow(volist2[x,y,z], width=500, height=500)"
   ]
  },
  {
   "cell_type": "code",
   "execution_count": 39,
   "metadata": {
    "collapsed": false,
    "deletable": true,
    "editable": true
   },
   "outputs": [
    {
     "data": {
      "application/vnd.jupyter.widget-view+json": {
       "model_id": "15bf095e8d6a42d1b7a69a7138646930"
      }
     },
     "metadata": {},
     "output_type": "display_data"
    }
   ],
   "source": [
    "ipyvolume.quickvolshow(subslice(ary, absidx), width=500, height=500)"
   ]
  },
  {
   "cell_type": "code",
   "execution_count": 29,
   "metadata": {
    "collapsed": false,
    "deletable": true,
    "editable": true
   },
   "outputs": [],
   "source": [
    "vv = volist[7]\n",
    "# ipyvolume.quickvolshow(vv, width=500, height=500, level_width=[.1, .1, .05], level=[.3, .46, .55], opacity=[.01, .05, .05], )\n"
   ]
  },
  {
   "cell_type": "code",
   "execution_count": 30,
   "metadata": {
    "collapsed": false,
    "deletable": true,
    "editable": true
   },
   "outputs": [
    {
     "data": {
      "text/plain": [
       "[0, 48, 96, 144, 192, 240, 288, 336, 384, 432, 480, 528, 576]"
      ]
     },
     "execution_count": 30,
     "metadata": {},
     "output_type": "execute_result"
    }
   ],
   "source": [
    "list(range(0,600, 48))"
   ]
  },
  {
   "cell_type": "code",
   "execution_count": 31,
   "metadata": {
    "collapsed": false,
    "deletable": true,
    "editable": true
   },
   "outputs": [
    {
     "name": "stdout",
     "output_type": "stream",
     "text": [
      "(12, 12, 12)\n"
     ]
    },
    {
     "data": {
      "text/plain": [
       "array([[[   0,    1,    2, ...,    9,   10,   11],\n",
       "        [  12,   13,   14, ...,   21,   22,   23],\n",
       "        [  24,   25,   26, ...,   33,   34,   35],\n",
       "        ..., \n",
       "        [ 108,  109,  110, ...,  117,  118,  119],\n",
       "        [ 120,  121,  122, ...,  129,  130,  131],\n",
       "        [ 132,  133,  134, ...,  141,  142,  143]],\n",
       "\n",
       "       [[ 144,  145,  146, ...,  153,  154,  155],\n",
       "        [ 156,  157,  158, ...,  165,  166,  167],\n",
       "        [ 168,  169,  170, ...,  177,  178,  179],\n",
       "        ..., \n",
       "        [ 252,  253,  254, ...,  261,  262,  263],\n",
       "        [ 264,  265,  266, ...,  273,  274,  275],\n",
       "        [ 276,  277,  278, ...,  285,  286,  287]],\n",
       "\n",
       "       [[ 288,  289,  290, ...,  297,  298,  299],\n",
       "        [ 300,  301,  302, ...,  309,  310,  311],\n",
       "        [ 312,  313,  314, ...,  321,  322,  323],\n",
       "        ..., \n",
       "        [ 396,  397,  398, ...,  405,  406,  407],\n",
       "        [ 408,  409,  410, ...,  417,  418,  419],\n",
       "        [ 420,  421,  422, ...,  429,  430,  431]],\n",
       "\n",
       "       ..., \n",
       "       [[1296, 1297, 1298, ..., 1305, 1306, 1307],\n",
       "        [1308, 1309, 1310, ..., 1317, 1318, 1319],\n",
       "        [1320, 1321, 1322, ..., 1329, 1330, 1331],\n",
       "        ..., \n",
       "        [1404, 1405, 1406, ..., 1413, 1414, 1415],\n",
       "        [1416, 1417, 1418, ..., 1425, 1426, 1427],\n",
       "        [1428, 1429, 1430, ..., 1437, 1438, 1439]],\n",
       "\n",
       "       [[1440, 1441, 1442, ..., 1449, 1450, 1451],\n",
       "        [1452, 1453, 1454, ..., 1461, 1462, 1463],\n",
       "        [1464, 1465, 1466, ..., 1473, 1474, 1475],\n",
       "        ..., \n",
       "        [1548, 1549, 1550, ..., 1557, 1558, 1559],\n",
       "        [1560, 1561, 1562, ..., 1569, 1570, 1571],\n",
       "        [1572, 1573, 1574, ..., 1581, 1582, 1583]],\n",
       "\n",
       "       [[1584, 1585, 1586, ..., 1593, 1594, 1595],\n",
       "        [1596, 1597, 1598, ..., 1605, 1606, 1607],\n",
       "        [1608, 1609, 1610, ..., 1617, 1618, 1619],\n",
       "        ..., \n",
       "        [1692, 1693, 1694, ..., 1701, 1702, 1703],\n",
       "        [1704, 1705, 1706, ..., 1713, 1714, 1715],\n",
       "        [1716, 1717, 1718, ..., 1725, 1726, 1727]]])"
      ]
     },
     "execution_count": 31,
     "metadata": {},
     "output_type": "execute_result"
    }
   ],
   "source": [
    "\n",
    "\n",
    "a = np.arange(12**3)\n",
    "a = cube(a)\n",
    "print(a.shape)\n",
    "a"
   ]
  },
  {
   "cell_type": "code",
   "execution_count": 32,
   "metadata": {
    "collapsed": false,
    "deletable": true,
    "editable": true
   },
   "outputs": [
    {
     "data": {
      "text/plain": [
       "array([[[  0,   1],\n",
       "        [ 12,  13]],\n",
       "\n",
       "       [[144, 145],\n",
       "        [156, 157]]])"
      ]
     },
     "execution_count": 32,
     "metadata": {},
     "output_type": "execute_result"
    }
   ],
   "source": [
    "a[:2, :2, :2]"
   ]
  },
  {
   "cell_type": "code",
   "execution_count": 33,
   "metadata": {
    "collapsed": false,
    "deletable": true,
    "editable": true
   },
   "outputs": [
    {
     "name": "stdout",
     "output_type": "stream",
     "text": [
      "(6, 2, 12, 12)\n"
     ]
    },
    {
     "data": {
      "text/plain": [
       "array([[[  0,   1,   2,   3,   4,   5,   6,   7,   8,   9,  10,  11],\n",
       "        [ 12,  13,  14,  15,  16,  17,  18,  19,  20,  21,  22,  23],\n",
       "        [ 24,  25,  26,  27,  28,  29,  30,  31,  32,  33,  34,  35],\n",
       "        [ 36,  37,  38,  39,  40,  41,  42,  43,  44,  45,  46,  47],\n",
       "        [ 48,  49,  50,  51,  52,  53,  54,  55,  56,  57,  58,  59],\n",
       "        [ 60,  61,  62,  63,  64,  65,  66,  67,  68,  69,  70,  71],\n",
       "        [ 72,  73,  74,  75,  76,  77,  78,  79,  80,  81,  82,  83],\n",
       "        [ 84,  85,  86,  87,  88,  89,  90,  91,  92,  93,  94,  95],\n",
       "        [ 96,  97,  98,  99, 100, 101, 102, 103, 104, 105, 106, 107],\n",
       "        [108, 109, 110, 111, 112, 113, 114, 115, 116, 117, 118, 119],\n",
       "        [120, 121, 122, 123, 124, 125, 126, 127, 128, 129, 130, 131],\n",
       "        [132, 133, 134, 135, 136, 137, 138, 139, 140, 141, 142, 143]],\n",
       "\n",
       "       [[144, 145, 146, 147, 148, 149, 150, 151, 152, 153, 154, 155],\n",
       "        [156, 157, 158, 159, 160, 161, 162, 163, 164, 165, 166, 167],\n",
       "        [168, 169, 170, 171, 172, 173, 174, 175, 176, 177, 178, 179],\n",
       "        [180, 181, 182, 183, 184, 185, 186, 187, 188, 189, 190, 191],\n",
       "        [192, 193, 194, 195, 196, 197, 198, 199, 200, 201, 202, 203],\n",
       "        [204, 205, 206, 207, 208, 209, 210, 211, 212, 213, 214, 215],\n",
       "        [216, 217, 218, 219, 220, 221, 222, 223, 224, 225, 226, 227],\n",
       "        [228, 229, 230, 231, 232, 233, 234, 235, 236, 237, 238, 239],\n",
       "        [240, 241, 242, 243, 244, 245, 246, 247, 248, 249, 250, 251],\n",
       "        [252, 253, 254, 255, 256, 257, 258, 259, 260, 261, 262, 263],\n",
       "        [264, 265, 266, 267, 268, 269, 270, 271, 272, 273, 274, 275],\n",
       "        [276, 277, 278, 279, 280, 281, 282, 283, 284, 285, 286, 287]]])"
      ]
     },
     "execution_count": 33,
     "metadata": {},
     "output_type": "execute_result"
    }
   ],
   "source": [
    "b = np.array(np.split(a, 6, axis=0))\n",
    "# b = np.array(np.split(b, 6, axis=2))\n",
    "# b = np.array(np.split(b, 6, axis=4))\n",
    "print(b.shape)\n",
    "# b[0][0][0]\n",
    "b[0]"
   ]
  },
  {
   "cell_type": "code",
   "execution_count": 34,
   "metadata": {
    "collapsed": false,
    "deletable": true,
    "editable": true
   },
   "outputs": [
    {
     "data": {
      "text/plain": [
       "array([1716, 1717, 1718, 1719, 1720, 1721, 1722, 1723, 1724, 1725, 1726,\n",
       "       1727])"
      ]
     },
     "execution_count": 34,
     "metadata": {},
     "output_type": "execute_result"
    }
   ],
   "source": [
    "b[-1][-1][-1]"
   ]
  },
  {
   "cell_type": "code",
   "execution_count": 35,
   "metadata": {
    "collapsed": false,
    "deletable": true,
    "editable": true
   },
   "outputs": [
    {
     "data": {
      "text/plain": [
       "array([[[0, 1],\n",
       "        [2, 3]],\n",
       "\n",
       "       [[4, 5],\n",
       "        [6, 7]]])"
      ]
     },
     "execution_count": 35,
     "metadata": {},
     "output_type": "execute_result"
    }
   ],
   "source": [
    "c = b.reshape((-1, 2, 2, 2))\n",
    "c[0]"
   ]
  },
  {
   "cell_type": "code",
   "execution_count": 36,
   "metadata": {
    "collapsed": false,
    "deletable": true,
    "editable": true
   },
   "outputs": [
    {
     "data": {
      "text/plain": [
       "array([[[1720, 1721],\n",
       "        [1722, 1723]],\n",
       "\n",
       "       [[1724, 1725],\n",
       "        [1726, 1727]]])"
      ]
     },
     "execution_count": 36,
     "metadata": {},
     "output_type": "execute_result"
    }
   ],
   "source": [
    "c[-1]"
   ]
  },
  {
   "cell_type": "code",
   "execution_count": 37,
   "metadata": {
    "collapsed": false,
    "deletable": true,
    "editable": true
   },
   "outputs": [
    {
     "data": {
      "text/plain": [
       "array([[18, 19, 20],\n",
       "       [21, 22, 23],\n",
       "       [24, 25, 26]])"
      ]
     },
     "execution_count": 37,
     "metadata": {},
     "output_type": "execute_result"
    }
   ],
   "source": [
    "a = np.arange(3**3)\n",
    "a = cube(a)\n",
    "a[2]"
   ]
  },
  {
   "cell_type": "code",
   "execution_count": 38,
   "metadata": {
    "collapsed": false,
    "deletable": true,
    "editable": true
   },
   "outputs": [
    {
     "data": {
      "text/plain": [
       "array([1, 3])"
      ]
     },
     "execution_count": 38,
     "metadata": {},
     "output_type": "execute_result"
    }
   ],
   "source": [
    "np.arange(4).reshape((2,2))[:,1]"
   ]
  },
  {
   "cell_type": "code",
   "execution_count": null,
   "metadata": {
    "collapsed": true,
    "deletable": true,
    "editable": true
   },
   "outputs": [],
   "source": []
  },
  {
   "cell_type": "code",
   "execution_count": 39,
   "metadata": {
    "collapsed": false,
    "deletable": true,
    "editable": true
   },
   "outputs": [
    {
     "name": "stdout",
     "output_type": "stream",
     "text": [
      "(2, 3, 4)\n",
      "[[[ 0  1  2  3]\n",
      "  [ 4  5  6  7]\n",
      "  [ 8  9 10 11]]\n",
      "\n",
      " [[12 13 14 15]\n",
      "  [16 17 18 19]\n",
      "  [20 21 22 23]]]\n"
     ]
    }
   ],
   "source": [
    "a = np.arange(24).reshape((2, 3, 4))\n",
    "print(a.shape)\n",
    "print(a)"
   ]
  },
  {
   "cell_type": "code",
   "execution_count": 40,
   "metadata": {
    "collapsed": false,
    "deletable": true,
    "editable": true
   },
   "outputs": [
    {
     "name": "stdout",
     "output_type": "stream",
     "text": [
      "1 2 (4,)\n",
      "2 3 (3, 4)\n",
      "45\n",
      "45\n"
     ]
    }
   ],
   "source": [
    "print(coord_to_ravel_idx(a.shape, (1,2,3)))\n",
    "print(coord_to_ravel_idx3(a.shape, (1,2,3)))"
   ]
  },
  {
   "cell_type": "code",
   "execution_count": 41,
   "metadata": {
    "collapsed": false,
    "deletable": true,
    "editable": true
   },
   "outputs": [
    {
     "data": {
      "text/plain": [
       "array([ 0,  1,  2,  3,  4,  5,  6,  7,  8,  9, 10, 11, 12, 13, 14, 15, 16,\n",
       "       17, 18, 19, 20, 21, 22, 23])"
      ]
     },
     "execution_count": 41,
     "metadata": {},
     "output_type": "execute_result"
    }
   ],
   "source": [
    "b = a.reshape(-1)\n",
    "b"
   ]
  },
  {
   "cell_type": "code",
   "execution_count": 42,
   "metadata": {
    "collapsed": false,
    "deletable": true,
    "editable": true
   },
   "outputs": [
    {
     "name": "stdout",
     "output_type": "stream",
     "text": [
      "(2, 3, 4)\n"
     ]
    }
   ],
   "source": [
    "print(a.shape)"
   ]
  },
  {
   "cell_type": "code",
   "execution_count": 43,
   "metadata": {
    "collapsed": false,
    "deletable": true,
    "editable": true
   },
   "outputs": [
    {
     "name": "stdout",
     "output_type": "stream",
     "text": [
      "4\n",
      "4\n",
      "4\n"
     ]
    }
   ],
   "source": [
    "n0, n1, n2 = a.shape\n",
    "\n",
    "x=0\n",
    "y=1\n",
    "z=0\n",
    "print(b[z*n2*n1 + y*n2 + x  ])\n",
    "print(a[z, y, x])\n",
    "idx = coord_to_ravel_idx3(a.shape, (x,y,z))\n",
    "print(idx)"
   ]
  },
  {
   "cell_type": "code",
   "execution_count": 44,
   "metadata": {
    "collapsed": false,
    "deletable": true,
    "editable": true
   },
   "outputs": [
    {
     "data": {
      "text/plain": [
       "array([[0, 1, 2, 3, 4, 5]])"
      ]
     },
     "execution_count": 44,
     "metadata": {},
     "output_type": "execute_result"
    }
   ],
   "source": [
    "v = np.arange(6).reshape((1, -1))\n",
    "v"
   ]
  },
  {
   "cell_type": "code",
   "execution_count": 45,
   "metadata": {
    "collapsed": false,
    "deletable": true,
    "editable": true
   },
   "outputs": [
    {
     "data": {
      "text/plain": [
       "2"
      ]
     },
     "execution_count": 45,
     "metadata": {},
     "output_type": "execute_result"
    }
   ],
   "source": [
    "v.ndim"
   ]
  },
  {
   "cell_type": "code",
   "execution_count": 46,
   "metadata": {
    "collapsed": false,
    "deletable": true,
    "editable": true
   },
   "outputs": [
    {
     "data": {
      "text/plain": [
       "array([[0],\n",
       "       [1],\n",
       "       [2],\n",
       "       [3],\n",
       "       [4],\n",
       "       [5]])"
      ]
     },
     "execution_count": 46,
     "metadata": {},
     "output_type": "execute_result"
    }
   ],
   "source": [
    "v.T"
   ]
  },
  {
   "cell_type": "code",
   "execution_count": 47,
   "metadata": {
    "collapsed": false,
    "deletable": true,
    "editable": true
   },
   "outputs": [
    {
     "data": {
      "text/plain": [
       "(6, 1)"
      ]
     },
     "execution_count": 47,
     "metadata": {},
     "output_type": "execute_result"
    }
   ],
   "source": [
    "v.T.shape"
   ]
  },
  {
   "cell_type": "code",
   "execution_count": 48,
   "metadata": {
    "collapsed": false,
    "deletable": true,
    "editable": true
   },
   "outputs": [],
   "source": [
    "vol = cube(np.arange(8))"
   ]
  },
  {
   "cell_type": "code",
   "execution_count": 49,
   "metadata": {
    "collapsed": false,
    "deletable": true,
    "editable": true
   },
   "outputs": [
    {
     "data": {
      "text/plain": [
       "array([ 0,  1,  2,  3,  4,  5,  6,  7,  8,  9, 10, 11, 12, 13, 14, 15, 16,\n",
       "       17, 18, 19, 20, 21, 22, 23])"
      ]
     },
     "execution_count": 49,
     "metadata": {},
     "output_type": "execute_result"
    }
   ],
   "source": [
    "a.ravel()"
   ]
  },
  {
   "cell_type": "code",
   "execution_count": 50,
   "metadata": {
    "collapsed": false,
    "deletable": true,
    "editable": true
   },
   "outputs": [
    {
     "data": {
      "text/plain": [
       "array([ 0,  1,  2,  3,  4,  5,  6,  7,  8,  9, 10, 11, 12, 13, 14, 15, 16,\n",
       "       17, 18, 19, 20, 21, 22, 23])"
      ]
     },
     "execution_count": 50,
     "metadata": {},
     "output_type": "execute_result"
    }
   ],
   "source": [
    "b.ravel()"
   ]
  },
  {
   "cell_type": "code",
   "execution_count": null,
   "metadata": {
    "collapsed": true,
    "deletable": true,
    "editable": true
   },
   "outputs": [],
   "source": [
    "\n",
    "    "
   ]
  },
  {
   "cell_type": "code",
   "execution_count": 51,
   "metadata": {
    "collapsed": true,
    "deletable": true,
    "editable": true
   },
   "outputs": [],
   "source": [
    "c = np.arange(2*3*4*5).reshape((2,3,4,5))"
   ]
  },
  {
   "cell_type": "code",
   "execution_count": 52,
   "metadata": {
    "collapsed": false,
    "deletable": true,
    "editable": true
   },
   "outputs": [
    {
     "data": {
      "text/plain": [
       "array([[[ 0,  1,  2,  3,  4],\n",
       "        [ 5,  6,  7,  8,  9],\n",
       "        [10, 11, 12, 13, 14],\n",
       "        [15, 16, 17, 18, 19]],\n",
       "\n",
       "       [[20, 21, 22, 23, 24],\n",
       "        [25, 26, 27, 28, 29],\n",
       "        [30, 31, 32, 33, 34],\n",
       "        [35, 36, 37, 38, 39]],\n",
       "\n",
       "       [[40, 41, 42, 43, 44],\n",
       "        [45, 46, 47, 48, 49],\n",
       "        [50, 51, 52, 53, 54],\n",
       "        [55, 56, 57, 58, 59]]])"
      ]
     },
     "execution_count": 52,
     "metadata": {},
     "output_type": "execute_result"
    }
   ],
   "source": [
    "c[0]"
   ]
  },
  {
   "cell_type": "code",
   "execution_count": 53,
   "metadata": {
    "collapsed": true,
    "deletable": true,
    "editable": true
   },
   "outputs": [],
   "source": [
    "d = c.ravel()"
   ]
  },
  {
   "cell_type": "code",
   "execution_count": 54,
   "metadata": {
    "collapsed": false,
    "deletable": true,
    "editable": true
   },
   "outputs": [
    {
     "name": "stdout",
     "output_type": "stream",
     "text": [
      "77\n",
      "77\n"
     ]
    }
   ],
   "source": [
    "n0, n1, n2, n3 = c.shape\n",
    "\n",
    "x=2\n",
    "y=3\n",
    "z=0\n",
    "æ=1\n",
    "print(d[x + y*n3 + z*n3*n2 + æ*n3*n2*n1])\n",
    "# print(d)\n",
    "print(c[æ, z, y, x])"
   ]
  },
  {
   "cell_type": "code",
   "execution_count": 55,
   "metadata": {
    "collapsed": false,
    "deletable": true,
    "editable": true
   },
   "outputs": [
    {
     "name": "stdout",
     "output_type": "stream",
     "text": [
      "1 3 (5,)\n",
      "2 0 (4, 5)\n",
      "3 1 (3, 4, 5)\n"
     ]
    },
    {
     "data": {
      "text/plain": [
       "77"
      ]
     },
     "execution_count": 55,
     "metadata": {},
     "output_type": "execute_result"
    }
   ],
   "source": [
    "coord_to_ravel_idx(c.shape, (x, y, z, æ))"
   ]
  },
  {
   "cell_type": "code",
   "execution_count": null,
   "metadata": {
    "collapsed": true,
    "deletable": true,
    "editable": true
   },
   "outputs": [],
   "source": []
  },
  {
   "cell_type": "code",
   "execution_count": 56,
   "metadata": {
    "collapsed": false,
    "deletable": true,
    "editable": true
   },
   "outputs": [
    {
     "name": "stdout",
     "output_type": "stream",
     "text": [
      "1 17\n",
      "0 17\n",
      "3 2\n"
     ]
    },
    {
     "data": {
      "text/plain": [
       "([(3, 4, 5), (4, 5), (5,)], [2, 3, 0, 1])"
      ]
     },
     "execution_count": 56,
     "metadata": {},
     "output_type": "execute_result"
    }
   ],
   "source": [
    "ravel_idx_to_coord(c.shape, 77)"
   ]
  },
  {
   "cell_type": "code",
   "execution_count": 57,
   "metadata": {
    "collapsed": false,
    "deletable": true,
    "editable": true
   },
   "outputs": [
    {
     "data": {
      "text/plain": [
       "(1, 17)"
      ]
     },
     "execution_count": 57,
     "metadata": {},
     "output_type": "execute_result"
    }
   ],
   "source": [
    "divmod(77, 60)"
   ]
  },
  {
   "cell_type": "code",
   "execution_count": 37,
   "metadata": {
    "collapsed": false,
    "deletable": true,
    "editable": true
   },
   "outputs": [
    {
     "data": {
      "text/plain": [
       "array([121, 134,  83])"
      ]
     },
     "execution_count": 37,
     "metadata": {},
     "output_type": "execute_result"
    }
   ],
   "source": [
    "np.array(absidx) // 2"
   ]
  },
  {
   "cell_type": "code",
   "execution_count": null,
   "metadata": {
    "collapsed": true,
    "deletable": true,
    "editable": true
   },
   "outputs": [],
   "source": []
  }
 ],
 "metadata": {
  "_change_revision": 7,
  "_is_fork": false,
  "kernelspec": {
   "display_name": "Python 3",
   "language": "python",
   "name": "python3"
  },
  "language_info": {
   "codemirror_mode": {
    "name": "ipython",
    "version": 3
   },
   "file_extension": ".py",
   "mimetype": "text/x-python",
   "name": "python",
   "nbconvert_exporter": "python",
   "pygments_lexer": "ipython3",
   "version": "3.5.2"
  }
 },
 "nbformat": 4,
 "nbformat_minor": 0
}
