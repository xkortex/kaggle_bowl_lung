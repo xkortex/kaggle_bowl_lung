{
 "cells": [
  {
   "cell_type": "code",
   "execution_count": 1,
   "metadata": {
    "collapsed": false
   },
   "outputs": [],
   "source": [
    "%matplotlib inline\n",
    "# magic function to set up inline plotting\n",
    "\n",
    "from __future__ import print_function, division\n",
    "\n",
    "import numpy as np # General number processing\n",
    "import pandas as pd # This will handle our CSV file I/O and sorting\n",
    "import dicom\n",
    "import os # operating system library\n",
    "import glob # for grabbing file paths\n",
    "import scipy.ndimage # for resampling\n",
    "import matplotlib.pyplot as plt # plotting\n",
    "import ipyvolume # 3d plotting\n",
    "\n",
    "\n",
    "import SimpleITK as sitk"
   ]
  },
  {
   "cell_type": "code",
   "execution_count": 61,
   "metadata": {
    "collapsed": true
   },
   "outputs": [],
   "source": [
    "# IO helper functions\n",
    "def gen_get_filename(file_list):\n",
    "    # I based this off of another Kaggle kernel which used global to pass the file_list. I don't like globals, so we are using a closure to craft a custom function. \n",
    "    # For those of you not familiar with closures, they are simpler than they sound. Put simply: Closures are function objects which \"remember\" values.\n",
    "    # This could be considered a specific case of the factory pattern. \n",
    "    def get_filename(uid):\n",
    "        \"\"\"Return the absolute path to a file, given a patient UID\"\"\"\n",
    "        for f in file_list:\n",
    "            if uid in f:\n",
    "                return(f)\n",
    "        return 'not_found'\n",
    "    return get_filename\n",
    "\n",
    "# mhd_file_list\n",
    "\n",
    "def get_filename(uid, file_list=None):\n",
    "    \"\"\"Return the absolute path to a file, given a patient UID\"\"\"\n",
    "    if file_list is None:\n",
    "        raise ValueError('You must specify a list of file paths as a keyword argument')\n",
    "    for f in file_list:\n",
    "        if uid in f:\n",
    "            return(f)\n",
    "    return 'not_found'\n"
   ]
  },
  {
   "cell_type": "code",
   "execution_count": 62,
   "metadata": {
    "collapsed": true
   },
   "outputs": [],
   "source": [
    "# Configure our paths for loading our files and load in some data\n",
    "USER='mike'\n",
    "INPUT_FOLDER = '/media/{}/tera/data/databowl/kgsamples/'.format(USER)\n",
    "luna_path =  '/media/{}/tera/data/databowl/luna/'.format(USER)\n",
    "luna_subset_path = '/media/{}/tera/data/databowl/luna/subset0/'.format(USER)\n",
    "output_path = luna_path + 'output/'\n",
    "mhd_file_list=glob.glob(luna_subset_path+\"*.mhd\")\n",
    "\n",
    "#Generate our filename-getter\n",
    "get_filename_mhd = gen_get_filename(mhd_file_list)"
   ]
  },
  {
   "cell_type": "code",
   "execution_count": 63,
   "metadata": {
    "collapsed": false
   },
   "outputs": [
    {
     "name": "stdout",
     "output_type": "stream",
     "text": [
      "89\n"
     ]
    }
   ],
   "source": [
    "resamp_path = '/media/{}/tera/data/databowl/resampled_images/'.format(USER)\n",
    "resamps = glob.glob(resamp_path + '*.mhd.npy')\n",
    "print(len(resamps))"
   ]
  },
  {
   "cell_type": "code",
   "execution_count": 64,
   "metadata": {
    "_cell_guid": "1d12eab6-3340-fa57-84a1-91fe13886996",
    "collapsed": false,
    "deletable": true,
    "editable": true
   },
   "outputs": [],
   "source": [
    "patients = os.listdir(INPUT_FOLDER)\n",
    "patients.sort()"
   ]
  },
  {
   "cell_type": "code",
   "execution_count": 65,
   "metadata": {
    "collapsed": false
   },
   "outputs": [],
   "source": [
    "# Get the locations of the nodes of the LUNA16 dataset. Connect the filepath with the series UID\n",
    "df_node = pd.read_csv(luna_path+\"annotations.csv\")\n",
    "df_node[\"file\"] = df_node[\"seriesuid\"].apply(get_filename, file_list=mhd_file_list)\n",
    "df_node = df_node.dropna()"
   ]
  },
  {
   "cell_type": "code",
   "execution_count": 66,
   "metadata": {
    "collapsed": false,
    "deletable": true,
    "editable": true
   },
   "outputs": [],
   "source": [
    "\n",
    "\n",
    "#####################\n",
    "#\n",
    "# Helper function to get rows in data frame associated \n",
    "# with each file\n",
    "def get_origin(filepath):\n",
    "    itk_img = sitk.ReadImage(filepath)\n",
    "    origin = np.array(itk_img.GetOrigin())\n",
    "    return origin\n",
    "\n",
    "def coord_to_ary_idx(coord, origin):\n",
    "    coord = np.array(coord)\n",
    "    origin = np.array(origin)\n",
    "    x, y, z = coord - origin\n",
    "    absidx = x, y, z # i have no idea why these things use such crazy indexing. but this will match the numpy slicing dims\n",
    "    print(absidx)\n",
    "    return list(map(int, absidx))\n",
    "\n",
    "def get_fiducial_slice(coord, edgelen=48):\n",
    "    ''' '''\n",
    "    x, y, z = map(int, coord)\n",
    "    m = edgelen // 2\n",
    "    print(x+m, x-m, y+m, y-m, z+m, z-m)\n",
    "    return (x-m, x+m, y-m, y+m, z-m, z+m)\n",
    "    \n",
    "def draw_fiducial_cube(ary_shape, coord, edgelen=48, dtype='int16'):\n",
    "    \n",
    "    ary = np.ones(ary_shape, dtype=dtype)\n",
    "    x0, x1, y0, y1, z0, z1 = get_fiducial_slice(coord, edgelen=edgelen)\n",
    "    ary[:z0] = 0\n",
    "    ary[z1:] = 0\n",
    "    ary[:,:y0] = 0\n",
    "    ary[:,y1:] = 0\n",
    "    ary[:,:,:x0] = 0\n",
    "    ary[:,:,x1:] = 0\n",
    "    print(np.sum(ary))\n",
    "    return ary\n",
    " \n",
    "\n",
    "        \n",
    "# def strip_uid(path):\n",
    "#     fname = os.path.basename(path)\n",
    "#     return fname.strip('.mhd.npy')\n",
    "# #\n"
   ]
  },
  {
   "cell_type": "code",
   "execution_count": 67,
   "metadata": {
    "collapsed": false,
    "deletable": true,
    "editable": true
   },
   "outputs": [
    {
     "data": {
      "text/html": [
       "<div>\n",
       "<table border=\"1\" class=\"dataframe\">\n",
       "  <thead>\n",
       "    <tr style=\"text-align: right;\">\n",
       "      <th></th>\n",
       "      <th>seriesuid</th>\n",
       "      <th>coordX</th>\n",
       "      <th>coordY</th>\n",
       "      <th>coordZ</th>\n",
       "      <th>diameter_mm</th>\n",
       "      <th>file</th>\n",
       "    </tr>\n",
       "  </thead>\n",
       "  <tbody>\n",
       "    <tr>\n",
       "      <th>765</th>\n",
       "      <td>1.3.6.1.4.1.14519.5.2.1.6279.6001.287966244644...</td>\n",
       "      <td>67.827256</td>\n",
       "      <td>85.379925</td>\n",
       "      <td>-109.746724</td>\n",
       "      <td>32.270030</td>\n",
       "      <td>not_found</td>\n",
       "    </tr>\n",
       "    <tr>\n",
       "      <th>34</th>\n",
       "      <td>1.3.6.1.4.1.14519.5.2.1.6279.6001.112740418331...</td>\n",
       "      <td>47.671057</td>\n",
       "      <td>37.642520</td>\n",
       "      <td>-99.890394</td>\n",
       "      <td>30.610406</td>\n",
       "      <td>not_found</td>\n",
       "    </tr>\n",
       "    <tr>\n",
       "      <th>1160</th>\n",
       "      <td>1.3.6.1.4.1.14519.5.2.1.6279.6001.943403138251...</td>\n",
       "      <td>-46.949664</td>\n",
       "      <td>72.636454</td>\n",
       "      <td>-95.644521</td>\n",
       "      <td>27.442423</td>\n",
       "      <td>not_found</td>\n",
       "    </tr>\n",
       "    <tr>\n",
       "      <th>998</th>\n",
       "      <td>1.3.6.1.4.1.14519.5.2.1.6279.6001.481278873893...</td>\n",
       "      <td>-103.132511</td>\n",
       "      <td>-5.774673</td>\n",
       "      <td>-206.355470</td>\n",
       "      <td>27.075443</td>\n",
       "      <td>not_found</td>\n",
       "    </tr>\n",
       "    <tr>\n",
       "      <th>1002</th>\n",
       "      <td>1.3.6.1.4.1.14519.5.2.1.6279.6001.487268565754...</td>\n",
       "      <td>119.208776</td>\n",
       "      <td>11.450374</td>\n",
       "      <td>-165.039862</td>\n",
       "      <td>26.837081</td>\n",
       "      <td>not_found</td>\n",
       "    </tr>\n",
       "  </tbody>\n",
       "</table>\n",
       "</div>"
      ],
      "text/plain": [
       "                                              seriesuid      coordX  \\\n",
       "765   1.3.6.1.4.1.14519.5.2.1.6279.6001.287966244644...   67.827256   \n",
       "34    1.3.6.1.4.1.14519.5.2.1.6279.6001.112740418331...   47.671057   \n",
       "1160  1.3.6.1.4.1.14519.5.2.1.6279.6001.943403138251...  -46.949664   \n",
       "998   1.3.6.1.4.1.14519.5.2.1.6279.6001.481278873893... -103.132511   \n",
       "1002  1.3.6.1.4.1.14519.5.2.1.6279.6001.487268565754...  119.208776   \n",
       "\n",
       "         coordY      coordZ  diameter_mm       file  \n",
       "765   85.379925 -109.746724    32.270030  not_found  \n",
       "34    37.642520  -99.890394    30.610406  not_found  \n",
       "1160  72.636454  -95.644521    27.442423  not_found  \n",
       "998   -5.774673 -206.355470    27.075443  not_found  \n",
       "1002  11.450374 -165.039862    26.837081  not_found  "
      ]
     },
     "execution_count": 67,
     "metadata": {},
     "output_type": "execute_result"
    }
   ],
   "source": [
    "# For dramatic effect, we will look at the largest nodes first\n",
    "dfs = df_node.sort_values(by='diameter_mm', ascending=0)\n",
    "dfs.head()"
   ]
  },
  {
   "cell_type": "code",
   "execution_count": null,
   "metadata": {
    "collapsed": false,
    "deletable": true,
    "editable": true
   },
   "outputs": [],
   "source": [
    "print(len(df_node))\n"
   ]
  },
  {
   "cell_type": "code",
   "execution_count": null,
   "metadata": {
    "collapsed": true,
    "deletable": true,
    "editable": true
   },
   "outputs": [],
   "source": [
    "# Not needed?\n",
    "# uids = [strip_uid(path) for path in resamps]\n",
    "# sum([uid in uids for uid in dfs['seriesuid'].values]) # check if the data is there\n",
    "# sum([dfs['seriesuid'].values[0] in path for path in resamps])"
   ]
  },
  {
   "cell_type": "code",
   "execution_count": null,
   "metadata": {
    "collapsed": false,
    "deletable": true,
    "editable": true
   },
   "outputs": [],
   "source": [
    "biggest = dfs.iloc[3]"
   ]
  },
  {
   "cell_type": "code",
   "execution_count": null,
   "metadata": {
    "collapsed": false,
    "deletable": true,
    "editable": true
   },
   "outputs": [],
   "source": [
    "# mask = np.ones(pix_resampled.shape)\n",
    "# mz, my, mx = pix_resampled.shape\n",
    "# print(mz, my, mx)\n",
    "# mask[140:] = 0\n",
    "# mask[:110] = 0\n",
    "# mask[:,:50] = 0\n",
    "# mask[:,my-50:] = 0\n",
    "# mask[:,:,mx-50:] = 0\n",
    "# mask[:,:,:50] = 0\n",
    "# mask2 = np.less(pix_resampled,1267)\n",
    "# mask3 = np.greater(pix_resampled,400)\n",
    "\n",
    "# ipyvolume.quickvolshow(pix_resampled*mask*mask3, width=1000, height=1000, level=[.26, .3, .85], level_width=[.5, .1, .05])"
   ]
  },
  {
   "cell_type": "code",
   "execution_count": null,
   "metadata": {
    "collapsed": false,
    "deletable": true,
    "editable": true
   },
   "outputs": [],
   "source": [
    "# Grab the resampled numpy array\n",
    "ary = np.load(resamp_path + biggest['seriesuid'] + '.mhd.npy')\n",
    "print(ary.shape, np.amin(ary), np.amax(ary), np.mean(ary))"
   ]
  },
  {
   "cell_type": "code",
   "execution_count": null,
   "metadata": {
    "collapsed": false,
    "deletable": true,
    "editable": true
   },
   "outputs": [],
   "source": [
    "biggest"
   ]
  },
  {
   "cell_type": "code",
   "execution_count": null,
   "metadata": {
    "collapsed": false,
    "deletable": true,
    "editable": true
   },
   "outputs": [],
   "source": [
    "nodeXYZ = biggest['coordX'], biggest['coordY'], biggest['coordZ']\n",
    "nodeXYZ"
   ]
  },
  {
   "cell_type": "code",
   "execution_count": null,
   "metadata": {
    "collapsed": false,
    "deletable": true,
    "editable": true
   },
   "outputs": [],
   "source": [
    "origin = get_origin(luna_subset_path + biggest['seriesuid'] + '.mhd')\n",
    "origin"
   ]
  },
  {
   "cell_type": "code",
   "execution_count": null,
   "metadata": {
    "collapsed": true,
    "deletable": true,
    "editable": true
   },
   "outputs": [],
   "source": [
    "# ary0 = ary - np.amin(ary) + 1"
   ]
  },
  {
   "cell_type": "code",
   "execution_count": null,
   "metadata": {
    "collapsed": false,
    "deletable": true,
    "editable": true
   },
   "outputs": [],
   "source": [
    "# ary2 = ary * (ary < 4000)"
   ]
  },
  {
   "cell_type": "code",
   "execution_count": null,
   "metadata": {
    "collapsed": false,
    "deletable": true,
    "editable": true
   },
   "outputs": [],
   "source": [
    "# mask = ary < -2000\n",
    "# mask = mask * 1800\n",
    "# ary2 = ary + mask\n",
    "# mask.shape, np.mean(mask)"
   ]
  },
  {
   "cell_type": "code",
   "execution_count": null,
   "metadata": {
    "collapsed": false,
    "deletable": true,
    "editable": true
   },
   "outputs": [],
   "source": [
    "# ary2.shape, np.mean(ary2)"
   ]
  },
  {
   "cell_type": "code",
   "execution_count": null,
   "metadata": {
    "collapsed": false,
    "deletable": true,
    "editable": true
   },
   "outputs": [],
   "source": [
    "plt.hist(ary.flatten(), bins=80, color='c')\n",
    "plt.xlabel(\"Pseudo-Hounsfield Units (HU)\")\n",
    "plt.ylabel(\"Frequency\")\n",
    "plt.show()"
   ]
  },
  {
   "cell_type": "code",
   "execution_count": null,
   "metadata": {
    "collapsed": false,
    "deletable": true,
    "editable": true
   },
   "outputs": [],
   "source": [
    "img = np.array(ary2[180])\n",
    "img[:20] = 0 # [z0:z1, y1:y0, x1:x0]\n",
    "plt.imshow(img)\n",
    "plt.colorbar()"
   ]
  },
  {
   "cell_type": "code",
   "execution_count": null,
   "metadata": {
    "collapsed": false,
    "deletable": true,
    "editable": true
   },
   "outputs": [],
   "source": [
    "plt.plot(ary2[50][100])"
   ]
  },
  {
   "cell_type": "code",
   "execution_count": null,
   "metadata": {
    "collapsed": false,
    "deletable": true,
    "editable": true
   },
   "outputs": [],
   "source": [
    "absidx = coord_to_ary_idx(nodeXYZ, origin)\n",
    "absidx"
   ]
  },
  {
   "cell_type": "code",
   "execution_count": null,
   "metadata": {
    "collapsed": false,
    "deletable": true,
    "editable": true
   },
   "outputs": [],
   "source": [
    "# fid = draw_fiducial_cube(ary.shape, nodeXYZ, 20)\n",
    "# nporig = draw_fiducial_cube(ary.shape, (25,25,25))\n",
    "tumor = draw_fiducial_cube(ary.shape, absidx, 30)"
   ]
  },
  {
   "cell_type": "code",
   "execution_count": null,
   "metadata": {
    "collapsed": false,
    "deletable": true,
    "editable": true
   },
   "outputs": [],
   "source": [
    "TUMOR_BOOST=5000\n",
    "vol = np.array(ary0, dtype=np.int16) \n",
    "vol += TUMOR_BOOST*tumor\n",
    "# vol = np.array(vol, dtype=np.int16)\n",
    "print(type(vol))\n",
    "print(vol.shape, vol.dtype)"
   ]
  },
  {
   "cell_type": "code",
   "execution_count": null,
   "metadata": {
    "collapsed": false,
    "deletable": true,
    "editable": true
   },
   "outputs": [],
   "source": [
    "plt.figure(figsize=(8,8))\n",
    "plt.imshow(vol[absidx[2]])"
   ]
  },
  {
   "cell_type": "code",
   "execution_count": null,
   "metadata": {
    "collapsed": true
   },
   "outputs": [],
   "source": [
    "assert 0"
   ]
  },
  {
   "cell_type": "code",
   "execution_count": null,
   "metadata": {
    "collapsed": false,
    "deletable": true,
    "editable": true
   },
   "outputs": [],
   "source": [
    "ipyvolume.quickvolshow(-vol[50:-50], width=1000, height=1000, level=[.12, .41, .57], opacity=[.01, .02, .01], level_width=[.05, .1, .05])"
   ]
  },
  {
   "cell_type": "code",
   "execution_count": null,
   "metadata": {
    "collapsed": false,
    "deletable": true,
    "editable": true
   },
   "outputs": [],
   "source": [
    "ary[50][0][0]"
   ]
  },
  {
   "cell_type": "code",
   "execution_count": null,
   "metadata": {
    "collapsed": true,
    "deletable": true,
    "editable": true
   },
   "outputs": [],
   "source": [
    "assert 0"
   ]
  },
  {
   "cell_type": "code",
   "execution_count": null,
   "metadata": {
    "collapsed": false,
    "deletable": true,
    "editable": true
   },
   "outputs": [],
   "source": [
    "ipyvolume.quickvolshow(ary, width=1000, height=1000, level=[.12, .41, .57], opacity=[.01, .02, .01], level_width=[.5, .1, .05])"
   ]
  },
  {
   "cell_type": "code",
   "execution_count": null,
   "metadata": {
    "collapsed": false,
    "deletable": true,
    "editable": true
   },
   "outputs": [],
   "source": [
    "mask = np.ones(ary.shape)\n",
    "mask[180:] = 0\n",
    "ipyvolume.quickvolshow(ary0*mask, width=1000, height=1000, level=[.12, .41, .57], opacity=[.01, .02, .01], level_width=[.5, .1, .05])"
   ]
  },
  {
   "cell_type": "code",
   "execution_count": null,
   "metadata": {
    "collapsed": false,
    "deletable": true,
    "editable": true
   },
   "outputs": [],
   "source": [
    "np.amin(ary), np.amax(ary)"
   ]
  },
  {
   "cell_type": "code",
   "execution_count": null,
   "metadata": {
    "collapsed": true,
    "deletable": true,
    "editable": true
   },
   "outputs": [],
   "source": []
  }
 ],
 "metadata": {
  "_change_revision": 7,
  "_is_fork": false,
  "kernelspec": {
   "display_name": "Python 3",
   "language": "python",
   "name": "python3"
  },
  "language_info": {
   "codemirror_mode": {
    "name": "ipython",
    "version": 3
   },
   "file_extension": ".py",
   "mimetype": "text/x-python",
   "name": "python",
   "nbconvert_exporter": "python",
   "pygments_lexer": "ipython3",
   "version": "3.5.2"
  }
 },
 "nbformat": 4,
 "nbformat_minor": 0
}
