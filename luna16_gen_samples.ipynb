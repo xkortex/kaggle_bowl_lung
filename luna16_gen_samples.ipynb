{
 "cells": [
  {
   "cell_type": "code",
   "execution_count": 3,
   "metadata": {
    "_cell_guid": "1d12eab6-3340-fa57-84a1-91fe13886996",
    "collapsed": false,
    "deletable": true,
    "editable": true
   },
   "outputs": [],
   "source": [
    "%matplotlib inline\n",
    "\n",
    "import numpy as np # linear algebra\n",
    "import pandas as pd # data processing, CSV file I/O (e.g. pd.read_csv)\n",
    "import dicom\n",
    "import os\n",
    "import glob\n",
    "import scipy.ndimage\n",
    "import matplotlib.pyplot as plt\n",
    "import ipyvolume\n",
    "\n",
    "from tqdm import tqdm, trange\n",
    "\n",
    "import SimpleITK as sitk\n",
    "from skimage import measure, morphology\n",
    "from mpl_toolkits.mplot3d.art3d import Poly3DCollection\n",
    "\n"
   ]
  },
  {
   "cell_type": "code",
   "execution_count": 4,
   "metadata": {
    "collapsed": false,
    "deletable": true,
    "editable": true
   },
   "outputs": [],
   "source": [
    "\n",
    "\n",
    "#####################\n",
    "#\n",
    "# Helper function to get rows in data frame associated \n",
    "# with each file\n",
    "\n",
    "def get_origin(filepath):\n",
    "    \"\"\"Get the origin coordinates from a ITK file\"\"\"\n",
    "    itk_img = sitk.ReadImage(filepath)        \n",
    "    origin = np.array(itk_img.GetOrigin())\n",
    "    return origin\n",
    "\n",
    "def coord_to_ary_idx(coord, origin, verbose=False):\n",
    "    \"\"\"Hackish helper function to convert the coordinate (from dicom/luna) and origin to numpy indicies\"\"\"\n",
    "    coord = np.array(coord)\n",
    "    origin = np.array(origin)\n",
    "    x, y, z = coord - origin\n",
    "    absidx = x, y, z # i have no idea why these things use such crazy indexing. but this will match the numpy slicing dims\n",
    "    if verbose:\n",
    "        print('Absolute index: {}'.format(absidx))\n",
    "    return list(map(int, absidx))\n",
    "\n",
    "def get_fiducial_slice(coord, edgelen=48):\n",
    "    ''' Gets the slicing indicies given a coordinate and edge length of a cube '''\n",
    "    x, y, z = map(int, coord)\n",
    "    m = edgelen // 2\n",
    "    print(x+m, x-m, y+m, y-m, z+m, z-m)\n",
    "    return (x-m, x+m, y-m, y+m, z-m, z+m)\n",
    "    \n",
    "def draw_fiducial_cube(ary_shape, coord, edgelen=48, dtype='int16'):\n",
    "    \"\"\"Draw a cube of size (E,E,E) located at coord, in a volume of shape ary_shape\"\"\"\n",
    "    ary = np.ones(ary_shape, dtype=dtype)\n",
    "    x0, x1, y0, y1, z0, z1 = get_fiducial_slice(coord, edgelen=edgelen)\n",
    "    ary[:z0] = 0\n",
    "    ary[z1:] = 0\n",
    "    ary[:,:y0] = 0\n",
    "    ary[:,y1:] = 0\n",
    "    ary[:,:,:x0] = 0\n",
    "    ary[:,:,x1:] = 0\n",
    "    print(np.sum(ary))\n",
    "    return ary\n",
    " \n",
    "def get_filename(case):\n",
    "    \"\"\"Get the filepath from the UID\"\"\"\n",
    "    global file_list # gross, yet effective...\n",
    "    for f in file_list:\n",
    "        if case in f:\n",
    "            return(f)\n",
    "        \n",
    "def strip_uid(path):\n",
    "    \"\"\"Helper to convert path to UID\"\"\"\n",
    "    fname = os.path.basename(path)\n",
    "    return fname.strip('.mhd.npy')"
   ]
  },
  {
   "cell_type": "code",
   "execution_count": 5,
   "metadata": {
    "collapsed": true,
    "deletable": true,
    "editable": true
   },
   "outputs": [],
   "source": [
    "def padcrop_vol(vol, newshape=[360, 360, 360], padtype='symmetric', value='origin'):\n",
    "    \"\"\"Pads and crops a volume in order to match the new shape. \n",
    "        padtype: {symmetric, origin} - pad symmetrically (on both sides) or only pad from the far index.\"\"\"\n",
    "    \n",
    "    vol2 = np.array(vol)\n",
    "    shape = vol.shape\n",
    "    z, y, x = shape\n",
    "    mids = [d // 2 for d in shape]\n",
    "    if value == 'origin':\n",
    "        constant_values = vol[0,0,0]\n",
    "        print('Origin: ', constant_values)\n",
    "    else:\n",
    "        try:\n",
    "            constant_values = float(value)\n",
    "        except ValueError:\n",
    "            raise ValueError('Invalid parameter \"value\" specified. Cannot coerce to symbol type or float')\n",
    "        \n",
    "    \n",
    "    for dim in range(3):\n",
    "        if shape[dim] < newshape[dim]:\n",
    "            pad_amt = (newshape[dim] - shape[dim]) // 2\n",
    "            parity = (shape[dim] & 1) ^ (newshape[dim] & 1)\n",
    "            if padtype[:3] == 'sym':\n",
    "                pad_tup = (pad_amt, pad_amt + parity) # \n",
    "            elif padtype[:3] == 'ori':\n",
    "                pad_tup = (0, pad_amt + pad_amt + parity) \n",
    "            else:\n",
    "                raise ValueError('Must specify valid padding mode: {\"symmetric\", \"origin\"}')\n",
    "            pad_list = [(0,0), (0,0), (0,0)]\n",
    "            pad_list[dim] = pad_tup\n",
    "            vol2 = np.pad(vol2, pad_list, mode='constant', constant_values=constant_values)\n",
    "        if shape[dim] > newshape[dim]:\n",
    "            if  padtype[:3] != 'sym':\n",
    "                raise NotImplementedError('Have not built this feature yet. Crop should be able to handle symmetric or origin')\n",
    "            slc_amt = (shape[dim] - newshape[dim]) // 2\n",
    "            parity = (shape[dim] & 1) ^ (newshape[dim] & 1)\n",
    "            slc_tup = (slc_amt, shape[dim] - slc_amt - parity) # \n",
    "            null1, vol2, null2 = np.split(vol2, slc_tup, dim)\n",
    "\n",
    "    return vol2\n",
    "\n",
    "def subsect(a, edge_length=48, stride=0.5, serialize=True, verbose=False):\n",
    "    '''Take a volume and chop it up to equal sized volumes of side edge_length. \n",
    "        serialize: if true, return an (N, E, E, E) dim array, E=edge, if false, return (M,N,P,E,E,E) dim array, where M, N, and P are the coordinates of the subsections in space'''\n",
    "    nx, ny, nz = a.shape\n",
    "    new_idx = [(nn // edge_length) if (nn%edge_length)==0 else (nn// edge_length)+1 for nn in a.shape ] # deal with the edge case of evenly divisible dim length\n",
    "    if verbose: \n",
    "        print('New indicies: {}'.format(new_idx))\n",
    "    new_shape = [edge_length*idx for idx in new_idx]\n",
    "    a2 = padcrop_vol(a, newshape=new_shape)\n",
    "    b = np.array(np.split(a2, new_idx[0], axis=0))\n",
    "    b = np.array(np.split(b, new_idx[1], axis=2))\n",
    "    b = np.array(np.split(b, new_idx[2], axis=4))\n",
    "    if serialize:\n",
    "        b = np.reshape(b, (-1, edge_length, edge_length, edge_length))\n",
    "\n",
    "    return b, new_idx\n",
    "\n",
    "def subslice(a, coord, edge_length=48, order='zyx'):\n",
    "    '''Take a volume and return a cube of side edge_length, centered at coord. '''\n",
    "    assert len(coord) == 3, 'Must be a 3d dimension array-like'\n",
    "    m = edge_length // 2\n",
    "    if order == 'zyx':\n",
    "        z, y, x = coord\n",
    "    else:\n",
    "        x, y, z = coord\n",
    "    return a[x-m:x+m, y-m:y+m, z-m:z+m]\n",
    "\n",
    "def cube(a):\n",
    "    '''Reshape an array into a cubic shape'''\n",
    "    n = a.shape[0]\n",
    "    d = np.around(n**(1/3))\n",
    "    d = int(d)\n",
    "    assert d**3 == n, 'Dimensions are not an even cube!'\n",
    "    return a.reshape((d,d,d))\n",
    "\n",
    "def random_subslice(a, edge_length=48, order='zyx', returnCoord=False):\n",
    "    m = edge_length // 2\n",
    "    T, U, V = a.shape\n",
    "    t = np.random.randint(m, T-m)\n",
    "    u = np.random.randint(m, U-m)\n",
    "    v = np.random.randint(m, V-m)\n",
    "    subvol = subslice(a, (t,u,v), edge_length=edge_length, order=order)\n",
    "    if returnCoord:\n",
    "        return subvol, (t,u,v)\n",
    "    return subvol\n",
    "\n",
    "\n",
    "\n",
    "def safe_random_subslice(a, coord, rad=48, edge_length=48, order='zyx', returnCoord=False):\n",
    "    \"\"\"Deliberately avoid a volume too close to a known coordinate (e.g. tumor)\"\"\"\n",
    "    m = edge_length // 2\n",
    "    T, U, V = a.shape\n",
    "    t,u,v = coord # deliberately start with the loop condition\n",
    "    newcoord = (t,u,v)\n",
    "    while sum([(a-b)**2 for (a,b) in zip(coord, newcoord)])**0.5 < rad:\n",
    "        t = np.random.randint(m, T-m)\n",
    "        u = np.random.randint(m, U-m)\n",
    "        v = np.random.randint(m, V-m)\n",
    "        newcoord = (t,u,v)\n",
    "        \n",
    "    subvol = subslice(a, (t,u,v), edge_length=edge_length, order=order)\n",
    "    if returnCoord:\n",
    "        return subvol, (t,u,v)\n",
    "    return subvol\n",
    "\n",
    "    "
   ]
  },
  {
   "cell_type": "code",
   "execution_count": 6,
   "metadata": {
    "collapsed": true,
    "deletable": true,
    "editable": true
   },
   "outputs": [],
   "source": [
    "def coord_to_ravel_idx3(shape, xyz, order='zyx'):\n",
    "    '''3D specific version. Takes a coordinate (as x y z index notation) and returns the absolute (raveled) single number index\n",
    "    order: {'xyz', 'zyx'}\n",
    "    '''\n",
    "    n0, n1, n2 = shape\n",
    "    if order == 'zyx':\n",
    "        z, y, x = xyz\n",
    "    else:\n",
    "        x, y, z = xyz\n",
    "    idx = z*n2*n1 + y*n2 + x\n",
    "    return idx\n",
    "\n",
    "def coord_to_ravel_idx(shape, coord):\n",
    "    '''Takes a coordinate (as x y z index notation) and returns the absolute (raveled) single number index'''\n",
    "\n",
    "    assert len(shape) == len(coord), 'Must have matching dimension'\n",
    "    N = len(shape)\n",
    "    idx = coord[0]\n",
    "    for i in range(1, N):\n",
    "        idx += coord[i]*np.prod(shape[N-i:])\n",
    "        print(i, coord[i], shape[N-i:])\n",
    "    \n",
    "    return idx\n",
    "\n",
    "def ravel_idx_to_coord(shape, idx):\n",
    "    '''Given a shape and the absolute index, return the x y z coordinate index'''\n",
    "    N = len(shape)\n",
    "    coefs = []\n",
    "    coords = []\n",
    "    r = idx\n",
    "    for i in range(N-1, 0, -1):\n",
    "        coef = shape[N-i:]\n",
    "        coefs.append(coef)\n",
    "        q, r = divmod(r, np.prod(coef))\n",
    "        coords.append(q)\n",
    "        print(q,r)\n",
    "    coords.append(r)\n",
    "    coords.reverse()\n",
    "    \n",
    "    return coefs, coords\n",
    "\n",
    "def coord_to_subcoord(subshape, coord):\n",
    "    '''Gives the sub-cube 3d index for a subsected volume'''\n",
    "    new_idx = []\n",
    "    new_subcoord = []\n",
    "    for i in range(3):\n",
    "        q, r = divmod(coord[i], subshape[i])\n",
    "        new_idx.append(q)\n",
    "        new_subcoord.append(r)\n",
    "    return new_idx, new_subcoord\n"
   ]
  },
  {
   "cell_type": "code",
   "execution_count": 7,
   "metadata": {
    "collapsed": true,
    "deletable": true,
    "editable": true
   },
   "outputs": [],
   "source": [
    "def look_for_mhd(luna_path, uid):\n",
    "    \"\"\" Holy nasty hack, Batman!\"\"\"\n",
    "    for i in range(10):\n",
    "        path = luna_path + '/subset{}/'.format(i) + uid + '.mhd'\n",
    "        q = os.path.exists(path)\n",
    "        if q:\n",
    "            return path\n",
    "    raise FileNotFoundError('Cannot find file in any subset: {}/subsetX/{}'.format(luna_path, uid))\n",
    "\n",
    "def get_tumor_volume_from_row(row, luna_path, resamp_path, edgelength=48, verbose=False):\n",
    "#     row = df.iloc[idx]\n",
    "    nx, ny, nz = row['coordX'], row['coordY'], row['coordZ']\n",
    "    path = look_for_mhd(luna_path, row['seriesuid'])\n",
    "    origin = get_origin(path)\n",
    "    absidx = coord_to_ary_idx((nx, ny, nz), origin)\n",
    "    vol = np.load(resamp_path + row['seriesuid'] + '.mhd.npy')\n",
    "    subvol = subslice(vol, absidx, edge_length=edgelength)\n",
    "    if verbose:\n",
    "        print('Origin: {}'.format(origin))\n",
    "        print('Abs Index: {}'.format(absidx))\n",
    "        print('Vol shape: {}'.format(vol.shape))\n",
    "    return subvol\n",
    "\n",
    "def get_multi_volume_from_row(row, luna_path,  resamp_path, k=4, edgelength=48, verbose=False):\n",
    "#     row = df.iloc[idx]\n",
    "    nx, ny, nz = row['coordX'], row['coordY'], row['coordZ']\n",
    "    path = look_for_mhd(luna_path, row['seriesuid'])\n",
    "    origin = get_origin(path)\n",
    "    absidx = coord_to_ary_idx((nx, ny, nz), origin)\n",
    "    vol = np.load(resamp_path + row['seriesuid'] + '.mhd.npy')\n",
    "    subvol = subslice(vol, absidx, edge_length=edgelength)\n",
    "    if verbose:\n",
    "        print('Origin: {}'.format(origin))\n",
    "        print('Abs Index: {}'.format(absidx))\n",
    "        print('Vol shape: {}'.format(vol.shape))\n",
    "        \n",
    "    negs = []\n",
    "    for i in range(k):\n",
    "        rv = safe_random_subslice(vol, absidx)\n",
    "        negs.append(rv)\n",
    "    return subvol, negs\n",
    "\n",
    "def get_tumor_randseries_from_row(row, luna_subset_path,  resamp_path, edgelength=48, nsamp=20, ratio=0.3, verbose=False):\n",
    "    \"\"\"Get a bunch of frames from the tumor region\"\"\"\n",
    "#     row = df.iloc[idx]\n",
    "    nx, ny, nz = row['coordX'], row['coordY'], row['coordZ']\n",
    "    path = look_for_mhd(luna_path, row['seriesuid'])\n",
    "    origin = get_origin(path)\n",
    "    absidx = coord_to_ary_idx((nx, ny, nz), origin)\n",
    "    vol = np.load(resamp_path + row['seriesuid'] + '.mhd.npy')\n",
    "    m = int(edgelength * ratio)\n",
    "    subvols = []\n",
    "    for i in range(nsamp):\n",
    "        offset = np.random.randint(0, m, 3)\n",
    "        subvol = subslice(vol, absidx + offset, edge_length=edgelength)\n",
    "        if subvol.shape == (edgelength, edgelength, edgelength):\n",
    "            subvols.append(subvol)\n",
    "        if verbose:\n",
    "            print('Origin: {}'.format(origin))\n",
    "            print('Abs Index: {}'.format(absidx))\n",
    "            print('Vol shape: {}'.format(vol.shape))\n",
    "    return subvols\n",
    "\n"
   ]
  },
  {
   "cell_type": "code",
   "execution_count": 12,
   "metadata": {
    "collapsed": false,
    "deletable": true,
    "editable": true
   },
   "outputs": [
    {
     "name": "stdout",
     "output_type": "stream",
     "text": [
      "# of files:  178\n",
      "# of resamps: 118\n"
     ]
    }
   ],
   "source": [
    "# Some constants \n",
    "drive='tera'\n",
    "subfolder='bowl17'\n",
    "# INPUT_FOLDER = '/media/mike/{}/data/{}/kgsamples/'.format(drive, subfolder)\n",
    "# patients = os.listdir(INPUT_FOLDER)\n",
    "# patients.sort()\n",
    "\n",
    "file_list = []\n",
    "luna_path =  '/media/mike/{}/data/{}/luna/'.format(drive, subfolder)\n",
    "output_path = luna_path + 'output/'\n",
    "\n",
    "for i in range(10):\n",
    "    luna_subset_path = '/media/mike/{}/data/{}/luna/subset{}/'.format(drive, subfolder, i)\n",
    "    files=glob.glob(luna_subset_path+\"*.mhd\")\n",
    "    file_list += files\n",
    "\n",
    "resamp_path = '/media/mike/{}/data/{}/resampled_images/'.format(drive, subfolder)\n",
    "resamps = glob.glob(resamp_path + '*.mhd.npy')\n",
    "\n",
    "print('# of files: ', len(file_list))\n",
    "print('# of resamps:', len(resamps))"
   ]
  },
  {
   "cell_type": "code",
   "execution_count": 13,
   "metadata": {
    "collapsed": false,
    "deletable": true,
    "editable": true
   },
   "outputs": [
    {
     "name": "stdout",
     "output_type": "stream",
     "text": [
      "Number of annotations: 1186\n",
      "Len df_node: 240\n"
     ]
    }
   ],
   "source": [
    "#\n",
    "# The locations of the nodes\n",
    "df_node = pd.read_csv(luna_path+\"annotations.csv\")\n",
    "print('Number of annotations:', len(df_node))\n",
    "df_node[\"file\"] = df_node[\"seriesuid\"].apply(get_filename)\n",
    "df_node = df_node.dropna()\n",
    "print('Len df_node:', len(df_node))"
   ]
  },
  {
   "cell_type": "code",
   "execution_count": 14,
   "metadata": {
    "collapsed": false,
    "deletable": true,
    "editable": true
   },
   "outputs": [
    {
     "data": {
      "text/html": [
       "<div>\n",
       "<table border=\"1\" class=\"dataframe\">\n",
       "  <thead>\n",
       "    <tr style=\"text-align: right;\">\n",
       "      <th></th>\n",
       "      <th>seriesuid</th>\n",
       "      <th>coordX</th>\n",
       "      <th>coordY</th>\n",
       "      <th>coordZ</th>\n",
       "      <th>diameter_mm</th>\n",
       "      <th>file</th>\n",
       "    </tr>\n",
       "  </thead>\n",
       "  <tbody>\n",
       "    <tr>\n",
       "      <th>765</th>\n",
       "      <td>1.3.6.1.4.1.14519.5.2.1.6279.6001.287966244644...</td>\n",
       "      <td>67.827256</td>\n",
       "      <td>85.379925</td>\n",
       "      <td>-109.746724</td>\n",
       "      <td>32.270030</td>\n",
       "      <td>/media/mike/tera/data/bowl17/luna/subset1/1.3....</td>\n",
       "    </tr>\n",
       "    <tr>\n",
       "      <th>1011</th>\n",
       "      <td>1.3.6.1.4.1.14519.5.2.1.6279.6001.511347030803...</td>\n",
       "      <td>60.775061</td>\n",
       "      <td>74.123970</td>\n",
       "      <td>-214.782347</td>\n",
       "      <td>25.233202</td>\n",
       "      <td>/media/mike/tera/data/bowl17/luna/subset0/1.3....</td>\n",
       "    </tr>\n",
       "    <tr>\n",
       "      <th>306</th>\n",
       "      <td>1.3.6.1.4.1.14519.5.2.1.6279.6001.179049373636...</td>\n",
       "      <td>56.208405</td>\n",
       "      <td>86.343413</td>\n",
       "      <td>-115.867579</td>\n",
       "      <td>23.350644</td>\n",
       "      <td>/media/mike/tera/data/bowl17/luna/subset1/1.3....</td>\n",
       "    </tr>\n",
       "    <tr>\n",
       "      <th>842</th>\n",
       "      <td>1.3.6.1.4.1.14519.5.2.1.6279.6001.306948744223...</td>\n",
       "      <td>117.153063</td>\n",
       "      <td>-1.520033</td>\n",
       "      <td>-208.726118</td>\n",
       "      <td>21.677494</td>\n",
       "      <td>/media/mike/tera/data/bowl17/luna/subset1/1.3....</td>\n",
       "    </tr>\n",
       "    <tr>\n",
       "      <th>1141</th>\n",
       "      <td>1.3.6.1.4.1.14519.5.2.1.6279.6001.905371958588...</td>\n",
       "      <td>109.116637</td>\n",
       "      <td>48.589511</td>\n",
       "      <td>-120.892058</td>\n",
       "      <td>21.583112</td>\n",
       "      <td>/media/mike/tera/data/bowl17/luna/subset0/1.3....</td>\n",
       "    </tr>\n",
       "  </tbody>\n",
       "</table>\n",
       "</div>"
      ],
      "text/plain": [
       "                                              seriesuid      coordX  \\\n",
       "765   1.3.6.1.4.1.14519.5.2.1.6279.6001.287966244644...   67.827256   \n",
       "1011  1.3.6.1.4.1.14519.5.2.1.6279.6001.511347030803...   60.775061   \n",
       "306   1.3.6.1.4.1.14519.5.2.1.6279.6001.179049373636...   56.208405   \n",
       "842   1.3.6.1.4.1.14519.5.2.1.6279.6001.306948744223...  117.153063   \n",
       "1141  1.3.6.1.4.1.14519.5.2.1.6279.6001.905371958588...  109.116637   \n",
       "\n",
       "         coordY      coordZ  diameter_mm  \\\n",
       "765   85.379925 -109.746724    32.270030   \n",
       "1011  74.123970 -214.782347    25.233202   \n",
       "306   86.343413 -115.867579    23.350644   \n",
       "842   -1.520033 -208.726118    21.677494   \n",
       "1141  48.589511 -120.892058    21.583112   \n",
       "\n",
       "                                                   file  \n",
       "765   /media/mike/tera/data/bowl17/luna/subset1/1.3....  \n",
       "1011  /media/mike/tera/data/bowl17/luna/subset0/1.3....  \n",
       "306   /media/mike/tera/data/bowl17/luna/subset1/1.3....  \n",
       "842   /media/mike/tera/data/bowl17/luna/subset1/1.3....  \n",
       "1141  /media/mike/tera/data/bowl17/luna/subset0/1.3....  "
      ]
     },
     "execution_count": 14,
     "metadata": {},
     "output_type": "execute_result"
    }
   ],
   "source": [
    "dfs = df_node.sort_values(by='diameter_mm', ascending=0)\n",
    "dfs.head()"
   ]
  },
  {
   "cell_type": "code",
   "execution_count": 15,
   "metadata": {
    "collapsed": false,
    "deletable": true,
    "editable": true,
    "scrolled": true
   },
   "outputs": [
    {
     "name": "stderr",
     "output_type": "stream",
     "text": [
      " 70%|███████   | 70/100 [01:12<00:15,  1.89it/s]"
     ]
    },
    {
     "ename": "FileNotFoundError",
     "evalue": "[Errno 2] No such file or directory: '/media/mike/tera/data/bowl17/resampled_images/1.3.6.1.4.1.14519.5.2.1.6279.6001.193808128386712859512130599234.mhd.npy'",
     "output_type": "error",
     "traceback": [
      "\u001b[0;31m---------------------------------------------------------------------------\u001b[0m",
      "\u001b[0;31mFileNotFoundError\u001b[0m                         Traceback (most recent call last)",
      "\u001b[0;32m<ipython-input-15-f4c9a9687562>\u001b[0m in \u001b[0;36m<module>\u001b[0;34m()\u001b[0m\n\u001b[1;32m      7\u001b[0m     \u001b[0;32mfor\u001b[0m \u001b[0mi\u001b[0m \u001b[0;32min\u001b[0m \u001b[0mtrange\u001b[0m\u001b[0;34m(\u001b[0m\u001b[0mj\u001b[0m\u001b[0;34m*\u001b[0m\u001b[0mK\u001b[0m\u001b[0;34m,\u001b[0m \u001b[0;34m(\u001b[0m\u001b[0mj\u001b[0m\u001b[0;34m+\u001b[0m\u001b[0;36m1\u001b[0m\u001b[0;34m)\u001b[0m\u001b[0;34m*\u001b[0m\u001b[0mK\u001b[0m\u001b[0;34m)\u001b[0m\u001b[0;34m:\u001b[0m\u001b[0;34m\u001b[0m\u001b[0m\n\u001b[1;32m      8\u001b[0m         \u001b[0;32mtry\u001b[0m\u001b[0;34m:\u001b[0m\u001b[0;34m\u001b[0m\u001b[0m\n\u001b[0;32m----> 9\u001b[0;31m             \u001b[0mvv\u001b[0m\u001b[0;34m,\u001b[0m \u001b[0mnegs\u001b[0m \u001b[0;34m=\u001b[0m \u001b[0mget_multi_volume_from_row\u001b[0m\u001b[0;34m(\u001b[0m\u001b[0mdf_node\u001b[0m\u001b[0;34m.\u001b[0m\u001b[0miloc\u001b[0m\u001b[0;34m[\u001b[0m\u001b[0mi\u001b[0m\u001b[0;34m]\u001b[0m\u001b[0;34m,\u001b[0m \u001b[0mluna_path\u001b[0m\u001b[0;34m,\u001b[0m \u001b[0mresamp_path\u001b[0m\u001b[0;34m)\u001b[0m\u001b[0;34m\u001b[0m\u001b[0m\n\u001b[0m\u001b[1;32m     10\u001b[0m             \u001b[0;32mif\u001b[0m \u001b[0mvv\u001b[0m\u001b[0;34m.\u001b[0m\u001b[0mshape\u001b[0m \u001b[0;34m==\u001b[0m \u001b[0;34m(\u001b[0m\u001b[0;36m48\u001b[0m\u001b[0;34m,\u001b[0m\u001b[0;36m48\u001b[0m\u001b[0;34m,\u001b[0m\u001b[0;36m48\u001b[0m\u001b[0;34m)\u001b[0m\u001b[0;34m:\u001b[0m\u001b[0;34m\u001b[0m\u001b[0m\n\u001b[1;32m     11\u001b[0m                 \u001b[0mtumor_volumes\u001b[0m\u001b[0;34m.\u001b[0m\u001b[0mappend\u001b[0m\u001b[0;34m(\u001b[0m\u001b[0mvv\u001b[0m\u001b[0;34m)\u001b[0m\u001b[0;34m\u001b[0m\u001b[0m\n",
      "\u001b[0;32m<ipython-input-7-686f93c70ed9>\u001b[0m in \u001b[0;36mget_multi_volume_from_row\u001b[0;34m(row, luna_path, resamp_path, k, edgelength, verbose)\u001b[0m\n\u001b[1;32m     28\u001b[0m     \u001b[0morigin\u001b[0m \u001b[0;34m=\u001b[0m \u001b[0mget_origin\u001b[0m\u001b[0;34m(\u001b[0m\u001b[0mpath\u001b[0m\u001b[0;34m)\u001b[0m\u001b[0;34m\u001b[0m\u001b[0m\n\u001b[1;32m     29\u001b[0m     \u001b[0mabsidx\u001b[0m \u001b[0;34m=\u001b[0m \u001b[0mcoord_to_ary_idx\u001b[0m\u001b[0;34m(\u001b[0m\u001b[0;34m(\u001b[0m\u001b[0mnx\u001b[0m\u001b[0;34m,\u001b[0m \u001b[0mny\u001b[0m\u001b[0;34m,\u001b[0m \u001b[0mnz\u001b[0m\u001b[0;34m)\u001b[0m\u001b[0;34m,\u001b[0m \u001b[0morigin\u001b[0m\u001b[0;34m)\u001b[0m\u001b[0;34m\u001b[0m\u001b[0m\n\u001b[0;32m---> 30\u001b[0;31m     \u001b[0mvol\u001b[0m \u001b[0;34m=\u001b[0m \u001b[0mnp\u001b[0m\u001b[0;34m.\u001b[0m\u001b[0mload\u001b[0m\u001b[0;34m(\u001b[0m\u001b[0mresamp_path\u001b[0m \u001b[0;34m+\u001b[0m \u001b[0mrow\u001b[0m\u001b[0;34m[\u001b[0m\u001b[0;34m'seriesuid'\u001b[0m\u001b[0;34m]\u001b[0m \u001b[0;34m+\u001b[0m \u001b[0;34m'.mhd.npy'\u001b[0m\u001b[0;34m)\u001b[0m\u001b[0;34m\u001b[0m\u001b[0m\n\u001b[0m\u001b[1;32m     31\u001b[0m     \u001b[0msubvol\u001b[0m \u001b[0;34m=\u001b[0m \u001b[0msubslice\u001b[0m\u001b[0;34m(\u001b[0m\u001b[0mvol\u001b[0m\u001b[0;34m,\u001b[0m \u001b[0mabsidx\u001b[0m\u001b[0;34m,\u001b[0m \u001b[0medge_length\u001b[0m\u001b[0;34m=\u001b[0m\u001b[0medgelength\u001b[0m\u001b[0;34m)\u001b[0m\u001b[0;34m\u001b[0m\u001b[0m\n\u001b[1;32m     32\u001b[0m     \u001b[0;32mif\u001b[0m \u001b[0mverbose\u001b[0m\u001b[0;34m:\u001b[0m\u001b[0;34m\u001b[0m\u001b[0m\n",
      "\u001b[0;32m/home/mike/ve/keras/lib/python3.5/site-packages/numpy/lib/npyio.py\u001b[0m in \u001b[0;36mload\u001b[0;34m(file, mmap_mode, allow_pickle, fix_imports, encoding)\u001b[0m\n\u001b[1;32m    368\u001b[0m     \u001b[0mown_fid\u001b[0m \u001b[0;34m=\u001b[0m \u001b[0;32mFalse\u001b[0m\u001b[0;34m\u001b[0m\u001b[0m\n\u001b[1;32m    369\u001b[0m     \u001b[0;32mif\u001b[0m \u001b[0misinstance\u001b[0m\u001b[0;34m(\u001b[0m\u001b[0mfile\u001b[0m\u001b[0;34m,\u001b[0m \u001b[0mbasestring\u001b[0m\u001b[0;34m)\u001b[0m\u001b[0;34m:\u001b[0m\u001b[0;34m\u001b[0m\u001b[0m\n\u001b[0;32m--> 370\u001b[0;31m         \u001b[0mfid\u001b[0m \u001b[0;34m=\u001b[0m \u001b[0mopen\u001b[0m\u001b[0;34m(\u001b[0m\u001b[0mfile\u001b[0m\u001b[0;34m,\u001b[0m \u001b[0;34m\"rb\"\u001b[0m\u001b[0;34m)\u001b[0m\u001b[0;34m\u001b[0m\u001b[0m\n\u001b[0m\u001b[1;32m    371\u001b[0m         \u001b[0mown_fid\u001b[0m \u001b[0;34m=\u001b[0m \u001b[0;32mTrue\u001b[0m\u001b[0;34m\u001b[0m\u001b[0m\n\u001b[1;32m    372\u001b[0m     \u001b[0;32melif\u001b[0m \u001b[0mis_pathlib_path\u001b[0m\u001b[0;34m(\u001b[0m\u001b[0mfile\u001b[0m\u001b[0;34m)\u001b[0m\u001b[0;34m:\u001b[0m\u001b[0;34m\u001b[0m\u001b[0m\n",
      "\u001b[0;31mFileNotFoundError\u001b[0m: [Errno 2] No such file or directory: '/media/mike/tera/data/bowl17/resampled_images/1.3.6.1.4.1.14519.5.2.1.6279.6001.193808128386712859512130599234.mhd.npy'"
     ]
    }
   ],
   "source": [
    "K = 100\n",
    "N = 100 #len(dfs)\n",
    "for j in range(0,3):\n",
    "    tumor_volumes = []\n",
    "    neg_volumes = []\n",
    "    legend = []\n",
    "    for i in trange(j*K, (j+1)*K):\n",
    "        try:\n",
    "            vv, negs = get_multi_volume_from_row(df_node.iloc[i], luna_path, resamp_path)\n",
    "            if vv.shape == (48,48,48):\n",
    "                tumor_volumes.append(vv)\n",
    "                neg_volumes += negs\n",
    "            else:\n",
    "                print('borked')\n",
    "        except NotImplementedError as err:\n",
    "    #         print('{:03}:File not found'.format(i))\n",
    "            print(err)\n",
    "    np.save(luna_path + 'volumes_48/' + 'tumor_c_volumes{:02}'.format(j), tumor_volumes)\n",
    "    np.save(luna_path + 'volumes_48/' + 'neg_volumes{:02}'.format(j), neg_volumes)"
   ]
  },
  {
   "cell_type": "code",
   "execution_count": null,
   "metadata": {
    "collapsed": false,
    "deletable": true,
    "editable": true
   },
   "outputs": [],
   "source": [
    "tumor_volumes = np.array(tumor_volumes)\n",
    "print(tumor_volumes.shape)\n",
    "    \n",
    "    "
   ]
  },
  {
   "cell_type": "code",
   "execution_count": null,
   "metadata": {
    "collapsed": false,
    "deletable": true,
    "editable": true
   },
   "outputs": [],
   "source": []
  },
  {
   "cell_type": "code",
   "execution_count": null,
   "metadata": {
    "collapsed": true,
    "deletable": true,
    "editable": true
   },
   "outputs": [],
   "source": []
  },
  {
   "cell_type": "code",
   "execution_count": null,
   "metadata": {
    "collapsed": false,
    "deletable": true,
    "editable": true
   },
   "outputs": [],
   "source": [
    "\n",
    "\n",
    "K = 100\n",
    "for j in range(1,3):\n",
    "    neg_volumes = [] # memory cleanup\n",
    "    tumor_volumes = []\n",
    "    for i in trange(j*K, (j+1)*K):\n",
    "        try:\n",
    "            vv = get_tumor_randseries_from_row(dfs.iloc[i], luna_path, resamp_path)\n",
    "    #     if vv.shape == (48,48,48):\n",
    "            tumor_volumes += vv\n",
    "        except Exception as err:\n",
    "            print(err)\n",
    "    #     else:\n",
    "    #         print('borked')\n",
    "    np.save(luna_path + 'volumes_48/' + 'tumor_p_volumes{:02}'.format(j), tumor_volumes)"
   ]
  },
  {
   "cell_type": "code",
   "execution_count": null,
   "metadata": {
    "collapsed": false,
    "deletable": true,
    "editable": true
   },
   "outputs": [],
   "source": [
    "len(tumor_volumes)"
   ]
  },
  {
   "cell_type": "code",
   "execution_count": null,
   "metadata": {
    "collapsed": false,
    "deletable": true,
    "editable": true
   },
   "outputs": [],
   "source": [
    "plt.imshow(tumor_volumes[20][24])"
   ]
  },
  {
   "cell_type": "code",
   "execution_count": null,
   "metadata": {
    "collapsed": false,
    "deletable": true,
    "editable": true
   },
   "outputs": [],
   "source": [
    "tumor_volumes = np.load('/media/mike/tris/data/bowl17/luna/volumes_48/tumor_p_volumes01.npy')\n",
    "type(tumor_volumes), len(tumor_volumes)"
   ]
  },
  {
   "cell_type": "code",
   "execution_count": null,
   "metadata": {
    "collapsed": false,
    "deletable": true,
    "editable": true
   },
   "outputs": [],
   "source": [
    "tumor_volumes.shape"
   ]
  },
  {
   "cell_type": "code",
   "execution_count": null,
   "metadata": {
    "collapsed": false,
    "deletable": true,
    "editable": true
   },
   "outputs": [],
   "source": [
    "j = 0\n",
    "# np.save(luna_path + 'volumes_48/' + 'tumor_p_volumes{:02}'.format(j), tumor_volumes)"
   ]
  },
  {
   "cell_type": "code",
   "execution_count": null,
   "metadata": {
    "collapsed": true,
    "deletable": true,
    "editable": true
   },
   "outputs": [],
   "source": [
    "tumor_volumes = []"
   ]
  },
  {
   "cell_type": "code",
   "execution_count": null,
   "metadata": {
    "collapsed": false,
    "deletable": true,
    "editable": true
   },
   "outputs": [],
   "source": [
    "resamp_path"
   ]
  },
  {
   "cell_type": "code",
   "execution_count": null,
   "metadata": {
    "collapsed": false,
    "deletable": true,
    "editable": true
   },
   "outputs": [],
   "source": [
    "len(tumor_volumes), tumor_volumes[0].shape"
   ]
  },
  {
   "cell_type": "code",
   "execution_count": null,
   "metadata": {
    "collapsed": false,
    "deletable": true,
    "editable": true
   },
   "outputs": [],
   "source": [
    "tumor_volumes[0].dtype"
   ]
  },
  {
   "cell_type": "code",
   "execution_count": null,
   "metadata": {
    "collapsed": true,
    "deletable": true,
    "editable": true
   },
   "outputs": [],
   "source": [
    "tumor_volumes = np.array(tumor_volumes, dtype='int16')"
   ]
  },
  {
   "cell_type": "code",
   "execution_count": null,
   "metadata": {
    "collapsed": false,
    "deletable": true,
    "editable": true
   },
   "outputs": [],
   "source": [
    "tumor_volumes.shape"
   ]
  },
  {
   "cell_type": "code",
   "execution_count": null,
   "metadata": {
    "collapsed": true,
    "deletable": true,
    "editable": true
   },
   "outputs": [],
   "source": []
  }
 ],
 "metadata": {
  "_change_revision": 7,
  "_is_fork": false,
  "kernelspec": {
   "display_name": "Python 3",
   "language": "python",
   "name": "python3"
  },
  "language_info": {
   "codemirror_mode": {
    "name": "ipython",
    "version": 3
   },
   "file_extension": ".py",
   "mimetype": "text/x-python",
   "name": "python",
   "nbconvert_exporter": "python",
   "pygments_lexer": "ipython3",
   "version": "3.5.2"
  }
 },
 "nbformat": 4,
 "nbformat_minor": 0
}
